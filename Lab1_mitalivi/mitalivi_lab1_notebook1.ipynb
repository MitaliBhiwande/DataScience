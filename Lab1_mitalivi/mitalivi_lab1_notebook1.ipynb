{
 "cells": [
  {
   "cell_type": "markdown",
   "metadata": {},
   "source": [
    "# Exploring twitteR package library vignette. "
   ]
  },
  {
   "cell_type": "code",
   "execution_count": 1,
   "metadata": {
    "collapsed": false,
    "scrolled": true
   },
   "outputs": [
    {
     "name": "stderr",
     "output_type": "stream",
     "text": [
      "Updating HTML index of packages in '.Library'\n",
      "Making 'packages.html' ... done\n"
     ]
    }
   ],
   "source": [
    "install.packages(\"twitteR\")\n",
    "library(twitteR)"
   ]
  },
  {
   "cell_type": "code",
   "execution_count": 2,
   "metadata": {
    "collapsed": false
   },
   "outputs": [
    {
     "name": "stdout",
     "output_type": "stream",
     "text": [
      "[1] \"Using direct authentication\"\n"
     ]
    }
   ],
   "source": [
    "setup_twitter_oauth(\"oCLnyCtR2JWv2tSW7A0d3XMZS\",\"I1hEGV1On8VcSkNhbgAWfF3j6ui3Q7E7e9XvdUmP3ppqYHUCDC\",\"771845541844090880-aqIs0FZ5zlFWBGIFbxchiaBGeopjvGu\",\"B5QE70Imgy06FZMPceVKuj8oXl4hvB93DPz8bipZeW1p0\")"
   ]
  },
  {
   "cell_type": "code",
   "execution_count": 3,
   "metadata": {
    "collapsed": true
   },
   "outputs": [],
   "source": [
    "topictweets<-searchTwitter(\"#BossBaby\",n=25)"
   ]
  },
  {
   "cell_type": "code",
   "execution_count": 4,
   "metadata": {
    "collapsed": false
   },
   "outputs": [
    {
     "name": "stdout",
     "output_type": "stream",
     "text": [
      "[[1]]\n",
      "[1] \"larios57: RT @KidToyTesters: #BOSSBABY #Angrybirds #livestream New York Toy Fair 2017 https://t.co/t5tuCsZwnz\"\n",
      "\n",
      "[[2]]\n",
      "[1] \"KidToyTesters: #BOSSBABY #Angrybirds #livestream New York Toy Fair 2017 https://t.co/t5tuCsZwnz\"\n",
      "\n",
      "[[3]]\n",
      "[1] \"frackleworld: Boss Baby Vlogseries Cute Face #BossBaby, #movies, #trailers, #AlecBaldwin, #LisaKudrow https://t.co/hk4wczqX6q\"\n",
      "\n",
      "[[4]]\n",
      "[1] \"fracklenews: Boss Baby Vlogseries Cute Face #BossBaby, #movies, #trailers, #AlecBaldwin, #LisaKudrow https://t.co/XAAo319m7z\"\n",
      "\n",
      "[[5]]\n",
      "[1] \"MediaArtsReview: Boss Baby Vlogseries Cute Face #BossBaby, #movies, #trailers, #AlecBaldwin, #LisaKudrow https://t.co/Y5JykOD88S\"\n",
      "\n",
      "[[6]]\n",
      "[1] \"ifrackle: Boss Baby Vlogseries Cute Face #BossBaby, #movies, #trailers, #AlecBaldwin, #LisaKudrow https://t.co/N19YAAmfdG\"\n",
      "\n",
      "[[7]]\n",
      "[1] \"G_Liberty_Voice: Boss Baby Vlogseries Cute Face #BossBaby, #movies, #trailers, #AlecBaldwin, #LisaKudrow https://t.co/mS6zcNKSJf\"\n",
      "\n",
      "[[8]]\n",
      "[1] \"MiniCityStylist: Inspired by @JustinT__faans in a #bossbaby Tee! See link to download App + Characters + Outfits \\xed\\xa0\\xbd\\xed\\xb1\\xa6\\xed\\xa0\\xbc\\xed\\xbf\\xbb… https://t.co/xUi0EHa3In\"\n",
      "\n",
      "[[9]]\n",
      "[1] \"AaronUFC97: My sister wants to see #BossBaby\"\n",
      "\n",
      "[[10]]\n",
      "[1] \"larios57: RT @BNManassas: Learn your A-B-C's with #bossbaby #alwaysbeclosing #cookiesareforclosers #bnbuzz https://t.co/563dB6w8Lu\"\n",
      "\n",
      "[[11]]\n",
      "[1] \"hammradio: With #bossbaby and #rockdog releasing soon.  I think I can finally get President pineapple made.\"\n",
      "\n",
      "[[12]]\n",
      "[1] \"zackoh87: @realDonaldTrump @nytimes @NBCNews @ABC @CBS @CNN. actually Donald the #bossbaby #bossbabyis our enemy. the news isnt perfect but you suck\"\n",
      "\n",
      "[[13]]\n",
      "[1] \"Holstein023: RT @foxdeutschland: Dieses Baby hat die Hosen an! \\xed\\xa0\\xbd\\xed\\xb8\\x82 #BossBaby - ab 20. April im Kino! https://t.co/5L31vF560T\"\n",
      "\n",
      "[[14]]\n",
      "[1] \"BNManassas: Learn your A-B-C's with #bossbaby #alwaysbeclosing #cookiesareforclosers #bnbuzz https://t.co/563dB6w8Lu\"\n",
      "\n",
      "[[15]]\n",
      "[1] \"MsMellieB: Made my girls pose!! Next move on the list #BossBaby @AlecBaldwin https://t.co/Q08w5H3eOS\"\n",
      "\n",
      "[[16]]\n",
      "[1] \"sghrecords: Saw trailer for new movie that looks funny The Boss Baby #bossbaby #dreamworks https://t.co/aGKtK95gcy\"\n",
      "\n",
      "[[17]]\n",
      "[1] \"yertheboss: RT @DanMac2014: I may not be a #BossBaby but Baby, I am the boss! @AlecBaldwin I'll be coming to see it March 31st @CineplexMovies in @City…\"\n",
      "\n",
      "[[18]]\n",
      "[1] \"DanMac2014: I may not be a #BossBaby but Baby, I am the boss! @AlecBaldwin I'll be coming to see it March 31st @CineplexMovies… https://t.co/X2xpwiHwwm\"\n",
      "\n",
      "[[19]]\n",
      "[1] \"uTumie: #ThingsIBelievedInAsAChild\\n\\nJesus was a super baby who so fast that when his mom went to get him baby clothes, Tushu! He Was 12...#bossBaby\"\n",
      "\n",
      "[[20]]\n",
      "[1] \"FatemaAlAali: When parker's allow you in without the key because your baby is four months old \\xed\\xa0\\xbe\\xed\\xb4\\xa3\\xed\\xa0\\xbd\\xed\\xb2\\x99 #BossBaby\"\n",
      "\n",
      "[[21]]\n",
      "[1] \"VeeRexasaurus: @DWAnimation made a movie about Trump? #BOSSBABY\"\n",
      "\n",
      "[[22]]\n",
      "[1] \"The__Boss_Babe: So many haters- y'all make me even more successful!So keep hatin,Ima do me #BOSSBABY #Bosebabe #LikeABoss #makemoney https://t.co/0OEn597D0K\"\n",
      "\n",
      "[[23]]\n",
      "[1] \"weekdaysolution: Are you as sick of the 9 to 5 as I am? I found a solution! https://t.co/1c389BJPIT\\n#workfromhome #BOSSBABY #healthbenefits\"\n",
      "\n",
      "[[24]]\n",
      "[1] \"master_talker: RT @Kdhk786: Write back then\\n\\n#poll\\n#kiddo\\n#boss\\n#employee\\n#student\\n#fun\\n#bossbaby\\n#masters\\n#learners\\n#girls\\n#boys\\n#mens\\n#womans\\n#fictional…\"\n",
      "\n",
      "[[25]]\n",
      "[1] \"Kdhk786: Write back then\\n\\n#poll\\n#kiddo\\n#boss\\n#employee\\n#student\\n#fun\\n#bossbaby\\n#masters\\n#learners\\n#girls\\n#boys\\n#mens\\n#womans\\n#fictional\\n#nonfictonal\"\n",
      "\n"
     ]
    }
   ],
   "source": [
    "print(topictweets)"
   ]
  },
  {
   "cell_type": "code",
   "execution_count": 5,
   "metadata": {
    "collapsed": true
   },
   "outputs": [],
   "source": [
    "persontweets<-searchTwitter(\"#SelenaGomez\",n=25)"
   ]
  },
  {
   "cell_type": "code",
   "execution_count": 6,
   "metadata": {
    "collapsed": false
   },
   "outputs": [
    {
     "name": "stdout",
     "output_type": "stream",
     "text": [
      "[[1]]\n",
      "[1] \"larios57: RT @KidToyTesters: #BOSSBABY #Angrybirds #livestream New York Toy Fair 2017 https://t.co/t5tuCsZwnz\"\n",
      "\n",
      "[[2]]\n",
      "[1] \"KidToyTesters: #BOSSBABY #Angrybirds #livestream New York Toy Fair 2017 https://t.co/t5tuCsZwnz\"\n",
      "\n",
      "[[3]]\n",
      "[1] \"frackleworld: Boss Baby Vlogseries Cute Face #BossBaby, #movies, #trailers, #AlecBaldwin, #LisaKudrow https://t.co/hk4wczqX6q\"\n",
      "\n",
      "[[4]]\n",
      "[1] \"fracklenews: Boss Baby Vlogseries Cute Face #BossBaby, #movies, #trailers, #AlecBaldwin, #LisaKudrow https://t.co/XAAo319m7z\"\n",
      "\n",
      "[[5]]\n",
      "[1] \"MediaArtsReview: Boss Baby Vlogseries Cute Face #BossBaby, #movies, #trailers, #AlecBaldwin, #LisaKudrow https://t.co/Y5JykOD88S\"\n",
      "\n",
      "[[6]]\n",
      "[1] \"ifrackle: Boss Baby Vlogseries Cute Face #BossBaby, #movies, #trailers, #AlecBaldwin, #LisaKudrow https://t.co/N19YAAmfdG\"\n",
      "\n",
      "[[7]]\n",
      "[1] \"G_Liberty_Voice: Boss Baby Vlogseries Cute Face #BossBaby, #movies, #trailers, #AlecBaldwin, #LisaKudrow https://t.co/mS6zcNKSJf\"\n",
      "\n",
      "[[8]]\n",
      "[1] \"MiniCityStylist: Inspired by @JustinT__faans in a #bossbaby Tee! See link to download App + Characters + Outfits \\xed\\xa0\\xbd\\xed\\xb1\\xa6\\xed\\xa0\\xbc\\xed\\xbf\\xbb… https://t.co/xUi0EHa3In\"\n",
      "\n",
      "[[9]]\n",
      "[1] \"AaronUFC97: My sister wants to see #BossBaby\"\n",
      "\n",
      "[[10]]\n",
      "[1] \"larios57: RT @BNManassas: Learn your A-B-C's with #bossbaby #alwaysbeclosing #cookiesareforclosers #bnbuzz https://t.co/563dB6w8Lu\"\n",
      "\n",
      "[[11]]\n",
      "[1] \"hammradio: With #bossbaby and #rockdog releasing soon.  I think I can finally get President pineapple made.\"\n",
      "\n",
      "[[12]]\n",
      "[1] \"zackoh87: @realDonaldTrump @nytimes @NBCNews @ABC @CBS @CNN. actually Donald the #bossbaby #bossbabyis our enemy. the news isnt perfect but you suck\"\n",
      "\n",
      "[[13]]\n",
      "[1] \"Holstein023: RT @foxdeutschland: Dieses Baby hat die Hosen an! \\xed\\xa0\\xbd\\xed\\xb8\\x82 #BossBaby - ab 20. April im Kino! https://t.co/5L31vF560T\"\n",
      "\n",
      "[[14]]\n",
      "[1] \"BNManassas: Learn your A-B-C's with #bossbaby #alwaysbeclosing #cookiesareforclosers #bnbuzz https://t.co/563dB6w8Lu\"\n",
      "\n",
      "[[15]]\n",
      "[1] \"MsMellieB: Made my girls pose!! Next move on the list #BossBaby @AlecBaldwin https://t.co/Q08w5H3eOS\"\n",
      "\n",
      "[[16]]\n",
      "[1] \"sghrecords: Saw trailer for new movie that looks funny The Boss Baby #bossbaby #dreamworks https://t.co/aGKtK95gcy\"\n",
      "\n",
      "[[17]]\n",
      "[1] \"yertheboss: RT @DanMac2014: I may not be a #BossBaby but Baby, I am the boss! @AlecBaldwin I'll be coming to see it March 31st @CineplexMovies in @City…\"\n",
      "\n",
      "[[18]]\n",
      "[1] \"DanMac2014: I may not be a #BossBaby but Baby, I am the boss! @AlecBaldwin I'll be coming to see it March 31st @CineplexMovies… https://t.co/X2xpwiHwwm\"\n",
      "\n",
      "[[19]]\n",
      "[1] \"uTumie: #ThingsIBelievedInAsAChild\\n\\nJesus was a super baby who so fast that when his mom went to get him baby clothes, Tushu! He Was 12...#bossBaby\"\n",
      "\n",
      "[[20]]\n",
      "[1] \"FatemaAlAali: When parker's allow you in without the key because your baby is four months old \\xed\\xa0\\xbe\\xed\\xb4\\xa3\\xed\\xa0\\xbd\\xed\\xb2\\x99 #BossBaby\"\n",
      "\n",
      "[[21]]\n",
      "[1] \"VeeRexasaurus: @DWAnimation made a movie about Trump? #BOSSBABY\"\n",
      "\n",
      "[[22]]\n",
      "[1] \"The__Boss_Babe: So many haters- y'all make me even more successful!So keep hatin,Ima do me #BOSSBABY #Bosebabe #LikeABoss #makemoney https://t.co/0OEn597D0K\"\n",
      "\n",
      "[[23]]\n",
      "[1] \"weekdaysolution: Are you as sick of the 9 to 5 as I am? I found a solution! https://t.co/1c389BJPIT\\n#workfromhome #BOSSBABY #healthbenefits\"\n",
      "\n",
      "[[24]]\n",
      "[1] \"master_talker: RT @Kdhk786: Write back then\\n\\n#poll\\n#kiddo\\n#boss\\n#employee\\n#student\\n#fun\\n#bossbaby\\n#masters\\n#learners\\n#girls\\n#boys\\n#mens\\n#womans\\n#fictional…\"\n",
      "\n",
      "[[25]]\n",
      "[1] \"Kdhk786: Write back then\\n\\n#poll\\n#kiddo\\n#boss\\n#employee\\n#student\\n#fun\\n#bossbaby\\n#masters\\n#learners\\n#girls\\n#boys\\n#mens\\n#womans\\n#fictional\\n#nonfictonal\"\n",
      "\n"
     ]
    }
   ],
   "source": [
    "print(topictweets)"
   ]
  },
  {
   "cell_type": "code",
   "execution_count": 7,
   "metadata": {
    "collapsed": true
   },
   "outputs": [],
   "source": [
    "placetweets<-searchTwitter(\"#NewYorkCity\",n=25)"
   ]
  },
  {
   "cell_type": "code",
   "execution_count": 8,
   "metadata": {
    "collapsed": false
   },
   "outputs": [
    {
     "name": "stdout",
     "output_type": "stream",
     "text": [
      "[[1]]\n",
      "[1] \"asaphouse: #weddingdress #newyorkcity #streetphotography #streetshot @ Flatiron District, NYC https://t.co/F53gBKgtSn\"\n",
      "\n",
      "[[2]]\n",
      "[1] \"AnaHoneymoon: RT @MikeAdamOnAir: Which would you like to hear more in the 12 o'clock hour on #NewYorkCity's @923AMP!? #KatyPerry or #ArianaGrande? https:…\"\n",
      "\n",
      "[[3]]\n",
      "[1] \"guayaco53: #bulletproof #guns #gun #fail #fails #failure #ny #nyc #newyork #newyorkcity #lol #lmao #idiot… https://t.co/RFAMhPMsol\"\n",
      "\n",
      "[[4]]\n",
      "[1] \"2Gabriela_7: RT @NewYorkkcityy: Classic yellow #taxi! #NYC #newyorkcity #NewYork #yellow https://t.co/A4Wp7nl7dd\"\n",
      "\n",
      "[[5]]\n",
      "[1] \"asaphouse: Playing tourist! #kingkong #empirestatebuilding #newyorkcity @ New York, New York https://t.co/oMBJLuIqlU\"\n",
      "\n",
      "[[6]]\n",
      "[1] \"TomWinton: A Flushing New York love story that'll warm your heart - BEYOND NOSTALGIA https://t.co/WhsArFzNH2 #NewYorkCity #NYC… https://t.co/thTQ6LOFwo\"\n",
      "\n",
      "[[7]]\n",
      "[1] \"blissinlondon: RT @isardasorensen: Stunning #sunset sky over the World Trade Center tonight in #NYC. #NewYork #NewYorkCity https://t.co/AiqumrvwqQ\"\n",
      "\n",
      "[[8]]\n",
      "[1] \"shaynna57080572: RT @NewYorkkcityy: \\xed\\xa0\\xbd\\xed\\xb7\\xbd #NYC #NewYork #newyorkcity https://t.co/eUle7yrgau\"\n",
      "\n",
      "[[9]]\n",
      "[1] \"CentralAriBra_: RT @MikeAdamOnAir: Which would you like to hear more in the 12 o'clock hour on #NewYorkCity's @923AMP!? #KatyPerry or #ArianaGrande? https:…\"\n",
      "\n",
      "[[10]]\n",
      "[1] \"R3vERb: #GumshoeSoup\\n#GumshoeArt\\n#StreetArt #Mural\\n#Brooklyn #NYC \\n#NewYorkCity #NewYork… https://t.co/7viBR7aCO1\"\n",
      "\n",
      "[[11]]\n",
      "[1] \"AspieChronic: #newyork #nyc #newyorkcity #chrysler #buildings #skylines #lights #ny #manhattan #usa #wallart #gallery… https://t.co/QstfGjwv85\"\n",
      "\n",
      "[[12]]\n",
      "[1] \"R3vERb: #GumshoeSoup\\n#GumshoeArt\\n#StreetArt #Mural\\n#Brooklyn #NYC \\n#NewYorkCity #NewYork… https://t.co/vYJYEgGlWs\"\n",
      "\n",
      "[[13]]\n",
      "[1] \"sharpenedquill: #NEWYORKCITY #cats need help getting out of their #NYC AC&amp;C -- here's more information: https://t.co/eFVueRwfPm\"\n",
      "\n",
      "[[14]]\n",
      "[1] \"R3vERb: #GumshoeSoup\\n#GumshoeArt\\n#StreetArt #Mural\\n#Brooklyn #NYC \\n#NewYorkCity #NewYork… https://t.co/UFuoiwJbBJ\"\n",
      "\n",
      "[[15]]\n",
      "[1] \"S4L7Y: RT @isardasorensen: Stunning #sunset sky over the World Trade Center tonight in #NYC. #NewYork #NewYorkCity https://t.co/AiqumrvwqQ\"\n",
      "\n",
      "[[16]]\n",
      "[1] \"sharpenedquill: https://t.co/cJ1LqgDNcj @blindcatrescue #tabbies #NEWYORKCITY #NYC #cats\"\n",
      "\n",
      "[[17]]\n",
      "[1] \"EcoBeautyDiva: Itty bitty Tinnie winnie #newyorkcity #nyc @ Time Warner Center South Tower https://t.co/EI6M2BYwRy\"\n",
      "\n",
      "[[18]]\n",
      "[1] \"sharpenedquill: https://t.co/fqsMTYsKt7 #NEWYORKCITY #cats #tortielove #torties\"\n",
      "\n",
      "[[19]]\n",
      "[1] \"discovering_NYC: RT @InSirchOf: Under Eagle's Wings. @OneWorldNYC seen through the #Oculus @CanonUSA #nyc #newyork #newyorkcity @nycfeelings @NYCDailyPics @…\"\n",
      "\n",
      "[[20]]\n",
      "[1] \"OneWeekLoveFilm: RT @isardasorensen: Stunning #sunset sky over the World Trade Center tonight in #NYC. #NewYork #NewYorkCity https://t.co/AiqumrvwqQ\"\n",
      "\n",
      "[[21]]\n",
      "[1] \"sharpenedquill: Sociable BARDOT's shy buddy is the girl #cat BRENDA!  #NYC #NEWYORKCITY #cats https://t.co/CquX6RHixI\"\n",
      "\n",
      "[[22]]\n",
      "[1] \"yaha1998: RT @MikeAdamOnAir: Which would you like to hear more in the 12 o'clock hour on #NewYorkCity's @923AMP!? #KatyPerry or #ArianaGrande? https:…\"\n",
      "\n",
      "[[23]]\n",
      "[1] \"sebftbrent: RT @MikeAdamOnAir: Which would you like to hear more in the 12 o'clock hour on #NewYorkCity's @923AMP!? #KatyPerry or #ArianaGrande? https:…\"\n",
      "\n",
      "[[24]]\n",
      "[1] \"debbytravels: RT @heykim: #Exhale RT @isardasorensen: Stunning #sunset sky over the World Trade Center tonight in #NYC. #NewYork #NewYorkCity https://t.c…\"\n",
      "\n",
      "[[25]]\n",
      "[1] \"hellbENT912: RT @isardasorensen: Stunning #sunset sky over the World Trade Center tonight in #NYC. #NewYork #NewYorkCity https://t.co/AiqumrvwqQ\"\n",
      "\n"
     ]
    }
   ],
   "source": [
    "print(placetweets)"
   ]
  },
  {
   "cell_type": "code",
   "execution_count": 9,
   "metadata": {
    "collapsed": false
   },
   "outputs": [
    {
     "data": {
      "text/html": [
       "<table>\n",
       "<thead><tr><th></th><th scope=col>mpg</th><th scope=col>cyl</th><th scope=col>disp</th><th scope=col>hp</th><th scope=col>drat</th><th scope=col>wt</th><th scope=col>qsec</th><th scope=col>vs</th><th scope=col>am</th><th scope=col>gear</th><th scope=col>carb</th></tr></thead>\n",
       "<tbody>\n",
       "\t<tr><th scope=row>Mazda RX4</th><td>21.0 </td><td>6    </td><td>160.0</td><td>110  </td><td>3.90 </td><td>2.620</td><td>16.46</td><td>0    </td><td>1    </td><td>4    </td><td>4    </td></tr>\n",
       "\t<tr><th scope=row>Mazda RX4 Wag</th><td>21.0 </td><td>6    </td><td>160.0</td><td>110  </td><td>3.90 </td><td>2.875</td><td>17.02</td><td>0    </td><td>1    </td><td>4    </td><td>4    </td></tr>\n",
       "\t<tr><th scope=row>Datsun 710</th><td>22.8 </td><td>4    </td><td>108.0</td><td> 93  </td><td>3.85 </td><td>2.320</td><td>18.61</td><td>1    </td><td>1    </td><td>4    </td><td>1    </td></tr>\n",
       "\t<tr><th scope=row>Hornet 4 Drive</th><td>21.4 </td><td>6    </td><td>258.0</td><td>110  </td><td>3.08 </td><td>3.215</td><td>19.44</td><td>1    </td><td>0    </td><td>3    </td><td>1    </td></tr>\n",
       "\t<tr><th scope=row>Hornet Sportabout</th><td>18.7 </td><td>8    </td><td>360.0</td><td>175  </td><td>3.15 </td><td>3.440</td><td>17.02</td><td>0    </td><td>0    </td><td>3    </td><td>2    </td></tr>\n",
       "\t<tr><th scope=row>Valiant</th><td>18.1 </td><td>6    </td><td>225.0</td><td>105  </td><td>2.76 </td><td>3.460</td><td>20.22</td><td>1    </td><td>0    </td><td>3    </td><td>1    </td></tr>\n",
       "\t<tr><th scope=row>Duster 360</th><td>14.3 </td><td>8    </td><td>360.0</td><td>245  </td><td>3.21 </td><td>3.570</td><td>15.84</td><td>0    </td><td>0    </td><td>3    </td><td>4    </td></tr>\n",
       "\t<tr><th scope=row>Merc 240D</th><td>24.4 </td><td>4    </td><td>146.7</td><td> 62  </td><td>3.69 </td><td>3.190</td><td>20.00</td><td>1    </td><td>0    </td><td>4    </td><td>2    </td></tr>\n",
       "\t<tr><th scope=row>Merc 230</th><td>22.8 </td><td>4    </td><td>140.8</td><td> 95  </td><td>3.92 </td><td>3.150</td><td>22.90</td><td>1    </td><td>0    </td><td>4    </td><td>2    </td></tr>\n",
       "\t<tr><th scope=row>Merc 280</th><td>19.2 </td><td>6    </td><td>167.6</td><td>123  </td><td>3.92 </td><td>3.440</td><td>18.30</td><td>1    </td><td>0    </td><td>4    </td><td>4    </td></tr>\n",
       "\t<tr><th scope=row>Merc 280C</th><td>17.8 </td><td>6    </td><td>167.6</td><td>123  </td><td>3.92 </td><td>3.440</td><td>18.90</td><td>1    </td><td>0    </td><td>4    </td><td>4    </td></tr>\n",
       "\t<tr><th scope=row>Merc 450SE</th><td>16.4 </td><td>8    </td><td>275.8</td><td>180  </td><td>3.07 </td><td>4.070</td><td>17.40</td><td>0    </td><td>0    </td><td>3    </td><td>3    </td></tr>\n",
       "\t<tr><th scope=row>Merc 450SL</th><td>17.3 </td><td>8    </td><td>275.8</td><td>180  </td><td>3.07 </td><td>3.730</td><td>17.60</td><td>0    </td><td>0    </td><td>3    </td><td>3    </td></tr>\n",
       "\t<tr><th scope=row>Merc 450SLC</th><td>15.2 </td><td>8    </td><td>275.8</td><td>180  </td><td>3.07 </td><td>3.780</td><td>18.00</td><td>0    </td><td>0    </td><td>3    </td><td>3    </td></tr>\n",
       "\t<tr><th scope=row>Cadillac Fleetwood</th><td>10.4 </td><td>8    </td><td>472.0</td><td>205  </td><td>2.93 </td><td>5.250</td><td>17.98</td><td>0    </td><td>0    </td><td>3    </td><td>4    </td></tr>\n",
       "\t<tr><th scope=row>Lincoln Continental</th><td>10.4 </td><td>8    </td><td>460.0</td><td>215  </td><td>3.00 </td><td>5.424</td><td>17.82</td><td>0    </td><td>0    </td><td>3    </td><td>4    </td></tr>\n",
       "\t<tr><th scope=row>Chrysler Imperial</th><td>14.7 </td><td>8    </td><td>440.0</td><td>230  </td><td>3.23 </td><td>5.345</td><td>17.42</td><td>0    </td><td>0    </td><td>3    </td><td>4    </td></tr>\n",
       "\t<tr><th scope=row>Fiat 128</th><td>32.4 </td><td>4    </td><td> 78.7</td><td> 66  </td><td>4.08 </td><td>2.200</td><td>19.47</td><td>1    </td><td>1    </td><td>4    </td><td>1    </td></tr>\n",
       "\t<tr><th scope=row>Honda Civic</th><td>30.4 </td><td>4    </td><td> 75.7</td><td> 52  </td><td>4.93 </td><td>1.615</td><td>18.52</td><td>1    </td><td>1    </td><td>4    </td><td>2    </td></tr>\n",
       "\t<tr><th scope=row>Toyota Corolla</th><td>33.9 </td><td>4    </td><td> 71.1</td><td> 65  </td><td>4.22 </td><td>1.835</td><td>19.90</td><td>1    </td><td>1    </td><td>4    </td><td>1    </td></tr>\n",
       "\t<tr><th scope=row>Toyota Corona</th><td>21.5 </td><td>4    </td><td>120.1</td><td> 97  </td><td>3.70 </td><td>2.465</td><td>20.01</td><td>1    </td><td>0    </td><td>3    </td><td>1    </td></tr>\n",
       "\t<tr><th scope=row>Dodge Challenger</th><td>15.5 </td><td>8    </td><td>318.0</td><td>150  </td><td>2.76 </td><td>3.520</td><td>16.87</td><td>0    </td><td>0    </td><td>3    </td><td>2    </td></tr>\n",
       "\t<tr><th scope=row>AMC Javelin</th><td>15.2 </td><td>8    </td><td>304.0</td><td>150  </td><td>3.15 </td><td>3.435</td><td>17.30</td><td>0    </td><td>0    </td><td>3    </td><td>2    </td></tr>\n",
       "\t<tr><th scope=row>Camaro Z28</th><td>13.3 </td><td>8    </td><td>350.0</td><td>245  </td><td>3.73 </td><td>3.840</td><td>15.41</td><td>0    </td><td>0    </td><td>3    </td><td>4    </td></tr>\n",
       "\t<tr><th scope=row>Pontiac Firebird</th><td>19.2 </td><td>8    </td><td>400.0</td><td>175  </td><td>3.08 </td><td>3.845</td><td>17.05</td><td>0    </td><td>0    </td><td>3    </td><td>2    </td></tr>\n",
       "\t<tr><th scope=row>Fiat X1-9</th><td>27.3 </td><td>4    </td><td> 79.0</td><td> 66  </td><td>4.08 </td><td>1.935</td><td>18.90</td><td>1    </td><td>1    </td><td>4    </td><td>1    </td></tr>\n",
       "\t<tr><th scope=row>Porsche 914-2</th><td>26.0 </td><td>4    </td><td>120.3</td><td> 91  </td><td>4.43 </td><td>2.140</td><td>16.70</td><td>0    </td><td>1    </td><td>5    </td><td>2    </td></tr>\n",
       "\t<tr><th scope=row>Lotus Europa</th><td>30.4 </td><td>4    </td><td> 95.1</td><td>113  </td><td>3.77 </td><td>1.513</td><td>16.90</td><td>1    </td><td>1    </td><td>5    </td><td>2    </td></tr>\n",
       "\t<tr><th scope=row>Ford Pantera L</th><td>15.8 </td><td>8    </td><td>351.0</td><td>264  </td><td>4.22 </td><td>3.170</td><td>14.50</td><td>0    </td><td>1    </td><td>5    </td><td>4    </td></tr>\n",
       "\t<tr><th scope=row>Ferrari Dino</th><td>19.7 </td><td>6    </td><td>145.0</td><td>175  </td><td>3.62 </td><td>2.770</td><td>15.50</td><td>0    </td><td>1    </td><td>5    </td><td>6    </td></tr>\n",
       "\t<tr><th scope=row>Maserati Bora</th><td>15.0 </td><td>8    </td><td>301.0</td><td>335  </td><td>3.54 </td><td>3.570</td><td>14.60</td><td>0    </td><td>1    </td><td>5    </td><td>8    </td></tr>\n",
       "\t<tr><th scope=row>Volvo 142E</th><td>21.4 </td><td>4    </td><td>121.0</td><td>109  </td><td>4.11 </td><td>2.780</td><td>18.60</td><td>1    </td><td>1    </td><td>4    </td><td>2    </td></tr>\n",
       "</tbody>\n",
       "</table>\n"
      ],
      "text/latex": [
       "\\begin{tabular}{r|lllllllllll}\n",
       "  & mpg & cyl & disp & hp & drat & wt & qsec & vs & am & gear & carb\\\\\n",
       "\\hline\n",
       "\tMazda RX4 & 21.0  & 6     & 160.0 & 110   & 3.90  & 2.620 & 16.46 & 0     & 1     & 4     & 4    \\\\\n",
       "\tMazda RX4 Wag & 21.0  & 6     & 160.0 & 110   & 3.90  & 2.875 & 17.02 & 0     & 1     & 4     & 4    \\\\\n",
       "\tDatsun 710 & 22.8  & 4     & 108.0 &  93   & 3.85  & 2.320 & 18.61 & 1     & 1     & 4     & 1    \\\\\n",
       "\tHornet 4 Drive & 21.4  & 6     & 258.0 & 110   & 3.08  & 3.215 & 19.44 & 1     & 0     & 3     & 1    \\\\\n",
       "\tHornet Sportabout & 18.7  & 8     & 360.0 & 175   & 3.15  & 3.440 & 17.02 & 0     & 0     & 3     & 2    \\\\\n",
       "\tValiant & 18.1  & 6     & 225.0 & 105   & 2.76  & 3.460 & 20.22 & 1     & 0     & 3     & 1    \\\\\n",
       "\tDuster 360 & 14.3  & 8     & 360.0 & 245   & 3.21  & 3.570 & 15.84 & 0     & 0     & 3     & 4    \\\\\n",
       "\tMerc 240D & 24.4  & 4     & 146.7 &  62   & 3.69  & 3.190 & 20.00 & 1     & 0     & 4     & 2    \\\\\n",
       "\tMerc 230 & 22.8  & 4     & 140.8 &  95   & 3.92  & 3.150 & 22.90 & 1     & 0     & 4     & 2    \\\\\n",
       "\tMerc 280 & 19.2  & 6     & 167.6 & 123   & 3.92  & 3.440 & 18.30 & 1     & 0     & 4     & 4    \\\\\n",
       "\tMerc 280C & 17.8  & 6     & 167.6 & 123   & 3.92  & 3.440 & 18.90 & 1     & 0     & 4     & 4    \\\\\n",
       "\tMerc 450SE & 16.4  & 8     & 275.8 & 180   & 3.07  & 4.070 & 17.40 & 0     & 0     & 3     & 3    \\\\\n",
       "\tMerc 450SL & 17.3  & 8     & 275.8 & 180   & 3.07  & 3.730 & 17.60 & 0     & 0     & 3     & 3    \\\\\n",
       "\tMerc 450SLC & 15.2  & 8     & 275.8 & 180   & 3.07  & 3.780 & 18.00 & 0     & 0     & 3     & 3    \\\\\n",
       "\tCadillac Fleetwood & 10.4  & 8     & 472.0 & 205   & 2.93  & 5.250 & 17.98 & 0     & 0     & 3     & 4    \\\\\n",
       "\tLincoln Continental & 10.4  & 8     & 460.0 & 215   & 3.00  & 5.424 & 17.82 & 0     & 0     & 3     & 4    \\\\\n",
       "\tChrysler Imperial & 14.7  & 8     & 440.0 & 230   & 3.23  & 5.345 & 17.42 & 0     & 0     & 3     & 4    \\\\\n",
       "\tFiat 128 & 32.4  & 4     &  78.7 &  66   & 4.08  & 2.200 & 19.47 & 1     & 1     & 4     & 1    \\\\\n",
       "\tHonda Civic & 30.4  & 4     &  75.7 &  52   & 4.93  & 1.615 & 18.52 & 1     & 1     & 4     & 2    \\\\\n",
       "\tToyota Corolla & 33.9  & 4     &  71.1 &  65   & 4.22  & 1.835 & 19.90 & 1     & 1     & 4     & 1    \\\\\n",
       "\tToyota Corona & 21.5  & 4     & 120.1 &  97   & 3.70  & 2.465 & 20.01 & 1     & 0     & 3     & 1    \\\\\n",
       "\tDodge Challenger & 15.5  & 8     & 318.0 & 150   & 2.76  & 3.520 & 16.87 & 0     & 0     & 3     & 2    \\\\\n",
       "\tAMC Javelin & 15.2  & 8     & 304.0 & 150   & 3.15  & 3.435 & 17.30 & 0     & 0     & 3     & 2    \\\\\n",
       "\tCamaro Z28 & 13.3  & 8     & 350.0 & 245   & 3.73  & 3.840 & 15.41 & 0     & 0     & 3     & 4    \\\\\n",
       "\tPontiac Firebird & 19.2  & 8     & 400.0 & 175   & 3.08  & 3.845 & 17.05 & 0     & 0     & 3     & 2    \\\\\n",
       "\tFiat X1-9 & 27.3  & 4     &  79.0 &  66   & 4.08  & 1.935 & 18.90 & 1     & 1     & 4     & 1    \\\\\n",
       "\tPorsche 914-2 & 26.0  & 4     & 120.3 &  91   & 4.43  & 2.140 & 16.70 & 0     & 1     & 5     & 2    \\\\\n",
       "\tLotus Europa & 30.4  & 4     &  95.1 & 113   & 3.77  & 1.513 & 16.90 & 1     & 1     & 5     & 2    \\\\\n",
       "\tFord Pantera L & 15.8  & 8     & 351.0 & 264   & 4.22  & 3.170 & 14.50 & 0     & 1     & 5     & 4    \\\\\n",
       "\tFerrari Dino & 19.7  & 6     & 145.0 & 175   & 3.62  & 2.770 & 15.50 & 0     & 1     & 5     & 6    \\\\\n",
       "\tMaserati Bora & 15.0  & 8     & 301.0 & 335   & 3.54  & 3.570 & 14.60 & 0     & 1     & 5     & 8    \\\\\n",
       "\tVolvo 142E & 21.4  & 4     & 121.0 & 109   & 4.11  & 2.780 & 18.60 & 1     & 1     & 4     & 2    \\\\\n",
       "\\end{tabular}\n"
      ],
      "text/markdown": [
       "\n",
       "| <!--/--> | mpg | cyl | disp | hp | drat | wt | qsec | vs | am | gear | carb | \n",
       "|---|---|---|---|---|---|---|---|---|---|---|---|---|---|---|---|---|---|---|---|---|---|---|---|---|---|---|---|---|---|---|---|\n",
       "| Mazda RX4 | 21.0  | 6     | 160.0 | 110   | 3.90  | 2.620 | 16.46 | 0     | 1     | 4     | 4     | \n",
       "| Mazda RX4 Wag | 21.0  | 6     | 160.0 | 110   | 3.90  | 2.875 | 17.02 | 0     | 1     | 4     | 4     | \n",
       "| Datsun 710 | 22.8  | 4     | 108.0 |  93   | 3.85  | 2.320 | 18.61 | 1     | 1     | 4     | 1     | \n",
       "| Hornet 4 Drive | 21.4  | 6     | 258.0 | 110   | 3.08  | 3.215 | 19.44 | 1     | 0     | 3     | 1     | \n",
       "| Hornet Sportabout | 18.7  | 8     | 360.0 | 175   | 3.15  | 3.440 | 17.02 | 0     | 0     | 3     | 2     | \n",
       "| Valiant | 18.1  | 6     | 225.0 | 105   | 2.76  | 3.460 | 20.22 | 1     | 0     | 3     | 1     | \n",
       "| Duster 360 | 14.3  | 8     | 360.0 | 245   | 3.21  | 3.570 | 15.84 | 0     | 0     | 3     | 4     | \n",
       "| Merc 240D | 24.4  | 4     | 146.7 |  62   | 3.69  | 3.190 | 20.00 | 1     | 0     | 4     | 2     | \n",
       "| Merc 230 | 22.8  | 4     | 140.8 |  95   | 3.92  | 3.150 | 22.90 | 1     | 0     | 4     | 2     | \n",
       "| Merc 280 | 19.2  | 6     | 167.6 | 123   | 3.92  | 3.440 | 18.30 | 1     | 0     | 4     | 4     | \n",
       "| Merc 280C | 17.8  | 6     | 167.6 | 123   | 3.92  | 3.440 | 18.90 | 1     | 0     | 4     | 4     | \n",
       "| Merc 450SE | 16.4  | 8     | 275.8 | 180   | 3.07  | 4.070 | 17.40 | 0     | 0     | 3     | 3     | \n",
       "| Merc 450SL | 17.3  | 8     | 275.8 | 180   | 3.07  | 3.730 | 17.60 | 0     | 0     | 3     | 3     | \n",
       "| Merc 450SLC | 15.2  | 8     | 275.8 | 180   | 3.07  | 3.780 | 18.00 | 0     | 0     | 3     | 3     | \n",
       "| Cadillac Fleetwood | 10.4  | 8     | 472.0 | 205   | 2.93  | 5.250 | 17.98 | 0     | 0     | 3     | 4     | \n",
       "| Lincoln Continental | 10.4  | 8     | 460.0 | 215   | 3.00  | 5.424 | 17.82 | 0     | 0     | 3     | 4     | \n",
       "| Chrysler Imperial | 14.7  | 8     | 440.0 | 230   | 3.23  | 5.345 | 17.42 | 0     | 0     | 3     | 4     | \n",
       "| Fiat 128 | 32.4  | 4     |  78.7 |  66   | 4.08  | 2.200 | 19.47 | 1     | 1     | 4     | 1     | \n",
       "| Honda Civic | 30.4  | 4     |  75.7 |  52   | 4.93  | 1.615 | 18.52 | 1     | 1     | 4     | 2     | \n",
       "| Toyota Corolla | 33.9  | 4     |  71.1 |  65   | 4.22  | 1.835 | 19.90 | 1     | 1     | 4     | 1     | \n",
       "| Toyota Corona | 21.5  | 4     | 120.1 |  97   | 3.70  | 2.465 | 20.01 | 1     | 0     | 3     | 1     | \n",
       "| Dodge Challenger | 15.5  | 8     | 318.0 | 150   | 2.76  | 3.520 | 16.87 | 0     | 0     | 3     | 2     | \n",
       "| AMC Javelin | 15.2  | 8     | 304.0 | 150   | 3.15  | 3.435 | 17.30 | 0     | 0     | 3     | 2     | \n",
       "| Camaro Z28 | 13.3  | 8     | 350.0 | 245   | 3.73  | 3.840 | 15.41 | 0     | 0     | 3     | 4     | \n",
       "| Pontiac Firebird | 19.2  | 8     | 400.0 | 175   | 3.08  | 3.845 | 17.05 | 0     | 0     | 3     | 2     | \n",
       "| Fiat X1-9 | 27.3  | 4     |  79.0 |  66   | 4.08  | 1.935 | 18.90 | 1     | 1     | 4     | 1     | \n",
       "| Porsche 914-2 | 26.0  | 4     | 120.3 |  91   | 4.43  | 2.140 | 16.70 | 0     | 1     | 5     | 2     | \n",
       "| Lotus Europa | 30.4  | 4     |  95.1 | 113   | 3.77  | 1.513 | 16.90 | 1     | 1     | 5     | 2     | \n",
       "| Ford Pantera L | 15.8  | 8     | 351.0 | 264   | 4.22  | 3.170 | 14.50 | 0     | 1     | 5     | 4     | \n",
       "| Ferrari Dino | 19.7  | 6     | 145.0 | 175   | 3.62  | 2.770 | 15.50 | 0     | 1     | 5     | 6     | \n",
       "| Maserati Bora | 15.0  | 8     | 301.0 | 335   | 3.54  | 3.570 | 14.60 | 0     | 1     | 5     | 8     | \n",
       "| Volvo 142E | 21.4  | 4     | 121.0 | 109   | 4.11  | 2.780 | 18.60 | 1     | 1     | 4     | 2     | \n",
       "\n",
       "\n"
      ],
      "text/plain": [
       "                    mpg  cyl disp  hp  drat wt    qsec  vs am gear carb\n",
       "Mazda RX4           21.0 6   160.0 110 3.90 2.620 16.46 0  1  4    4   \n",
       "Mazda RX4 Wag       21.0 6   160.0 110 3.90 2.875 17.02 0  1  4    4   \n",
       "Datsun 710          22.8 4   108.0  93 3.85 2.320 18.61 1  1  4    1   \n",
       "Hornet 4 Drive      21.4 6   258.0 110 3.08 3.215 19.44 1  0  3    1   \n",
       "Hornet Sportabout   18.7 8   360.0 175 3.15 3.440 17.02 0  0  3    2   \n",
       "Valiant             18.1 6   225.0 105 2.76 3.460 20.22 1  0  3    1   \n",
       "Duster 360          14.3 8   360.0 245 3.21 3.570 15.84 0  0  3    4   \n",
       "Merc 240D           24.4 4   146.7  62 3.69 3.190 20.00 1  0  4    2   \n",
       "Merc 230            22.8 4   140.8  95 3.92 3.150 22.90 1  0  4    2   \n",
       "Merc 280            19.2 6   167.6 123 3.92 3.440 18.30 1  0  4    4   \n",
       "Merc 280C           17.8 6   167.6 123 3.92 3.440 18.90 1  0  4    4   \n",
       "Merc 450SE          16.4 8   275.8 180 3.07 4.070 17.40 0  0  3    3   \n",
       "Merc 450SL          17.3 8   275.8 180 3.07 3.730 17.60 0  0  3    3   \n",
       "Merc 450SLC         15.2 8   275.8 180 3.07 3.780 18.00 0  0  3    3   \n",
       "Cadillac Fleetwood  10.4 8   472.0 205 2.93 5.250 17.98 0  0  3    4   \n",
       "Lincoln Continental 10.4 8   460.0 215 3.00 5.424 17.82 0  0  3    4   \n",
       "Chrysler Imperial   14.7 8   440.0 230 3.23 5.345 17.42 0  0  3    4   \n",
       "Fiat 128            32.4 4    78.7  66 4.08 2.200 19.47 1  1  4    1   \n",
       "Honda Civic         30.4 4    75.7  52 4.93 1.615 18.52 1  1  4    2   \n",
       "Toyota Corolla      33.9 4    71.1  65 4.22 1.835 19.90 1  1  4    1   \n",
       "Toyota Corona       21.5 4   120.1  97 3.70 2.465 20.01 1  0  3    1   \n",
       "Dodge Challenger    15.5 8   318.0 150 2.76 3.520 16.87 0  0  3    2   \n",
       "AMC Javelin         15.2 8   304.0 150 3.15 3.435 17.30 0  0  3    2   \n",
       "Camaro Z28          13.3 8   350.0 245 3.73 3.840 15.41 0  0  3    4   \n",
       "Pontiac Firebird    19.2 8   400.0 175 3.08 3.845 17.05 0  0  3    2   \n",
       "Fiat X1-9           27.3 4    79.0  66 4.08 1.935 18.90 1  1  4    1   \n",
       "Porsche 914-2       26.0 4   120.3  91 4.43 2.140 16.70 0  1  5    2   \n",
       "Lotus Europa        30.4 4    95.1 113 3.77 1.513 16.90 1  1  5    2   \n",
       "Ford Pantera L      15.8 8   351.0 264 4.22 3.170 14.50 0  1  5    4   \n",
       "Ferrari Dino        19.7 6   145.0 175 3.62 2.770 15.50 0  1  5    6   \n",
       "Maserati Bora       15.0 8   301.0 335 3.54 3.570 14.60 0  1  5    8   \n",
       "Volvo 142E          21.4 4   121.0 109 4.11 2.780 18.60 1  1  4    2   "
      ]
     },
     "metadata": {},
     "output_type": "display_data"
    },
    {
     "data": {
      "image/png": "[encoded data removed]",
      "text/plain": [
       "plot without title"
      ]
     },
     "metadata": {},
     "output_type": "display_data"
    }
   ],
   "source": [
    "library(datasets)\n",
    "mtcars\n",
    "plot(x=mtcars$wt, y=mtcars$mpg)"
   ]
  },
  {
   "cell_type": "code",
   "execution_count": 11,
   "metadata": {
    "collapsed": false
   },
   "outputs": [
    {
     "data": {
      "text/plain": [
       "[[1]]\n",
       "[1] \"kitharingtoncom: Post updated with newly released casting information https://t.co/yA46wcan4z\"\n",
       "\n",
       "[[2]]\n",
       "[1] \"kitharingtoncom: @callum_lamb98 Nice. I live near Newcastle so not too far away. He's a producer on it too so imagine he'll be around for the majority of it\"\n",
       "\n",
       "[[3]]\n",
       "[1] \"kitharingtoncom: @callum_lamb98 I don't. There's been very little info on it released. I'm not even sure how long for as Victoria is filming the same week\"\n",
       "\n",
       "[[4]]\n",
       "[1] \"kitharingtoncom: @AthenaElias No. Hull in the UK\"\n",
       "\n",
       "[[5]]\n",
       "[1] \"kitharingtoncom: New post: New Project: Gunpowder + Filming News - https://t.co/bVRAjWQrUP #KitHarington\"\n"
      ]
     },
     "metadata": {},
     "output_type": "display_data"
    }
   ],
   "source": [
    "usertimelinetweets<-userTimeline('kitharingtoncom')\n",
    "usertimelinetweets[1:5]"
   ]
  },
  {
   "cell_type": "markdown",
   "metadata": {},
   "source": [
    "# References:\n",
    "## http://geoffjentry.hexdump.org/twitteR.pdf"
   ]
  }
 ],
 "metadata": {
  "kernelspec": {
   "display_name": "R",
   "language": "R",
   "name": "ir"
  },
  "language_info": {
   "codemirror_mode": "r",
   "file_extension": ".r",
   "mimetype": "text/x-r-source",
   "name": "R",
   "pygments_lexer": "r",
   "version": "3.3.2"
  }
 },
 "nbformat": 4,
 "nbformat_minor": 2
}
