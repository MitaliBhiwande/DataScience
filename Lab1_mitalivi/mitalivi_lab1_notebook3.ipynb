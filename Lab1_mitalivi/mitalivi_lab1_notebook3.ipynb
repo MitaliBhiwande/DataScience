{
 "cells": [
  {
   "cell_type": "code",
   "execution_count": 1,
   "metadata": {
    "collapsed": false
   },
   "outputs": [
    {
     "name": "stderr",
     "output_type": "stream",
     "text": [
      "Updating HTML index of packages in '.Library'\n",
      "Making 'packages.html' ... done\n",
      "Updating HTML index of packages in '.Library'\n",
      "Making 'packages.html' ... done\n",
      "Loading required package: ggplot2\n"
     ]
    }
   ],
   "source": [
    "#install necessary packages and access their libraries\n",
    "install.packages(\"twitteR\")\n",
    "install.packages(\"ggmap\")\n",
    "library(twitteR)\n",
    "library(ggmap)"
   ]
  },
  {
   "cell_type": "code",
   "execution_count": 2,
   "metadata": {
    "collapsed": false
   },
   "outputs": [
    {
     "name": "stdout",
     "output_type": "stream",
     "text": [
      "[1] \"Using direct authentication\"\n"
     ]
    }
   ],
   "source": [
    "#setup the twitter oauth\n",
    "setup_twitter_oauth(\"API Key\",\"API Secret\",\"Access Token\",\"Access Secret\")"
   ]
  },
  {
   "cell_type": "code",
   "execution_count": 3,
   "metadata": {
    "collapsed": false
   },
   "outputs": [
    {
     "data": {
      "text/html": [
       "<table>\n",
       "<thead><tr><th scope=col>name</th><th scope=col>country</th><th scope=col>woeid</th></tr></thead>\n",
       "<tbody>\n",
       "\t<tr><td>Worldwide</td><td>         </td><td>1        </td></tr>\n",
       "\t<tr><td>Winnipeg </td><td>Canada   </td><td>2972     </td></tr>\n",
       "\t<tr><td>Ottawa   </td><td>Canada   </td><td>3369     </td></tr>\n",
       "\t<tr><td>Quebec   </td><td>Canada   </td><td>3444     </td></tr>\n",
       "\t<tr><td>Montreal </td><td>Canada   </td><td>3534     </td></tr>\n",
       "\t<tr><td>Toronto  </td><td>Canada   </td><td>4118     </td></tr>\n",
       "</tbody>\n",
       "</table>\n"
      ],
      "text/latex": [
       "\\begin{tabular}{r|lll}\n",
       " name & country & woeid\\\\\n",
       "\\hline\n",
       "\t Worldwide &           & 1        \\\\\n",
       "\t Winnipeg  & Canada    & 2972     \\\\\n",
       "\t Ottawa    & Canada    & 3369     \\\\\n",
       "\t Quebec    & Canada    & 3444     \\\\\n",
       "\t Montreal  & Canada    & 3534     \\\\\n",
       "\t Toronto   & Canada    & 4118     \\\\\n",
       "\\end{tabular}\n"
      ],
      "text/markdown": [
       "\n",
       "name | country | woeid | \n",
       "|---|---|---|---|---|---|\n",
       "| Worldwide |           | 1         | \n",
       "| Winnipeg  | Canada    | 2972      | \n",
       "| Ottawa    | Canada    | 3369      | \n",
       "| Quebec    | Canada    | 3444      | \n",
       "| Montreal  | Canada    | 3534      | \n",
       "| Toronto   | Canada    | 4118      | \n",
       "\n",
       "\n"
      ],
      "text/plain": [
       "  name      country woeid\n",
       "1 Worldwide         1    \n",
       "2 Winnipeg  Canada  2972 \n",
       "3 Ottawa    Canada  3369 \n",
       "4 Quebec    Canada  3444 \n",
       "5 Montreal  Canada  3534 \n",
       "6 Toronto   Canada  4118 "
      ]
     },
     "metadata": {},
     "output_type": "display_data"
    }
   ],
   "source": [
    "#get the trending topics\n",
    "trendingtopics<-availableTrendLocations()\n",
    "head(trendingtopics)"
   ]
  },
  {
   "cell_type": "code",
   "execution_count": 4,
   "metadata": {
    "collapsed": true
   },
   "outputs": [],
   "source": [
    "#get the trends for closest location\n",
    "nearbytrends<-closestTrendLocations(-67.88,-23.78)"
   ]
  },
  {
   "cell_type": "code",
   "execution_count": 5,
   "metadata": {
    "collapsed": false
   },
   "outputs": [
    {
     "data": {
      "text/html": [
       "<table>\n",
       "<thead><tr><th scope=col>name</th><th scope=col>country</th><th scope=col>woeid</th></tr></thead>\n",
       "<tbody>\n",
       "\t<tr><td>Recife</td><td>Brazil</td><td>455824</td></tr>\n",
       "</tbody>\n",
       "</table>\n"
      ],
      "text/latex": [
       "\\begin{tabular}{r|lll}\n",
       " name & country & woeid\\\\\n",
       "\\hline\n",
       "\t Recife & Brazil & 455824\\\\\n",
       "\\end{tabular}\n"
      ],
      "text/markdown": [
       "\n",
       "name | country | woeid | \n",
       "|---|\n",
       "| Recife | Brazil | 455824 | \n",
       "\n",
       "\n"
      ],
      "text/plain": [
       "  name   country woeid \n",
       "1 Recife Brazil  455824"
      ]
     },
     "metadata": {},
     "output_type": "display_data"
    }
   ],
   "source": [
    "head(nearbytrends)"
   ]
  },
  {
   "cell_type": "code",
   "execution_count": 6,
   "metadata": {
    "collapsed": false
   },
   "outputs": [
    {
     "data": {
      "text/html": [
       "<ol class=list-inline>\n",
       "\t<li>'Santa'</li>\n",
       "\t<li>'Marcos'</li>\n",
       "\t<li>'Recife'</li>\n",
       "\t<li>'#FamilyGras2017'</li>\n",
       "\t<li>'#AaronsNewVideo'</li>\n",
       "\t<li>'Mirassol'</li>\n",
       "</ol>\n"
      ],
      "text/latex": [
       "\\begin{enumerate*}\n",
       "\\item 'Santa'\n",
       "\\item 'Marcos'\n",
       "\\item 'Recife'\n",
       "\\item '\\#FamilyGras2017'\n",
       "\\item '\\#AaronsNewVideo'\n",
       "\\item 'Mirassol'\n",
       "\\end{enumerate*}\n"
      ],
      "text/markdown": [
       "1. 'Santa'\n",
       "2. 'Marcos'\n",
       "3. 'Recife'\n",
       "4. '#FamilyGras2017'\n",
       "5. '#AaronsNewVideo'\n",
       "6. 'Mirassol'\n",
       "\n",
       "\n"
      ],
      "text/plain": [
       "[1] \"Santa\"           \"Marcos\"          \"Recife\"          \"#FamilyGras2017\"\n",
       "[5] \"#AaronsNewVideo\" \"Mirassol\"       "
      ]
     },
     "metadata": {},
     "output_type": "display_data"
    }
   ],
   "source": [
    "#get trends based on a particular woeid.\n",
    "woeidtrends<-getTrends(455824)\n",
    "head(woeidtrends$name)"
   ]
  },
  {
   "cell_type": "code",
   "execution_count": 8,
   "metadata": {
    "collapsed": false
   },
   "outputs": [
    {
     "name": "stderr",
     "output_type": "stream",
     "text": [
      "Information from URL : http://maps.googleapis.com/maps/api/geocode/json?address=California&sensor=false\n"
     ]
    }
   ],
   "source": [
    "#input a location and obatin its co-ordinates\n",
    "yourlocation<-\"California\"\n",
    "locationinfo<-geocode(yourlocation)"
   ]
  },
  {
   "cell_type": "code",
   "execution_count": 9,
   "metadata": {
    "collapsed": true
   },
   "outputs": [],
   "source": [
    "#store longitude and latitude \n",
    "lon<-locationinfo$lon\n",
    "lat<-locationinfo$lat"
   ]
  },
  {
   "cell_type": "code",
   "execution_count": 10,
   "metadata": {
    "collapsed": false
   },
   "outputs": [
    {
     "name": "stdout",
     "output_type": "stream",
     "text": [
      "    name       country   woeid\n",
      "1 Fresno United States 2407517\n"
     ]
    },
    {
     "data": {
      "text/html": [
       "<ol class=list-inline>\n",
       "\t<li>'#FSStudentNight'</li>\n",
       "\t<li>'#FresnoState'</li>\n",
       "\t<li>'#GoRhody'</li>\n",
       "\t<li>'#TrumpRally'</li>\n",
       "\t<li>'#BritneyEverAfter'</li>\n",
       "\t<li>'Briscoe'</li>\n",
       "</ol>\n"
      ],
      "text/latex": [
       "\\begin{enumerate*}\n",
       "\\item '\\#FSStudentNight'\n",
       "\\item '\\#FresnoState'\n",
       "\\item '\\#GoRhody'\n",
       "\\item '\\#TrumpRally'\n",
       "\\item '\\#BritneyEverAfter'\n",
       "\\item 'Briscoe'\n",
       "\\end{enumerate*}\n"
      ],
      "text/markdown": [
       "1. '#FSStudentNight'\n",
       "2. '#FresnoState'\n",
       "3. '#GoRhody'\n",
       "4. '#TrumpRally'\n",
       "5. '#BritneyEverAfter'\n",
       "6. 'Briscoe'\n",
       "\n",
       "\n"
      ],
      "text/plain": [
       "[1] \"#FSStudentNight\"   \"#FresnoState\"      \"#GoRhody\"         \n",
       "[4] \"#TrumpRally\"       \"#BritneyEverAfter\" \"Briscoe\"          "
      ]
     },
     "metadata": {},
     "output_type": "display_data"
    }
   ],
   "source": [
    "#get nearby trends as per location and woeid\n",
    "nearbytrends<-closestTrendLocations(lat,lon)\n",
    "print(nearbytrends)\n",
    "woeidtrends<-getTrends(nearbytrends$woeid)\n",
    "head(woeidtrends$name)"
   ]
  },
  {
   "cell_type": "code",
   "execution_count": 7,
   "metadata": {
    "collapsed": false
   },
   "outputs": [
    {
     "name": "stderr",
     "output_type": "stream",
     "text": [
      "2499 geocoding queries remaining.\n"
     ]
    }
   ],
   "source": [
    "geocodeQueryCheck(userType = \"free\")"
   ]
  },
  {
   "cell_type": "markdown",
   "metadata": {
    "collapsed": true
   },
   "source": [
    "# References:\n",
    "#### http://geoffjentry.hexdump.org/twitteR.pdf"
   ]
  }
 ],
 "metadata": {
  "kernelspec": {
   "display_name": "R",
   "language": "R",
   "name": "ir"
  },
  "language_info": {
   "codemirror_mode": "r",
   "file_extension": ".r",
   "mimetype": "text/x-r-source",
   "name": "R",
   "pygments_lexer": "r",
   "version": "3.3.2"
  }
 },
 "nbformat": 4,
 "nbformat_minor": 2
}
