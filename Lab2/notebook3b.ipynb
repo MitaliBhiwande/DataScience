{
 "cells": [
  {
   "cell_type": "markdown",
   "metadata": {},
   "source": [
    "## STEP 2: Read the csv files and answer the queries."
   ]
  },
  {
   "cell_type": "code",
   "execution_count": 3,
   "metadata": {
    "collapsed": false
   },
   "outputs": [
    {
     "name": "stderr",
     "output_type": "stream",
     "text": [
      "Updating HTML index of packages in '.Library'\n",
      "Making 'packages.html' ... done\n"
     ]
    },
    {
     "ename": "ERROR",
     "evalue": "Error in eval(expr, envir, enclos): could not find function \"install.packes\"\n",
     "output_type": "error",
     "traceback": [
      "Error in eval(expr, envir, enclos): could not find function \"install.packes\"\nTraceback:\n"
     ]
    }
   ],
   "source": [
    "install.packages(\"sqldf\")\n",
    "install.packages(\"dplyr\")\n"
   ]
  },
  {
   "cell_type": "code",
   "execution_count": 1,
   "metadata": {
    "collapsed": false
   },
   "outputs": [
    {
     "name": "stderr",
     "output_type": "stream",
     "text": [
      "Loading required package: gsubfn\n",
      "Loading required package: proto\n",
      "Loading required package: RSQLite\n",
      "\n",
      "Attaching package: ‘dplyr’\n",
      "\n",
      "The following objects are masked from ‘package:stats’:\n",
      "\n",
      "    filter, lag\n",
      "\n",
      "The following objects are masked from ‘package:base’:\n",
      "\n",
      "    intersect, setdiff, setequal, union\n",
      "\n"
     ]
    }
   ],
   "source": [
    "library(sqldf)\n",
    "library(RSQLite)\n",
    "library(dplyr)"
   ]
  },
  {
   "cell_type": "code",
   "execution_count": 2,
   "metadata": {
    "collapsed": true
   },
   "outputs": [],
   "source": [
    "players<-read.csv(\"players.csv\")"
   ]
  },
  {
   "cell_type": "code",
   "execution_count": 3,
   "metadata": {
    "collapsed": true
   },
   "outputs": [],
   "source": [
    "teams<-read.csv(\"teams.csv\")"
   ]
  },
  {
   "cell_type": "markdown",
   "metadata": {},
   "source": [
    "## Solutions to the below questions have been obtained by computing the max() value of the occurences of data and grouping them accordingly."
   ]
  },
  {
   "cell_type": "markdown",
   "metadata": {},
   "source": [
    "## 1. Which are the top 10 players by overall rating?"
   ]
  },
  {
   "cell_type": "code",
   "execution_count": 4,
   "metadata": {
    "collapsed": false
   },
   "outputs": [
    {
     "name": "stderr",
     "output_type": "stream",
     "text": [
      "Loading required package: tcltk\n",
      "Warning message:\n",
      "“Quoted identifiers should have class SQL, use DBI::SQL() if the caller performs the quoting.”"
     ]
    },
    {
     "data": {
      "text/html": [
       "<table>\n",
       "<thead><tr><th scope=col>player_api_id</th><th scope=col>player_name</th><th scope=col>overall_rating</th></tr></thead>\n",
       "<tbody>\n",
       "\t<tr><td>30981            </td><td>Lionel Messi     </td><td>94               </td></tr>\n",
       "\t<tr><td>30717            </td><td>Gianluigi Buffon </td><td>93               </td></tr>\n",
       "\t<tr><td>30829            </td><td>Wayne Rooney     </td><td>93               </td></tr>\n",
       "\t<tr><td>30893            </td><td>Cristiano Ronaldo</td><td>93               </td></tr>\n",
       "\t<tr><td>39854            </td><td>Xavi Hernandez   </td><td>92               </td></tr>\n",
       "\t<tr><td>39989            </td><td>Gregory Coupet   </td><td>92               </td></tr>\n",
       "\t<tr><td>30626            </td><td>Thierry Henry    </td><td>91               </td></tr>\n",
       "\t<tr><td>30627            </td><td>John Terry       </td><td>91               </td></tr>\n",
       "\t<tr><td>30657            </td><td>Iker Casillas    </td><td>91               </td></tr>\n",
       "\t<tr><td>30723            </td><td>Alessandro Nesta </td><td>91               </td></tr>\n",
       "</tbody>\n",
       "</table>\n"
      ],
      "text/latex": [
       "\\begin{tabular}{r|lll}\n",
       " player\\_api\\_id & player\\_name & overall\\_rating\\\\\n",
       "\\hline\n",
       "\t 30981             & Lionel Messi      & 94               \\\\\n",
       "\t 30717             & Gianluigi Buffon  & 93               \\\\\n",
       "\t 30829             & Wayne Rooney      & 93               \\\\\n",
       "\t 30893             & Cristiano Ronaldo & 93               \\\\\n",
       "\t 39854             & Xavi Hernandez    & 92               \\\\\n",
       "\t 39989             & Gregory Coupet    & 92               \\\\\n",
       "\t 30626             & Thierry Henry     & 91               \\\\\n",
       "\t 30627             & John Terry        & 91               \\\\\n",
       "\t 30657             & Iker Casillas     & 91               \\\\\n",
       "\t 30723             & Alessandro Nesta  & 91               \\\\\n",
       "\\end{tabular}\n"
      ],
      "text/markdown": [
       "\n",
       "player_api_id | player_name | overall_rating | \n",
       "|---|---|---|---|---|---|---|---|---|---|\n",
       "| 30981             | Lionel Messi      | 94                | \n",
       "| 30717             | Gianluigi Buffon  | 93                | \n",
       "| 30829             | Wayne Rooney      | 93                | \n",
       "| 30893             | Cristiano Ronaldo | 93                | \n",
       "| 39854             | Xavi Hernandez    | 92                | \n",
       "| 39989             | Gregory Coupet    | 92                | \n",
       "| 30626             | Thierry Henry     | 91                | \n",
       "| 30627             | John Terry        | 91                | \n",
       "| 30657             | Iker Casillas     | 91                | \n",
       "| 30723             | Alessandro Nesta  | 91                | \n",
       "\n",
       "\n"
      ],
      "text/plain": [
       "   player_api_id player_name       overall_rating\n",
       "1  30981         Lionel Messi      94            \n",
       "2  30717         Gianluigi Buffon  93            \n",
       "3  30829         Wayne Rooney      93            \n",
       "4  30893         Cristiano Ronaldo 93            \n",
       "5  39854         Xavi Hernandez    92            \n",
       "6  39989         Gregory Coupet    92            \n",
       "7  30626         Thierry Henry     91            \n",
       "8  30627         John Terry        91            \n",
       "9  30657         Iker Casillas     91            \n",
       "10 30723         Alessandro Nesta  91            "
      ]
     },
     "metadata": {},
     "output_type": "display_data"
    }
   ],
   "source": [
    "#Method 1 using sqldf\n",
    "a<-arrange(players,desc(overall_rating))\n",
    "b<-sqldf(\"select distinct(player_api_id), player_name,max(overall_rating) as overall_rating from a group by player_api_id order by overall_rating desc\")\n",
    "head(b, n=10)"
   ]
  },
  {
   "cell_type": "code",
   "execution_count": 6,
   "metadata": {
    "collapsed": false
   },
   "outputs": [
    {
     "data": {
      "text/html": [
       "<table>\n",
       "<thead><tr><th scope=col>overall_rating</th><th scope=col>player_name</th></tr></thead>\n",
       "<tbody>\n",
       "\t<tr><td>94               </td><td>Lionel Messi     </td></tr>\n",
       "\t<tr><td>93               </td><td>Gianluigi Buffon </td></tr>\n",
       "\t<tr><td>93               </td><td>Wayne Rooney     </td></tr>\n",
       "\t<tr><td>93               </td><td>Cristiano Ronaldo</td></tr>\n",
       "\t<tr><td>92               </td><td>Xavi Hernandez   </td></tr>\n",
       "\t<tr><td>92               </td><td>Gregory Coupet   </td></tr>\n",
       "\t<tr><td>91               </td><td>Thierry Henry    </td></tr>\n",
       "\t<tr><td>91               </td><td>John Terry       </td></tr>\n",
       "\t<tr><td>91               </td><td>Iker Casillas    </td></tr>\n",
       "\t<tr><td>91               </td><td>Alessandro Nesta </td></tr>\n",
       "</tbody>\n",
       "</table>\n"
      ],
      "text/latex": [
       "\\begin{tabular}{r|ll}\n",
       " overall\\_rating & player\\_name\\\\\n",
       "\\hline\n",
       "\t 94                & Lionel Messi     \\\\\n",
       "\t 93                & Gianluigi Buffon \\\\\n",
       "\t 93                & Wayne Rooney     \\\\\n",
       "\t 93                & Cristiano Ronaldo\\\\\n",
       "\t 92                & Xavi Hernandez   \\\\\n",
       "\t 92                & Gregory Coupet   \\\\\n",
       "\t 91                & Thierry Henry    \\\\\n",
       "\t 91                & John Terry       \\\\\n",
       "\t 91                & Iker Casillas    \\\\\n",
       "\t 91                & Alessandro Nesta \\\\\n",
       "\\end{tabular}\n"
      ],
      "text/markdown": [
       "\n",
       "overall_rating | player_name | \n",
       "|---|---|---|---|---|---|---|---|---|---|\n",
       "| 94                | Lionel Messi      | \n",
       "| 93                | Gianluigi Buffon  | \n",
       "| 93                | Wayne Rooney      | \n",
       "| 93                | Cristiano Ronaldo | \n",
       "| 92                | Xavi Hernandez    | \n",
       "| 92                | Gregory Coupet    | \n",
       "| 91                | Thierry Henry     | \n",
       "| 91                | John Terry        | \n",
       "| 91                | Iker Casillas     | \n",
       "| 91                | Alessandro Nesta  | \n",
       "\n",
       "\n"
      ],
      "text/plain": [
       "   overall_rating player_name      \n",
       "1  94             Lionel Messi     \n",
       "2  93             Gianluigi Buffon \n",
       "3  93             Wayne Rooney     \n",
       "4  93             Cristiano Ronaldo\n",
       "5  92             Xavi Hernandez   \n",
       "6  92             Gregory Coupet   \n",
       "7  91             Thierry Henry    \n",
       "8  91             John Terry       \n",
       "9  91             Iker Casillas    \n",
       "10 91             Alessandro Nesta "
      ]
     },
     "metadata": {},
     "output_type": "display_data"
    }
   ],
   "source": [
    "#Method 2 using dplyr\n",
    "a<-arrange(players,desc(overall_rating))\n",
    "a<-a%>%group_by(player_name) %>%\n",
    "    filter((overall_rating)==max(overall_rating))%>%\n",
    "    arrange(desc(overall_rating))%>%\n",
    "    distinct(overall_rating)\n",
    "head(a, n=10)\n",
    "\n"
   ]
  },
  {
   "cell_type": "markdown",
   "metadata": {},
   "source": [
    "## 2. Which are the top 10 goalkeepers by sum of gk attributes?"
   ]
  },
  {
   "cell_type": "code",
   "execution_count": 6,
   "metadata": {
    "collapsed": false
   },
   "outputs": [
    {
     "data": {
      "text/html": [
       "<table>\n",
       "<thead><tr><th scope=col>gk_rating</th><th scope=col>player_name</th></tr></thead>\n",
       "<tbody>\n",
       "\t<tr><td>449              </td><td>Gianluigi Buffon </td></tr>\n",
       "\t<tr><td>447              </td><td>Gregory Coupet   </td></tr>\n",
       "\t<tr><td>445              </td><td>Petr Cech        </td></tr>\n",
       "\t<tr><td>442              </td><td>Iker Casillas    </td></tr>\n",
       "\t<tr><td>440              </td><td>Manuel Neuer     </td></tr>\n",
       "\t<tr><td>437              </td><td>Sebastian Frey   </td></tr>\n",
       "\t<tr><td>436              </td><td>Edwin van der Sar</td></tr>\n",
       "\t<tr><td>429              </td><td>David De Gea     </td></tr>\n",
       "\t<tr><td>428              </td><td>Pepe Reina       </td></tr>\n",
       "\t<tr><td>426              </td><td>Paul Robinson    </td></tr>\n",
       "</tbody>\n",
       "</table>\n"
      ],
      "text/latex": [
       "\\begin{tabular}{r|ll}\n",
       " gk\\_rating & player\\_name\\\\\n",
       "\\hline\n",
       "\t 449               & Gianluigi Buffon \\\\\n",
       "\t 447               & Gregory Coupet   \\\\\n",
       "\t 445               & Petr Cech        \\\\\n",
       "\t 442               & Iker Casillas    \\\\\n",
       "\t 440               & Manuel Neuer     \\\\\n",
       "\t 437               & Sebastian Frey   \\\\\n",
       "\t 436               & Edwin van der Sar\\\\\n",
       "\t 429               & David De Gea     \\\\\n",
       "\t 428               & Pepe Reina       \\\\\n",
       "\t 426               & Paul Robinson    \\\\\n",
       "\\end{tabular}\n"
      ],
      "text/markdown": [
       "\n",
       "gk_rating | player_name | \n",
       "|---|---|---|---|---|---|---|---|---|---|\n",
       "| 449               | Gianluigi Buffon  | \n",
       "| 447               | Gregory Coupet    | \n",
       "| 445               | Petr Cech         | \n",
       "| 442               | Iker Casillas     | \n",
       "| 440               | Manuel Neuer      | \n",
       "| 437               | Sebastian Frey    | \n",
       "| 436               | Edwin van der Sar | \n",
       "| 429               | David De Gea      | \n",
       "| 428               | Pepe Reina        | \n",
       "| 426               | Paul Robinson     | \n",
       "\n",
       "\n"
      ],
      "text/plain": [
       "   gk_rating player_name      \n",
       "1  449       Gianluigi Buffon \n",
       "2  447       Gregory Coupet   \n",
       "3  445       Petr Cech        \n",
       "4  442       Iker Casillas    \n",
       "5  440       Manuel Neuer     \n",
       "6  437       Sebastian Frey   \n",
       "7  436       Edwin van der Sar\n",
       "8  429       David De Gea     \n",
       "9  428       Pepe Reina       \n",
       "10 426       Paul Robinson    "
      ]
     },
     "metadata": {},
     "output_type": "display_data"
    }
   ],
   "source": [
    "a<-arrange(players,desc(gk_rating))\n",
    "a<-a%>%group_by(player_name) %>%\n",
    "    filter((gk_rating)==max(gk_rating))%>%\n",
    "    arrange(desc(gk_rating))%>%\n",
    "    distinct(gk_rating)\n",
    "\n",
    "head(a, n=10)"
   ]
  },
  {
   "cell_type": "markdown",
   "metadata": {},
   "source": [
    "## 3. Which are the top 10 players by number of appearances (with any team they played with)?"
   ]
  },
  {
   "cell_type": "code",
   "execution_count": 7,
   "metadata": {
    "collapsed": false
   },
   "outputs": [
    {
     "data": {
      "text/html": [
       "<table>\n",
       "<thead><tr><th scope=col>NumofAppearances</th><th scope=col>player_name</th></tr></thead>\n",
       "<tbody>\n",
       "\t<tr><td>289                 </td><td>Steve Mandanda      </td></tr>\n",
       "\t<tr><td>277                 </td><td>Tim Howard          </td></tr>\n",
       "\t<tr><td>274                 </td><td>Hugo Lloris         </td></tr>\n",
       "\t<tr><td>270                 </td><td>Stephane Ruffier    </td></tr>\n",
       "\t<tr><td>269                 </td><td>Joe Hart            </td></tr>\n",
       "\t<tr><td>264                 </td><td>Samir Handanovic    </td></tr>\n",
       "\t<tr><td>260                 </td><td>Gorka Iraizoz Moreno</td></tr>\n",
       "\t<tr><td>253                 </td><td>Cedric Carrasso     </td></tr>\n",
       "\t<tr><td>251                 </td><td>Manuel Neuer        </td></tr>\n",
       "\t<tr><td>250                 </td><td>Ryan Shawcross      </td></tr>\n",
       "</tbody>\n",
       "</table>\n"
      ],
      "text/latex": [
       "\\begin{tabular}{r|ll}\n",
       " NumofAppearances & player\\_name\\\\\n",
       "\\hline\n",
       "\t 289                  & Steve Mandanda      \\\\\n",
       "\t 277                  & Tim Howard          \\\\\n",
       "\t 274                  & Hugo Lloris         \\\\\n",
       "\t 270                  & Stephane Ruffier    \\\\\n",
       "\t 269                  & Joe Hart            \\\\\n",
       "\t 264                  & Samir Handanovic    \\\\\n",
       "\t 260                  & Gorka Iraizoz Moreno\\\\\n",
       "\t 253                  & Cedric Carrasso     \\\\\n",
       "\t 251                  & Manuel Neuer        \\\\\n",
       "\t 250                  & Ryan Shawcross      \\\\\n",
       "\\end{tabular}\n"
      ],
      "text/markdown": [
       "\n",
       "NumofAppearances | player_name | \n",
       "|---|---|---|---|---|---|---|---|---|---|\n",
       "| 289                  | Steve Mandanda       | \n",
       "| 277                  | Tim Howard           | \n",
       "| 274                  | Hugo Lloris          | \n",
       "| 270                  | Stephane Ruffier     | \n",
       "| 269                  | Joe Hart             | \n",
       "| 264                  | Samir Handanovic     | \n",
       "| 260                  | Gorka Iraizoz Moreno | \n",
       "| 253                  | Cedric Carrasso      | \n",
       "| 251                  | Manuel Neuer         | \n",
       "| 250                  | Ryan Shawcross       | \n",
       "\n",
       "\n"
      ],
      "text/plain": [
       "   NumofAppearances player_name         \n",
       "1  289              Steve Mandanda      \n",
       "2  277              Tim Howard          \n",
       "3  274              Hugo Lloris         \n",
       "4  270              Stephane Ruffier    \n",
       "5  269              Joe Hart            \n",
       "6  264              Samir Handanovic    \n",
       "7  260              Gorka Iraizoz Moreno\n",
       "8  253              Cedric Carrasso     \n",
       "9  251              Manuel Neuer        \n",
       "10 250              Ryan Shawcross      "
      ]
     },
     "metadata": {},
     "output_type": "display_data"
    }
   ],
   "source": [
    "a<-arrange(players,desc(NumofAppearances))\n",
    "a<-a%>%group_by(player_name) %>%\n",
    "    filter((NumofAppearances)==max(NumofAppearances))%>%\n",
    "    arrange(desc(NumofAppearances))%>%\n",
    "    distinct(NumofAppearances)\n",
    "\n",
    "head(a, n=10)"
   ]
  },
  {
   "cell_type": "markdown",
   "metadata": {},
   "source": [
    "## 4. Which are the top 10 players by number of leagues they played in?"
   ]
  },
  {
   "cell_type": "code",
   "execution_count": 8,
   "metadata": {
    "collapsed": false
   },
   "outputs": [
    {
     "data": {
      "text/html": [
       "<table>\n",
       "<thead><tr><th scope=col>numberOfLeagues</th><th scope=col>player_name</th></tr></thead>\n",
       "<tbody>\n",
       "\t<tr><td>6                    </td><td>Gelson Fernandes     </td></tr>\n",
       "\t<tr><td>5                    </td><td>Ricky van Wolfswinkel</td></tr>\n",
       "\t<tr><td>5                    </td><td>Filip Djuricic       </td></tr>\n",
       "\t<tr><td>4                    </td><td>Radamel Falcao       </td></tr>\n",
       "\t<tr><td>4                    </td><td>Jonathan De Guzman   </td></tr>\n",
       "\t<tr><td>4                    </td><td>Almen Abdi           </td></tr>\n",
       "\t<tr><td>4                    </td><td>Ibrahim Afellay      </td></tr>\n",
       "\t<tr><td>4                    </td><td>Edson Braafheid      </td></tr>\n",
       "\t<tr><td>4                    </td><td>Eljero Elia          </td></tr>\n",
       "\t<tr><td>4                    </td><td>Danijel Pranjic      </td></tr>\n",
       "</tbody>\n",
       "</table>\n"
      ],
      "text/latex": [
       "\\begin{tabular}{r|ll}\n",
       " numberOfLeagues & player\\_name\\\\\n",
       "\\hline\n",
       "\t 6                     & Gelson Fernandes     \\\\\n",
       "\t 5                     & Ricky van Wolfswinkel\\\\\n",
       "\t 5                     & Filip Djuricic       \\\\\n",
       "\t 4                     & Radamel Falcao       \\\\\n",
       "\t 4                     & Jonathan De Guzman   \\\\\n",
       "\t 4                     & Almen Abdi           \\\\\n",
       "\t 4                     & Ibrahim Afellay      \\\\\n",
       "\t 4                     & Edson Braafheid      \\\\\n",
       "\t 4                     & Eljero Elia          \\\\\n",
       "\t 4                     & Danijel Pranjic      \\\\\n",
       "\\end{tabular}\n"
      ],
      "text/markdown": [
       "\n",
       "numberOfLeagues | player_name | \n",
       "|---|---|---|---|---|---|---|---|---|---|\n",
       "| 6                     | Gelson Fernandes      | \n",
       "| 5                     | Ricky van Wolfswinkel | \n",
       "| 5                     | Filip Djuricic        | \n",
       "| 4                     | Radamel Falcao        | \n",
       "| 4                     | Jonathan De Guzman    | \n",
       "| 4                     | Almen Abdi            | \n",
       "| 4                     | Ibrahim Afellay       | \n",
       "| 4                     | Edson Braafheid       | \n",
       "| 4                     | Eljero Elia           | \n",
       "| 4                     | Danijel Pranjic       | \n",
       "\n",
       "\n"
      ],
      "text/plain": [
       "   numberOfLeagues player_name          \n",
       "1  6               Gelson Fernandes     \n",
       "2  5               Ricky van Wolfswinkel\n",
       "3  5               Filip Djuricic       \n",
       "4  4               Radamel Falcao       \n",
       "5  4               Jonathan De Guzman   \n",
       "6  4               Almen Abdi           \n",
       "7  4               Ibrahim Afellay      \n",
       "8  4               Edson Braafheid      \n",
       "9  4               Eljero Elia          \n",
       "10 4               Danijel Pranjic      "
      ]
     },
     "metadata": {},
     "output_type": "display_data"
    }
   ],
   "source": [
    "a<-arrange(players,desc(numberOfLeagues))\n",
    "a<-a%>%group_by(player_name) %>%\n",
    "    filter((numberOfLeagues)==max(numberOfLeagues))%>%\n",
    "    arrange(desc(numberOfLeagues))%>%\n",
    "    distinct(numberOfLeagues)\n",
    "\n",
    "head(a, n=10)"
   ]
  },
  {
   "cell_type": "markdown",
   "metadata": {},
   "source": [
    "## 5. Which are the top 10 teams by sum of build up play attributes?"
   ]
  },
  {
   "cell_type": "code",
   "execution_count": 9,
   "metadata": {
    "collapsed": false
   },
   "outputs": [
    {
     "data": {
      "text/html": [
       "<table>\n",
       "<thead><tr><th scope=col>build_up_play</th><th scope=col>team_long_name</th></tr></thead>\n",
       "<tbody>\n",
       "\t<tr><td>209                       </td><td>Torino                    </td></tr>\n",
       "\t<tr><td>205                       </td><td>Udinese                   </td></tr>\n",
       "\t<tr><td>198                       </td><td>Fortuna Düsseldorf        </td></tr>\n",
       "\t<tr><td>193                       </td><td>Podbeskidzie Bielsko-Biała</td></tr>\n",
       "\t<tr><td>192                       </td><td>Korona Kielce             </td></tr>\n",
       "\t<tr><td>190                       </td><td>Widzew Łódź               </td></tr>\n",
       "\t<tr><td>190                       </td><td>Carpi                     </td></tr>\n",
       "\t<tr><td>189                       </td><td>FC Nantes                 </td></tr>\n",
       "\t<tr><td>188                       </td><td>Sassuolo                  </td></tr>\n",
       "\t<tr><td>188                       </td><td>Lazio                     </td></tr>\n",
       "</tbody>\n",
       "</table>\n"
      ],
      "text/latex": [
       "\\begin{tabular}{r|ll}\n",
       " build\\_up\\_play & team\\_long\\_name\\\\\n",
       "\\hline\n",
       "\t 209                        & Torino                    \\\\\n",
       "\t 205                        & Udinese                   \\\\\n",
       "\t 198                        & Fortuna Düsseldorf        \\\\\n",
       "\t 193                        & Podbeskidzie Bielsko-Biała\\\\\n",
       "\t 192                        & Korona Kielce             \\\\\n",
       "\t 190                        & Widzew Łódź               \\\\\n",
       "\t 190                        & Carpi                     \\\\\n",
       "\t 189                        & FC Nantes                 \\\\\n",
       "\t 188                        & Sassuolo                  \\\\\n",
       "\t 188                        & Lazio                     \\\\\n",
       "\\end{tabular}\n"
      ],
      "text/markdown": [
       "\n",
       "build_up_play | team_long_name | \n",
       "|---|---|---|---|---|---|---|---|---|---|\n",
       "| 209                        | Torino                     | \n",
       "| 205                        | Udinese                    | \n",
       "| 198                        | Fortuna Düsseldorf         | \n",
       "| 193                        | Podbeskidzie Bielsko-Biała | \n",
       "| 192                        | Korona Kielce              | \n",
       "| 190                        | Widzew Łódź                | \n",
       "| 190                        | Carpi                      | \n",
       "| 189                        | FC Nantes                  | \n",
       "| 188                        | Sassuolo                   | \n",
       "| 188                        | Lazio                      | \n",
       "\n",
       "\n"
      ],
      "text/plain": [
       "   build_up_play team_long_name            \n",
       "1  209           Torino                    \n",
       "2  205           Udinese                   \n",
       "3  198           Fortuna Düsseldorf        \n",
       "4  193           Podbeskidzie Bielsko-Biała\n",
       "5  192           Korona Kielce             \n",
       "6  190           Widzew Łódź               \n",
       "7  190           Carpi                     \n",
       "8  189           FC Nantes                 \n",
       "9  188           Sassuolo                  \n",
       "10 188           Lazio                     "
      ]
     },
     "metadata": {},
     "output_type": "display_data"
    }
   ],
   "source": [
    "a<-arrange(teams,desc(build_up_play))\n",
    "a<-a%>%group_by(team_long_name) %>%\n",
    "    filter((build_up_play)==max(build_up_play))%>%\n",
    "    arrange(desc(build_up_play))%>%\n",
    "    distinct(build_up_play)\n",
    "\n",
    "head(a, n=10)"
   ]
  },
  {
   "cell_type": "markdown",
   "metadata": {},
   "source": [
    "## 6. Which are the top 10 teams by sum of chance creation attributes?"
   ]
  },
  {
   "cell_type": "code",
   "execution_count": 10,
   "metadata": {
    "collapsed": false
   },
   "outputs": [
    {
     "data": {
      "text/html": [
       "<table>\n",
       "<thead><tr><th scope=col>chance_creation</th><th scope=col>team_long_name</th></tr></thead>\n",
       "<tbody>\n",
       "\t<tr><td>220                </td><td>Lazio              </td></tr>\n",
       "\t<tr><td>216                </td><td>SV Werder Bremen   </td></tr>\n",
       "\t<tr><td>215                </td><td>Napoli             </td></tr>\n",
       "\t<tr><td>210                </td><td>Bayer 04 Leverkusen</td></tr>\n",
       "\t<tr><td>210                </td><td>Burnley            </td></tr>\n",
       "\t<tr><td>210                </td><td>Cardiff City       </td></tr>\n",
       "\t<tr><td>210                </td><td>Manchester City    </td></tr>\n",
       "\t<tr><td>210                </td><td>Aberdeen           </td></tr>\n",
       "\t<tr><td>210                </td><td>Rangers            </td></tr>\n",
       "\t<tr><td>210                </td><td>Tottenham Hotspur  </td></tr>\n",
       "</tbody>\n",
       "</table>\n"
      ],
      "text/latex": [
       "\\begin{tabular}{r|ll}\n",
       " chance\\_creation & team\\_long\\_name\\\\\n",
       "\\hline\n",
       "\t 220                 & Lazio              \\\\\n",
       "\t 216                 & SV Werder Bremen   \\\\\n",
       "\t 215                 & Napoli             \\\\\n",
       "\t 210                 & Bayer 04 Leverkusen\\\\\n",
       "\t 210                 & Burnley            \\\\\n",
       "\t 210                 & Cardiff City       \\\\\n",
       "\t 210                 & Manchester City    \\\\\n",
       "\t 210                 & Aberdeen           \\\\\n",
       "\t 210                 & Rangers            \\\\\n",
       "\t 210                 & Tottenham Hotspur  \\\\\n",
       "\\end{tabular}\n"
      ],
      "text/markdown": [
       "\n",
       "chance_creation | team_long_name | \n",
       "|---|---|---|---|---|---|---|---|---|---|\n",
       "| 220                 | Lazio               | \n",
       "| 216                 | SV Werder Bremen    | \n",
       "| 215                 | Napoli              | \n",
       "| 210                 | Bayer 04 Leverkusen | \n",
       "| 210                 | Burnley             | \n",
       "| 210                 | Cardiff City        | \n",
       "| 210                 | Manchester City     | \n",
       "| 210                 | Aberdeen            | \n",
       "| 210                 | Rangers             | \n",
       "| 210                 | Tottenham Hotspur   | \n",
       "\n",
       "\n"
      ],
      "text/plain": [
       "   chance_creation team_long_name     \n",
       "1  220             Lazio              \n",
       "2  216             SV Werder Bremen   \n",
       "3  215             Napoli             \n",
       "4  210             Bayer 04 Leverkusen\n",
       "5  210             Burnley            \n",
       "6  210             Cardiff City       \n",
       "7  210             Manchester City    \n",
       "8  210             Aberdeen           \n",
       "9  210             Rangers            \n",
       "10 210             Tottenham Hotspur  "
      ]
     },
     "metadata": {},
     "output_type": "display_data"
    }
   ],
   "source": [
    "a<-arrange(teams,desc(chance_creation))\n",
    "a<-a%>%group_by(team_long_name) %>%\n",
    "    filter((chance_creation)==max(chance_creation))%>%\n",
    "    arrange(desc(chance_creation))%>%\n",
    "    distinct(chance_creation)\n",
    "\n",
    "head(a, n=10)"
   ]
  },
  {
   "cell_type": "markdown",
   "metadata": {},
   "source": [
    "## 7. Which are the top 10 teams by sum of defense attributes?"
   ]
  },
  {
   "cell_type": "code",
   "execution_count": 11,
   "metadata": {
    "collapsed": false
   },
   "outputs": [
    {
     "data": {
      "text/html": [
       "<table>\n",
       "<thead><tr><th scope=col>defence</th><th scope=col>team_long_name</th></tr></thead>\n",
       "<tbody>\n",
       "\t<tr><td>210                  </td><td>Jagiellonia Białystok</td></tr>\n",
       "\t<tr><td>210                  </td><td>SC Bastia            </td></tr>\n",
       "\t<tr><td>210                  </td><td>Zagłębie Lubin       </td></tr>\n",
       "\t<tr><td>210                  </td><td>Leicester City       </td></tr>\n",
       "\t<tr><td>210                  </td><td>Cardiff City         </td></tr>\n",
       "\t<tr><td>210                  </td><td>1. FC Kaiserslautern </td></tr>\n",
       "\t<tr><td>210                  </td><td>Southampton          </td></tr>\n",
       "\t<tr><td>210                  </td><td>AS Nancy-Lorraine    </td></tr>\n",
       "\t<tr><td>210                  </td><td>Blackpool            </td></tr>\n",
       "\t<tr><td>210                  </td><td>Stade Brestois 29    </td></tr>\n",
       "</tbody>\n",
       "</table>\n"
      ],
      "text/latex": [
       "\\begin{tabular}{r|ll}\n",
       " defence & team\\_long\\_name\\\\\n",
       "\\hline\n",
       "\t 210                   & Jagiellonia Białystok\\\\\n",
       "\t 210                   & SC Bastia            \\\\\n",
       "\t 210                   & Zagłębie Lubin       \\\\\n",
       "\t 210                   & Leicester City       \\\\\n",
       "\t 210                   & Cardiff City         \\\\\n",
       "\t 210                   & 1. FC Kaiserslautern \\\\\n",
       "\t 210                   & Southampton          \\\\\n",
       "\t 210                   & AS Nancy-Lorraine    \\\\\n",
       "\t 210                   & Blackpool            \\\\\n",
       "\t 210                   & Stade Brestois 29    \\\\\n",
       "\\end{tabular}\n"
      ],
      "text/markdown": [
       "\n",
       "defence | team_long_name | \n",
       "|---|---|---|---|---|---|---|---|---|---|\n",
       "| 210                   | Jagiellonia Białystok | \n",
       "| 210                   | SC Bastia             | \n",
       "| 210                   | Zagłębie Lubin        | \n",
       "| 210                   | Leicester City        | \n",
       "| 210                   | Cardiff City          | \n",
       "| 210                   | 1. FC Kaiserslautern  | \n",
       "| 210                   | Southampton           | \n",
       "| 210                   | AS Nancy-Lorraine     | \n",
       "| 210                   | Blackpool             | \n",
       "| 210                   | Stade Brestois 29     | \n",
       "\n",
       "\n"
      ],
      "text/plain": [
       "   defence team_long_name       \n",
       "1  210     Jagiellonia Białystok\n",
       "2  210     SC Bastia            \n",
       "3  210     Zagłębie Lubin       \n",
       "4  210     Leicester City       \n",
       "5  210     Cardiff City         \n",
       "6  210     1. FC Kaiserslautern \n",
       "7  210     Southampton          \n",
       "8  210     AS Nancy-Lorraine    \n",
       "9  210     Blackpool            \n",
       "10 210     Stade Brestois 29    "
      ]
     },
     "metadata": {},
     "output_type": "display_data"
    }
   ],
   "source": [
    "a<-arrange(teams,desc(defence))\n",
    "a<-a%>%group_by(team_long_name) %>%\n",
    "    filter((defence)==max(defence))%>%\n",
    "    arrange(desc(defence))%>%\n",
    "    distinct(defence)\n",
    "\n",
    "head(a, n=10)"
   ]
  },
  {
   "cell_type": "markdown",
   "metadata": {},
   "source": [
    "## 8. Which are the top 10 teams by number of scored goals?"
   ]
  },
  {
   "cell_type": "code",
   "execution_count": 12,
   "metadata": {
    "collapsed": false
   },
   "outputs": [
    {
     "data": {
      "text/html": [
       "<table>\n",
       "<thead><tr><th scope=col>totalteamgoals</th><th scope=col>team_long_name</th></tr></thead>\n",
       "<tbody>\n",
       "\t<tr><td>849              </td><td>FC Barcelona     </td></tr>\n",
       "\t<tr><td>843              </td><td>Real Madrid CF   </td></tr>\n",
       "\t<tr><td>695              </td><td>Celtic           </td></tr>\n",
       "\t<tr><td>653              </td><td>FC Bayern Munich </td></tr>\n",
       "\t<tr><td>652              </td><td>PSV              </td></tr>\n",
       "\t<tr><td>647              </td><td>Ajax             </td></tr>\n",
       "\t<tr><td>619              </td><td>FC Basel         </td></tr>\n",
       "\t<tr><td>606              </td><td>Manchester City  </td></tr>\n",
       "\t<tr><td>583              </td><td>Chelsea          </td></tr>\n",
       "\t<tr><td>582              </td><td>Manchester United</td></tr>\n",
       "</tbody>\n",
       "</table>\n"
      ],
      "text/latex": [
       "\\begin{tabular}{r|ll}\n",
       " totalteamgoals & team\\_long\\_name\\\\\n",
       "\\hline\n",
       "\t 849               & FC Barcelona     \\\\\n",
       "\t 843               & Real Madrid CF   \\\\\n",
       "\t 695               & Celtic           \\\\\n",
       "\t 653               & FC Bayern Munich \\\\\n",
       "\t 652               & PSV              \\\\\n",
       "\t 647               & Ajax             \\\\\n",
       "\t 619               & FC Basel         \\\\\n",
       "\t 606               & Manchester City  \\\\\n",
       "\t 583               & Chelsea          \\\\\n",
       "\t 582               & Manchester United\\\\\n",
       "\\end{tabular}\n"
      ],
      "text/markdown": [
       "\n",
       "totalteamgoals | team_long_name | \n",
       "|---|---|---|---|---|---|---|---|---|---|\n",
       "| 849               | FC Barcelona      | \n",
       "| 843               | Real Madrid CF    | \n",
       "| 695               | Celtic            | \n",
       "| 653               | FC Bayern Munich  | \n",
       "| 652               | PSV               | \n",
       "| 647               | Ajax              | \n",
       "| 619               | FC Basel          | \n",
       "| 606               | Manchester City   | \n",
       "| 583               | Chelsea           | \n",
       "| 582               | Manchester United | \n",
       "\n",
       "\n"
      ],
      "text/plain": [
       "   totalteamgoals team_long_name   \n",
       "1  849            FC Barcelona     \n",
       "2  843            Real Madrid CF   \n",
       "3  695            Celtic           \n",
       "4  653            FC Bayern Munich \n",
       "5  652            PSV              \n",
       "6  647            Ajax             \n",
       "7  619            FC Basel         \n",
       "8  606            Manchester City  \n",
       "9  583            Chelsea          \n",
       "10 582            Manchester United"
      ]
     },
     "metadata": {},
     "output_type": "display_data"
    }
   ],
   "source": [
    "a<-arrange(teams,desc(totalteamgoals))\n",
    "a<-a%>%group_by(team_long_name) %>%\n",
    "    filter((totalteamgoals)==max(totalteamgoals))%>%\n",
    "    arrange(desc(totalteamgoals))%>%\n",
    "    distinct(totalteamgoals)\n",
    "\n",
    "head(a, n=10)"
   ]
  },
  {
   "cell_type": "markdown",
   "metadata": {},
   "source": [
    "# References:\n",
    "### https://cran.r-project.org/web/packages/dplyr/vignettes/introduction.html\n",
    "### https://cran.r-project.org/web/packages/sqldf/sqldf.pdf"
   ]
  }
 ],
 "metadata": {
  "kernelspec": {
   "display_name": "R",
   "language": "R",
   "name": "ir"
  },
  "language_info": {
   "codemirror_mode": "r",
   "file_extension": ".r",
   "mimetype": "text/x-r-source",
   "name": "R",
   "pygments_lexer": "r",
   "version": "3.3.2"
  }
 },
 "nbformat": 4,
 "nbformat_minor": 2
}
