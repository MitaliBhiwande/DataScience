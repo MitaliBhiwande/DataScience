{
 "cells": [
  {
   "cell_type": "code",
   "execution_count": 1,
   "metadata": {
    "collapsed": false
   },
   "outputs": [
    {
     "name": "stderr",
     "output_type": "stream",
     "text": [
      "Updating HTML index of packages in '.Library'\n",
      "Making 'packages.html' ... done\n",
      "Updating HTML index of packages in '.Library'\n",
      "Making 'packages.html' ... done\n",
      "Updating HTML index of packages in '.Library'\n",
      "Making 'packages.html' ... done\n"
     ]
    }
   ],
   "source": [
    "install.packages(\"dplyr\")\n",
    "install.packages(\"RSQLite\")\n",
    "install.packages(\"sqldf\")"
   ]
  },
  {
   "cell_type": "code",
   "execution_count": 2,
   "metadata": {
    "collapsed": false
   },
   "outputs": [
    {
     "name": "stderr",
     "output_type": "stream",
     "text": [
      "\n",
      "Attaching package: ‘dplyr’\n",
      "\n",
      "The following objects are masked from ‘package:stats’:\n",
      "\n",
      "    filter, lag\n",
      "\n",
      "The following objects are masked from ‘package:base’:\n",
      "\n",
      "    intersect, setdiff, setequal, union\n",
      "\n",
      "Loading required package: gsubfn\n",
      "Loading required package: proto\n"
     ]
    }
   ],
   "source": [
    "library(RSQLite)\n",
    "library(dplyr)\n",
    "library(sqldf)"
   ]
  },
  {
   "cell_type": "code",
   "execution_count": 3,
   "metadata": {
    "collapsed": false
   },
   "outputs": [],
   "source": [
    "# read the database file\n",
    "\n",
    "dbfile<-\"/Users/mitalibhiwande/Desktop/DIC/database.sqlite\""
   ]
  },
  {
   "cell_type": "code",
   "execution_count": 4,
   "metadata": {
    "collapsed": false
   },
   "outputs": [],
   "source": [
    "#Cinnect to database\n",
    "dbcon <- dbConnect(dbDriver(\"SQLite\"),dbname = dbfile)"
   ]
  },
  {
   "cell_type": "code",
   "execution_count": 5,
   "metadata": {
    "collapsed": false
   },
   "outputs": [],
   "source": [
    "alltables = dbListTables(dbcon)"
   ]
  },
  {
   "cell_type": "code",
   "execution_count": 6,
   "metadata": {
    "collapsed": false
   },
   "outputs": [
    {
     "name": "stdout",
     "output_type": "stream",
     "text": [
      "[1] \"Country\"           \"League\"            \"Match\"            \n",
      "[4] \"Player\"            \"Player_Attributes\" \"Team\"             \n",
      "[7] \"Team_Attributes\"   \"sqlite_sequence\"  \n"
     ]
    }
   ],
   "source": [
    "print(alltables)"
   ]
  },
  {
   "cell_type": "markdown",
   "metadata": {},
   "source": [
    "#### Read all the tables as dataframes"
   ]
  },
  {
   "cell_type": "code",
   "execution_count": 7,
   "metadata": {
    "collapsed": true
   },
   "outputs": [],
   "source": [
    "player.df = dbGetQuery(dbcon,'select * from Player' )"
   ]
  },
  {
   "cell_type": "code",
   "execution_count": 8,
   "metadata": {
    "collapsed": true
   },
   "outputs": [],
   "source": [
    "team.df = dbGetQuery(dbcon,'select * from Team' )"
   ]
  },
  {
   "cell_type": "code",
   "execution_count": 9,
   "metadata": {
    "collapsed": true
   },
   "outputs": [],
   "source": [
    "playerattri.df = dbGetQuery(dbcon,'select * from Player_Attributes' )"
   ]
  },
  {
   "cell_type": "code",
   "execution_count": 10,
   "metadata": {
    "collapsed": true
   },
   "outputs": [],
   "source": [
    "teamattri.df = dbGetQuery(dbcon,'select * from Team_Attributes' )"
   ]
  },
  {
   "cell_type": "markdown",
   "metadata": {},
   "source": [
    "### Perform data munging on player, player attribute and match table to obtain players.csv"
   ]
  },
  {
   "cell_type": "code",
   "execution_count": 11,
   "metadata": {
    "collapsed": false
   },
   "outputs": [],
   "source": [
    "pa.df<-subset(playerattri.df, select = c(player_api_id,date,overall_rating,gk_diving,gk_handling,gk_kicking,gk_positioning,gk_reflexes))"
   ]
  },
  {
   "cell_type": "code",
   "execution_count": 12,
   "metadata": {
    "collapsed": false
   },
   "outputs": [
    {
     "data": {
      "text/html": [
       "<table>\n",
       "<thead><tr><th scope=col>player_api_id</th><th scope=col>date</th><th scope=col>overall_rating</th><th scope=col>gk_diving</th><th scope=col>gk_handling</th><th scope=col>gk_kicking</th><th scope=col>gk_positioning</th><th scope=col>gk_reflexes</th></tr></thead>\n",
       "<tbody>\n",
       "\t<tr><td>505942             </td><td>2016-02-18 00:00:00</td><td>67                 </td><td> 6                 </td><td>11                 </td><td>10                 </td><td>8                  </td><td> 8                 </td></tr>\n",
       "\t<tr><td>505942             </td><td>2015-11-19 00:00:00</td><td>67                 </td><td> 6                 </td><td>11                 </td><td>10                 </td><td>8                  </td><td> 8                 </td></tr>\n",
       "\t<tr><td>505942             </td><td>2015-09-21 00:00:00</td><td>62                 </td><td> 6                 </td><td>11                 </td><td>10                 </td><td>8                  </td><td> 8                 </td></tr>\n",
       "\t<tr><td>505942             </td><td>2015-03-20 00:00:00</td><td>61                 </td><td> 5                 </td><td>10                 </td><td> 9                 </td><td>7                  </td><td> 7                 </td></tr>\n",
       "\t<tr><td>505942             </td><td>2007-02-22 00:00:00</td><td>61                 </td><td> 5                 </td><td>10                 </td><td> 9                 </td><td>7                  </td><td> 7                 </td></tr>\n",
       "\t<tr><td>155782             </td><td>2016-04-21 00:00:00</td><td>74                 </td><td>14                 </td><td> 7                 </td><td> 9                 </td><td>9                  </td><td>12                 </td></tr>\n",
       "</tbody>\n",
       "</table>\n"
      ],
      "text/latex": [
       "\\begin{tabular}{r|llllllll}\n",
       " player\\_api\\_id & date & overall\\_rating & gk\\_diving & gk\\_handling & gk\\_kicking & gk\\_positioning & gk\\_reflexes\\\\\n",
       "\\hline\n",
       "\t 505942              & 2016-02-18 00:00:00 & 67                  &  6                  & 11                  & 10                  & 8                   &  8                 \\\\\n",
       "\t 505942              & 2015-11-19 00:00:00 & 67                  &  6                  & 11                  & 10                  & 8                   &  8                 \\\\\n",
       "\t 505942              & 2015-09-21 00:00:00 & 62                  &  6                  & 11                  & 10                  & 8                   &  8                 \\\\\n",
       "\t 505942              & 2015-03-20 00:00:00 & 61                  &  5                  & 10                  &  9                  & 7                   &  7                 \\\\\n",
       "\t 505942              & 2007-02-22 00:00:00 & 61                  &  5                  & 10                  &  9                  & 7                   &  7                 \\\\\n",
       "\t 155782              & 2016-04-21 00:00:00 & 74                  & 14                  &  7                  &  9                  & 9                   & 12                 \\\\\n",
       "\\end{tabular}\n"
      ],
      "text/markdown": [
       "\n",
       "player_api_id | date | overall_rating | gk_diving | gk_handling | gk_kicking | gk_positioning | gk_reflexes | \n",
       "|---|---|---|---|---|---|\n",
       "| 505942              | 2016-02-18 00:00:00 | 67                  |  6                  | 11                  | 10                  | 8                   |  8                  | \n",
       "| 505942              | 2015-11-19 00:00:00 | 67                  |  6                  | 11                  | 10                  | 8                   |  8                  | \n",
       "| 505942              | 2015-09-21 00:00:00 | 62                  |  6                  | 11                  | 10                  | 8                   |  8                  | \n",
       "| 505942              | 2015-03-20 00:00:00 | 61                  |  5                  | 10                  |  9                  | 7                   |  7                  | \n",
       "| 505942              | 2007-02-22 00:00:00 | 61                  |  5                  | 10                  |  9                  | 7                   |  7                  | \n",
       "| 155782              | 2016-04-21 00:00:00 | 74                  | 14                  |  7                  |  9                  | 9                   | 12                  | \n",
       "\n",
       "\n"
      ],
      "text/plain": [
       "  player_api_id date                overall_rating gk_diving gk_handling\n",
       "1 505942        2016-02-18 00:00:00 67              6        11         \n",
       "2 505942        2015-11-19 00:00:00 67              6        11         \n",
       "3 505942        2015-09-21 00:00:00 62              6        11         \n",
       "4 505942        2015-03-20 00:00:00 61              5        10         \n",
       "5 505942        2007-02-22 00:00:00 61              5        10         \n",
       "6 155782        2016-04-21 00:00:00 74             14         7         \n",
       "  gk_kicking gk_positioning gk_reflexes\n",
       "1 10         8               8         \n",
       "2 10         8               8         \n",
       "3 10         8               8         \n",
       "4  9         7               7         \n",
       "5  9         7               7         \n",
       "6  9         9              12         "
      ]
     },
     "metadata": {},
     "output_type": "display_data"
    }
   ],
   "source": [
    "head(pa.df)"
   ]
  },
  {
   "cell_type": "code",
   "execution_count": 13,
   "metadata": {
    "collapsed": true
   },
   "outputs": [],
   "source": [
    "pa.df$gk_rating <- pa.df$gk_diving + pa.df$gk_handling + pa.df$gk_kicking + pa.df$gk_positioning + pa.df$gk_reflexes"
   ]
  },
  {
   "cell_type": "code",
   "execution_count": 14,
   "metadata": {
    "collapsed": false
   },
   "outputs": [
    {
     "data": {
      "text/html": [
       "<table>\n",
       "<thead><tr><th scope=col>player_api_id</th><th scope=col>date</th><th scope=col>overall_rating</th><th scope=col>gk_diving</th><th scope=col>gk_handling</th><th scope=col>gk_kicking</th><th scope=col>gk_positioning</th><th scope=col>gk_reflexes</th><th scope=col>gk_rating</th></tr></thead>\n",
       "<tbody>\n",
       "\t<tr><td>505942             </td><td>2016-02-18 00:00:00</td><td>67                 </td><td> 6                 </td><td>11                 </td><td>10                 </td><td>8                  </td><td> 8                 </td><td>43                 </td></tr>\n",
       "\t<tr><td>505942             </td><td>2015-11-19 00:00:00</td><td>67                 </td><td> 6                 </td><td>11                 </td><td>10                 </td><td>8                  </td><td> 8                 </td><td>43                 </td></tr>\n",
       "\t<tr><td>505942             </td><td>2015-09-21 00:00:00</td><td>62                 </td><td> 6                 </td><td>11                 </td><td>10                 </td><td>8                  </td><td> 8                 </td><td>43                 </td></tr>\n",
       "\t<tr><td>505942             </td><td>2015-03-20 00:00:00</td><td>61                 </td><td> 5                 </td><td>10                 </td><td> 9                 </td><td>7                  </td><td> 7                 </td><td>38                 </td></tr>\n",
       "\t<tr><td>505942             </td><td>2007-02-22 00:00:00</td><td>61                 </td><td> 5                 </td><td>10                 </td><td> 9                 </td><td>7                  </td><td> 7                 </td><td>38                 </td></tr>\n",
       "\t<tr><td>155782             </td><td>2016-04-21 00:00:00</td><td>74                 </td><td>14                 </td><td> 7                 </td><td> 9                 </td><td>9                  </td><td>12                 </td><td>51                 </td></tr>\n",
       "</tbody>\n",
       "</table>\n"
      ],
      "text/latex": [
       "\\begin{tabular}{r|lllllllll}\n",
       " player\\_api\\_id & date & overall\\_rating & gk\\_diving & gk\\_handling & gk\\_kicking & gk\\_positioning & gk\\_reflexes & gk\\_rating\\\\\n",
       "\\hline\n",
       "\t 505942              & 2016-02-18 00:00:00 & 67                  &  6                  & 11                  & 10                  & 8                   &  8                  & 43                 \\\\\n",
       "\t 505942              & 2015-11-19 00:00:00 & 67                  &  6                  & 11                  & 10                  & 8                   &  8                  & 43                 \\\\\n",
       "\t 505942              & 2015-09-21 00:00:00 & 62                  &  6                  & 11                  & 10                  & 8                   &  8                  & 43                 \\\\\n",
       "\t 505942              & 2015-03-20 00:00:00 & 61                  &  5                  & 10                  &  9                  & 7                   &  7                  & 38                 \\\\\n",
       "\t 505942              & 2007-02-22 00:00:00 & 61                  &  5                  & 10                  &  9                  & 7                   &  7                  & 38                 \\\\\n",
       "\t 155782              & 2016-04-21 00:00:00 & 74                  & 14                  &  7                  &  9                  & 9                   & 12                  & 51                 \\\\\n",
       "\\end{tabular}\n"
      ],
      "text/markdown": [
       "\n",
       "player_api_id | date | overall_rating | gk_diving | gk_handling | gk_kicking | gk_positioning | gk_reflexes | gk_rating | \n",
       "|---|---|---|---|---|---|\n",
       "| 505942              | 2016-02-18 00:00:00 | 67                  |  6                  | 11                  | 10                  | 8                   |  8                  | 43                  | \n",
       "| 505942              | 2015-11-19 00:00:00 | 67                  |  6                  | 11                  | 10                  | 8                   |  8                  | 43                  | \n",
       "| 505942              | 2015-09-21 00:00:00 | 62                  |  6                  | 11                  | 10                  | 8                   |  8                  | 43                  | \n",
       "| 505942              | 2015-03-20 00:00:00 | 61                  |  5                  | 10                  |  9                  | 7                   |  7                  | 38                  | \n",
       "| 505942              | 2007-02-22 00:00:00 | 61                  |  5                  | 10                  |  9                  | 7                   |  7                  | 38                  | \n",
       "| 155782              | 2016-04-21 00:00:00 | 74                  | 14                  |  7                  |  9                  | 9                   | 12                  | 51                  | \n",
       "\n",
       "\n"
      ],
      "text/plain": [
       "  player_api_id date                overall_rating gk_diving gk_handling\n",
       "1 505942        2016-02-18 00:00:00 67              6        11         \n",
       "2 505942        2015-11-19 00:00:00 67              6        11         \n",
       "3 505942        2015-09-21 00:00:00 62              6        11         \n",
       "4 505942        2015-03-20 00:00:00 61              5        10         \n",
       "5 505942        2007-02-22 00:00:00 61              5        10         \n",
       "6 155782        2016-04-21 00:00:00 74             14         7         \n",
       "  gk_kicking gk_positioning gk_reflexes gk_rating\n",
       "1 10         8               8          43       \n",
       "2 10         8               8          43       \n",
       "3 10         8               8          43       \n",
       "4  9         7               7          38       \n",
       "5  9         7               7          38       \n",
       "6  9         9              12          51       "
      ]
     },
     "metadata": {},
     "output_type": "display_data"
    }
   ],
   "source": [
    "head(pa.df)"
   ]
  },
  {
   "cell_type": "code",
   "execution_count": 15,
   "metadata": {
    "collapsed": false
   },
   "outputs": [],
   "source": [
    "pa1.df<-subset(pa.df, select=c(player_api_id,date,overall_rating,gk_rating))"
   ]
  },
  {
   "cell_type": "code",
   "execution_count": 16,
   "metadata": {
    "collapsed": false
   },
   "outputs": [
    {
     "data": {
      "text/html": [
       "<table>\n",
       "<thead><tr><th scope=col>player_api_id</th><th scope=col>date</th><th scope=col>overall_rating</th><th scope=col>gk_rating</th></tr></thead>\n",
       "<tbody>\n",
       "\t<tr><td>505942             </td><td>2016-02-18 00:00:00</td><td>67                 </td><td>43                 </td></tr>\n",
       "\t<tr><td>505942             </td><td>2015-11-19 00:00:00</td><td>67                 </td><td>43                 </td></tr>\n",
       "\t<tr><td>505942             </td><td>2015-09-21 00:00:00</td><td>62                 </td><td>43                 </td></tr>\n",
       "\t<tr><td>505942             </td><td>2015-03-20 00:00:00</td><td>61                 </td><td>38                 </td></tr>\n",
       "\t<tr><td>505942             </td><td>2007-02-22 00:00:00</td><td>61                 </td><td>38                 </td></tr>\n",
       "\t<tr><td>155782             </td><td>2016-04-21 00:00:00</td><td>74                 </td><td>51                 </td></tr>\n",
       "</tbody>\n",
       "</table>\n"
      ],
      "text/latex": [
       "\\begin{tabular}{r|llll}\n",
       " player\\_api\\_id & date & overall\\_rating & gk\\_rating\\\\\n",
       "\\hline\n",
       "\t 505942              & 2016-02-18 00:00:00 & 67                  & 43                 \\\\\n",
       "\t 505942              & 2015-11-19 00:00:00 & 67                  & 43                 \\\\\n",
       "\t 505942              & 2015-09-21 00:00:00 & 62                  & 43                 \\\\\n",
       "\t 505942              & 2015-03-20 00:00:00 & 61                  & 38                 \\\\\n",
       "\t 505942              & 2007-02-22 00:00:00 & 61                  & 38                 \\\\\n",
       "\t 155782              & 2016-04-21 00:00:00 & 74                  & 51                 \\\\\n",
       "\\end{tabular}\n"
      ],
      "text/markdown": [
       "\n",
       "player_api_id | date | overall_rating | gk_rating | \n",
       "|---|---|---|---|---|---|\n",
       "| 505942              | 2016-02-18 00:00:00 | 67                  | 43                  | \n",
       "| 505942              | 2015-11-19 00:00:00 | 67                  | 43                  | \n",
       "| 505942              | 2015-09-21 00:00:00 | 62                  | 43                  | \n",
       "| 505942              | 2015-03-20 00:00:00 | 61                  | 38                  | \n",
       "| 505942              | 2007-02-22 00:00:00 | 61                  | 38                  | \n",
       "| 155782              | 2016-04-21 00:00:00 | 74                  | 51                  | \n",
       "\n",
       "\n"
      ],
      "text/plain": [
       "  player_api_id date                overall_rating gk_rating\n",
       "1 505942        2016-02-18 00:00:00 67             43       \n",
       "2 505942        2015-11-19 00:00:00 67             43       \n",
       "3 505942        2015-09-21 00:00:00 62             43       \n",
       "4 505942        2015-03-20 00:00:00 61             38       \n",
       "5 505942        2007-02-22 00:00:00 61             38       \n",
       "6 155782        2016-04-21 00:00:00 74             51       "
      ]
     },
     "metadata": {},
     "output_type": "display_data"
    }
   ],
   "source": [
    "head(pa1.df)"
   ]
  },
  {
   "cell_type": "code",
   "execution_count": 17,
   "metadata": {
    "collapsed": false
   },
   "outputs": [],
   "source": [
    "player1.df<-subset(player.df,select=c(player_api_id,player_name))"
   ]
  },
  {
   "cell_type": "code",
   "execution_count": 18,
   "metadata": {
    "collapsed": false
   },
   "outputs": [
    {
     "data": {
      "text/html": [
       "<table>\n",
       "<thead><tr><th scope=col>player_api_id</th><th scope=col>player_name</th></tr></thead>\n",
       "<tbody>\n",
       "\t<tr><td>505942            </td><td>Aaron Appindangoye</td></tr>\n",
       "\t<tr><td>155782            </td><td>Aaron Cresswell   </td></tr>\n",
       "\t<tr><td>162549            </td><td>Aaron Doran       </td></tr>\n",
       "\t<tr><td> 30572            </td><td>Aaron Galindo     </td></tr>\n",
       "\t<tr><td> 23780            </td><td>Aaron Hughes      </td></tr>\n",
       "\t<tr><td> 27316            </td><td>Aaron Hunt        </td></tr>\n",
       "</tbody>\n",
       "</table>\n"
      ],
      "text/latex": [
       "\\begin{tabular}{r|ll}\n",
       " player\\_api\\_id & player\\_name\\\\\n",
       "\\hline\n",
       "\t 505942             & Aaron Appindangoye\\\\\n",
       "\t 155782             & Aaron Cresswell   \\\\\n",
       "\t 162549             & Aaron Doran       \\\\\n",
       "\t  30572             & Aaron Galindo     \\\\\n",
       "\t  23780             & Aaron Hughes      \\\\\n",
       "\t  27316             & Aaron Hunt        \\\\\n",
       "\\end{tabular}\n"
      ],
      "text/markdown": [
       "\n",
       "player_api_id | player_name | \n",
       "|---|---|---|---|---|---|\n",
       "| 505942             | Aaron Appindangoye | \n",
       "| 155782             | Aaron Cresswell    | \n",
       "| 162549             | Aaron Doran        | \n",
       "|  30572             | Aaron Galindo      | \n",
       "|  23780             | Aaron Hughes       | \n",
       "|  27316             | Aaron Hunt         | \n",
       "\n",
       "\n"
      ],
      "text/plain": [
       "  player_api_id player_name       \n",
       "1 505942        Aaron Appindangoye\n",
       "2 155782        Aaron Cresswell   \n",
       "3 162549        Aaron Doran       \n",
       "4  30572        Aaron Galindo     \n",
       "5  23780        Aaron Hughes      \n",
       "6  27316        Aaron Hunt        "
      ]
     },
     "metadata": {},
     "output_type": "display_data"
    }
   ],
   "source": [
    "head(player1.df)"
   ]
  },
  {
   "cell_type": "code",
   "execution_count": 19,
   "metadata": {
    "collapsed": true
   },
   "outputs": [],
   "source": [
    "playermerge=merge(pa1.df,player1.df,by=\"player_api_id\")"
   ]
  },
  {
   "cell_type": "code",
   "execution_count": 20,
   "metadata": {
    "collapsed": false
   },
   "outputs": [
    {
     "data": {
      "text/html": [
       "<table>\n",
       "<thead><tr><th scope=col>player_api_id</th><th scope=col>date</th><th scope=col>overall_rating</th><th scope=col>gk_rating</th><th scope=col>player_name</th></tr></thead>\n",
       "<tbody>\n",
       "\t<tr><td>2625               </td><td>2015-01-16 00:00:00</td><td>61                 </td><td>45                 </td><td>Patryk Rachwal,18  </td></tr>\n",
       "\t<tr><td>2625               </td><td>2014-11-07 00:00:00</td><td>61                 </td><td>45                 </td><td>Patryk Rachwal,18  </td></tr>\n",
       "\t<tr><td>2625               </td><td>2014-09-18 00:00:00</td><td>61                 </td><td>45                 </td><td>Patryk Rachwal,18  </td></tr>\n",
       "\t<tr><td>2625               </td><td>2013-06-07 00:00:00</td><td>61                 </td><td>45                 </td><td>Patryk Rachwal,18  </td></tr>\n",
       "\t<tr><td>2625               </td><td>2013-03-08 00:00:00</td><td>61                 </td><td>45                 </td><td>Patryk Rachwal,18  </td></tr>\n",
       "\t<tr><td>2625               </td><td>2013-02-15 00:00:00</td><td>58                 </td><td>45                 </td><td>Patryk Rachwal,18  </td></tr>\n",
       "</tbody>\n",
       "</table>\n"
      ],
      "text/latex": [
       "\\begin{tabular}{r|lllll}\n",
       " player\\_api\\_id & date & overall\\_rating & gk\\_rating & player\\_name\\\\\n",
       "\\hline\n",
       "\t 2625                & 2015-01-16 00:00:00 & 61                  & 45                  & Patryk Rachwal,18  \\\\\n",
       "\t 2625                & 2014-11-07 00:00:00 & 61                  & 45                  & Patryk Rachwal,18  \\\\\n",
       "\t 2625                & 2014-09-18 00:00:00 & 61                  & 45                  & Patryk Rachwal,18  \\\\\n",
       "\t 2625                & 2013-06-07 00:00:00 & 61                  & 45                  & Patryk Rachwal,18  \\\\\n",
       "\t 2625                & 2013-03-08 00:00:00 & 61                  & 45                  & Patryk Rachwal,18  \\\\\n",
       "\t 2625                & 2013-02-15 00:00:00 & 58                  & 45                  & Patryk Rachwal,18  \\\\\n",
       "\\end{tabular}\n"
      ],
      "text/markdown": [
       "\n",
       "player_api_id | date | overall_rating | gk_rating | player_name | \n",
       "|---|---|---|---|---|---|\n",
       "| 2625                | 2015-01-16 00:00:00 | 61                  | 45                  | Patryk Rachwal,18   | \n",
       "| 2625                | 2014-11-07 00:00:00 | 61                  | 45                  | Patryk Rachwal,18   | \n",
       "| 2625                | 2014-09-18 00:00:00 | 61                  | 45                  | Patryk Rachwal,18   | \n",
       "| 2625                | 2013-06-07 00:00:00 | 61                  | 45                  | Patryk Rachwal,18   | \n",
       "| 2625                | 2013-03-08 00:00:00 | 61                  | 45                  | Patryk Rachwal,18   | \n",
       "| 2625                | 2013-02-15 00:00:00 | 58                  | 45                  | Patryk Rachwal,18   | \n",
       "\n",
       "\n"
      ],
      "text/plain": [
       "  player_api_id date                overall_rating gk_rating player_name      \n",
       "1 2625          2015-01-16 00:00:00 61             45        Patryk Rachwal,18\n",
       "2 2625          2014-11-07 00:00:00 61             45        Patryk Rachwal,18\n",
       "3 2625          2014-09-18 00:00:00 61             45        Patryk Rachwal,18\n",
       "4 2625          2013-06-07 00:00:00 61             45        Patryk Rachwal,18\n",
       "5 2625          2013-03-08 00:00:00 61             45        Patryk Rachwal,18\n",
       "6 2625          2013-02-15 00:00:00 58             45        Patryk Rachwal,18"
      ]
     },
     "metadata": {},
     "output_type": "display_data"
    }
   ],
   "source": [
    "head(playermerge)"
   ]
  },
  {
   "cell_type": "code",
   "execution_count": 21,
   "metadata": {
    "collapsed": false
   },
   "outputs": [],
   "source": [
    "match.df<-dbGetQuery(dbcon,'select * from Match' )"
   ]
  },
  {
   "cell_type": "code",
   "execution_count": 22,
   "metadata": {
    "collapsed": true
   },
   "outputs": [],
   "source": [
    "m.df<-match.df[,56:77]"
   ]
  },
  {
   "cell_type": "code",
   "execution_count": 23,
   "metadata": {
    "collapsed": false
   },
   "outputs": [
    {
     "data": {
      "text/html": [
       "<table>\n",
       "<thead><tr><th scope=col>home_player_1</th><th scope=col>home_player_2</th><th scope=col>home_player_3</th><th scope=col>home_player_4</th><th scope=col>home_player_5</th><th scope=col>home_player_6</th><th scope=col>home_player_7</th><th scope=col>home_player_8</th><th scope=col>home_player_9</th><th scope=col>home_player_10</th><th scope=col>⋯</th><th scope=col>away_player_2</th><th scope=col>away_player_3</th><th scope=col>away_player_4</th><th scope=col>away_player_5</th><th scope=col>away_player_6</th><th scope=col>away_player_7</th><th scope=col>away_player_8</th><th scope=col>away_player_9</th><th scope=col>away_player_10</th><th scope=col>away_player_11</th></tr></thead>\n",
       "<tbody>\n",
       "\t<tr><td>NA</td><td>NA</td><td>NA</td><td>NA</td><td>NA</td><td>NA</td><td>NA</td><td>NA</td><td>NA</td><td>NA</td><td>⋯ </td><td>NA</td><td>NA</td><td>NA</td><td>NA</td><td>NA</td><td>NA</td><td>NA</td><td>NA</td><td>NA</td><td>NA</td></tr>\n",
       "\t<tr><td>NA</td><td>NA</td><td>NA</td><td>NA</td><td>NA</td><td>NA</td><td>NA</td><td>NA</td><td>NA</td><td>NA</td><td>⋯ </td><td>NA</td><td>NA</td><td>NA</td><td>NA</td><td>NA</td><td>NA</td><td>NA</td><td>NA</td><td>NA</td><td>NA</td></tr>\n",
       "\t<tr><td>NA</td><td>NA</td><td>NA</td><td>NA</td><td>NA</td><td>NA</td><td>NA</td><td>NA</td><td>NA</td><td>NA</td><td>⋯ </td><td>NA</td><td>NA</td><td>NA</td><td>NA</td><td>NA</td><td>NA</td><td>NA</td><td>NA</td><td>NA</td><td>NA</td></tr>\n",
       "\t<tr><td>NA</td><td>NA</td><td>NA</td><td>NA</td><td>NA</td><td>NA</td><td>NA</td><td>NA</td><td>NA</td><td>NA</td><td>⋯ </td><td>NA</td><td>NA</td><td>NA</td><td>NA</td><td>NA</td><td>NA</td><td>NA</td><td>NA</td><td>NA</td><td>NA</td></tr>\n",
       "\t<tr><td>NA</td><td>NA</td><td>NA</td><td>NA</td><td>NA</td><td>NA</td><td>NA</td><td>NA</td><td>NA</td><td>NA</td><td>⋯ </td><td>NA</td><td>NA</td><td>NA</td><td>NA</td><td>NA</td><td>NA</td><td>NA</td><td>NA</td><td>NA</td><td>NA</td></tr>\n",
       "\t<tr><td>NA</td><td>NA</td><td>NA</td><td>NA</td><td>NA</td><td>NA</td><td>NA</td><td>NA</td><td>NA</td><td>NA</td><td>⋯ </td><td>NA</td><td>NA</td><td>NA</td><td>NA</td><td>NA</td><td>NA</td><td>NA</td><td>NA</td><td>NA</td><td>NA</td></tr>\n",
       "</tbody>\n",
       "</table>\n"
      ],
      "text/latex": [
       "\\begin{tabular}{r|llllllllllllllllllllll}\n",
       " home\\_player\\_1 & home\\_player\\_2 & home\\_player\\_3 & home\\_player\\_4 & home\\_player\\_5 & home\\_player\\_6 & home\\_player\\_7 & home\\_player\\_8 & home\\_player\\_9 & home\\_player\\_10 & ⋯ & away\\_player\\_2 & away\\_player\\_3 & away\\_player\\_4 & away\\_player\\_5 & away\\_player\\_6 & away\\_player\\_7 & away\\_player\\_8 & away\\_player\\_9 & away\\_player\\_10 & away\\_player\\_11\\\\\n",
       "\\hline\n",
       "\t NA & NA & NA & NA & NA & NA & NA & NA & NA & NA & ⋯  & NA & NA & NA & NA & NA & NA & NA & NA & NA & NA\\\\\n",
       "\t NA & NA & NA & NA & NA & NA & NA & NA & NA & NA & ⋯  & NA & NA & NA & NA & NA & NA & NA & NA & NA & NA\\\\\n",
       "\t NA & NA & NA & NA & NA & NA & NA & NA & NA & NA & ⋯  & NA & NA & NA & NA & NA & NA & NA & NA & NA & NA\\\\\n",
       "\t NA & NA & NA & NA & NA & NA & NA & NA & NA & NA & ⋯  & NA & NA & NA & NA & NA & NA & NA & NA & NA & NA\\\\\n",
       "\t NA & NA & NA & NA & NA & NA & NA & NA & NA & NA & ⋯  & NA & NA & NA & NA & NA & NA & NA & NA & NA & NA\\\\\n",
       "\t NA & NA & NA & NA & NA & NA & NA & NA & NA & NA & ⋯  & NA & NA & NA & NA & NA & NA & NA & NA & NA & NA\\\\\n",
       "\\end{tabular}\n"
      ],
      "text/markdown": [
       "\n",
       "home_player_1 | home_player_2 | home_player_3 | home_player_4 | home_player_5 | home_player_6 | home_player_7 | home_player_8 | home_player_9 | home_player_10 | ⋯ | away_player_2 | away_player_3 | away_player_4 | away_player_5 | away_player_6 | away_player_7 | away_player_8 | away_player_9 | away_player_10 | away_player_11 | \n",
       "|---|---|---|---|---|---|\n",
       "| NA | NA | NA | NA | NA | NA | NA | NA | NA | NA | ⋯  | NA | NA | NA | NA | NA | NA | NA | NA | NA | NA | \n",
       "| NA | NA | NA | NA | NA | NA | NA | NA | NA | NA | ⋯  | NA | NA | NA | NA | NA | NA | NA | NA | NA | NA | \n",
       "| NA | NA | NA | NA | NA | NA | NA | NA | NA | NA | ⋯  | NA | NA | NA | NA | NA | NA | NA | NA | NA | NA | \n",
       "| NA | NA | NA | NA | NA | NA | NA | NA | NA | NA | ⋯  | NA | NA | NA | NA | NA | NA | NA | NA | NA | NA | \n",
       "| NA | NA | NA | NA | NA | NA | NA | NA | NA | NA | ⋯  | NA | NA | NA | NA | NA | NA | NA | NA | NA | NA | \n",
       "| NA | NA | NA | NA | NA | NA | NA | NA | NA | NA | ⋯  | NA | NA | NA | NA | NA | NA | NA | NA | NA | NA | \n",
       "\n",
       "\n"
      ],
      "text/plain": [
       "  home_player_1 home_player_2 home_player_3 home_player_4 home_player_5\n",
       "1 NA            NA            NA            NA            NA           \n",
       "2 NA            NA            NA            NA            NA           \n",
       "3 NA            NA            NA            NA            NA           \n",
       "4 NA            NA            NA            NA            NA           \n",
       "5 NA            NA            NA            NA            NA           \n",
       "6 NA            NA            NA            NA            NA           \n",
       "  home_player_6 home_player_7 home_player_8 home_player_9 home_player_10 ⋯\n",
       "1 NA            NA            NA            NA            NA             ⋯\n",
       "2 NA            NA            NA            NA            NA             ⋯\n",
       "3 NA            NA            NA            NA            NA             ⋯\n",
       "4 NA            NA            NA            NA            NA             ⋯\n",
       "5 NA            NA            NA            NA            NA             ⋯\n",
       "6 NA            NA            NA            NA            NA             ⋯\n",
       "  away_player_2 away_player_3 away_player_4 away_player_5 away_player_6\n",
       "1 NA            NA            NA            NA            NA           \n",
       "2 NA            NA            NA            NA            NA           \n",
       "3 NA            NA            NA            NA            NA           \n",
       "4 NA            NA            NA            NA            NA           \n",
       "5 NA            NA            NA            NA            NA           \n",
       "6 NA            NA            NA            NA            NA           \n",
       "  away_player_7 away_player_8 away_player_9 away_player_10 away_player_11\n",
       "1 NA            NA            NA            NA             NA            \n",
       "2 NA            NA            NA            NA             NA            \n",
       "3 NA            NA            NA            NA             NA            \n",
       "4 NA            NA            NA            NA             NA            \n",
       "5 NA            NA            NA            NA             NA            \n",
       "6 NA            NA            NA            NA             NA            "
      ]
     },
     "metadata": {},
     "output_type": "display_data"
    }
   ],
   "source": [
    "head(m.df)"
   ]
  },
  {
   "cell_type": "code",
   "execution_count": 24,
   "metadata": {
    "collapsed": false
   },
   "outputs": [],
   "source": [
    "m.df<-na.omit(m.df)"
   ]
  },
  {
   "cell_type": "code",
   "execution_count": 25,
   "metadata": {
    "collapsed": false
   },
   "outputs": [
    {
     "data": {
      "text/html": [
       "<table>\n",
       "<thead><tr><th></th><th scope=col>home_player_1</th><th scope=col>home_player_2</th><th scope=col>home_player_3</th><th scope=col>home_player_4</th><th scope=col>home_player_5</th><th scope=col>home_player_6</th><th scope=col>home_player_7</th><th scope=col>home_player_8</th><th scope=col>home_player_9</th><th scope=col>home_player_10</th><th scope=col>⋯</th><th scope=col>away_player_2</th><th scope=col>away_player_3</th><th scope=col>away_player_4</th><th scope=col>away_player_5</th><th scope=col>away_player_6</th><th scope=col>away_player_7</th><th scope=col>away_player_8</th><th scope=col>away_player_9</th><th scope=col>away_player_10</th><th scope=col>away_player_11</th></tr></thead>\n",
       "<tbody>\n",
       "\t<tr><th scope=row>146</th><td> 38327</td><td>67950 </td><td>67958 </td><td>67959 </td><td> 37112</td><td>36393 </td><td>148286</td><td> 67898</td><td>164352</td><td>38801 </td><td>⋯     </td><td>38293 </td><td>148313</td><td>104411</td><td>148314</td><td>37202 </td><td> 43158</td><td>  9307</td><td> 42153</td><td>32690 </td><td> 38782</td></tr>\n",
       "\t<tr><th scope=row>154</th><td> 36835</td><td>37047 </td><td>37021 </td><td>37051 </td><td>104386</td><td>32863 </td><td> 37957</td><td> 37909</td><td> 38357</td><td>37065 </td><td>⋯     </td><td>21812 </td><td> 11736</td><td> 37858</td><td> 38366</td><td>37983 </td><td> 39578</td><td> 38336</td><td> 52280</td><td>27423 </td><td> 38440</td></tr>\n",
       "\t<tr><th scope=row>156</th><td> 34480</td><td>38388 </td><td>26458 </td><td>13423 </td><td> 38389</td><td>30949 </td><td> 38393</td><td> 38253</td><td> 38383</td><td>38778 </td><td>⋯     </td><td>37886 </td><td> 37903</td><td> 37889</td><td> 94030</td><td>37893 </td><td> 37981</td><td>131531</td><td>130027</td><td>38231 </td><td>131530</td></tr>\n",
       "\t<tr><th scope=row>163</th><td> 38327</td><td>67950 </td><td>67958 </td><td>38801 </td><td> 67898</td><td>37112 </td><td> 67959</td><td>148286</td><td>164352</td><td>33657 </td><td>⋯     </td><td>38388 </td><td> 38389</td><td> 31316</td><td>164694</td><td>30949 </td><td> 38378</td><td> 38383</td><td> 38393</td><td>38253 </td><td> 37069</td></tr>\n",
       "\t<tr><th scope=row>169</th><td> 37900</td><td>37886 </td><td>37100 </td><td>37903 </td><td> 37889</td><td>37893 </td><td> 37981</td><td>131531</td><td>131530</td><td>38231 </td><td>⋯     </td><td>38247 </td><td> 16387</td><td> 94288</td><td> 94284</td><td>45832 </td><td> 26669</td><td> 33671</td><td>163670</td><td>37945 </td><td> 33622</td></tr>\n",
       "\t<tr><th scope=row>174</th><td>104378</td><td>38248 </td><td>36841 </td><td>38255 </td><td>104382</td><td>33662 </td><td> 37044</td><td> 32760</td><td> 38229</td><td>39875 </td><td>⋯     </td><td>37887 </td><td> 37886</td><td> 37903</td><td> 94030</td><td>37981 </td><td>131531</td><td>131530</td><td>130027</td><td>38231 </td><td> 75500</td></tr>\n",
       "</tbody>\n",
       "</table>\n"
      ],
      "text/latex": [
       "\\begin{tabular}{r|llllllllllllllllllllll}\n",
       "  & home\\_player\\_1 & home\\_player\\_2 & home\\_player\\_3 & home\\_player\\_4 & home\\_player\\_5 & home\\_player\\_6 & home\\_player\\_7 & home\\_player\\_8 & home\\_player\\_9 & home\\_player\\_10 & ⋯ & away\\_player\\_2 & away\\_player\\_3 & away\\_player\\_4 & away\\_player\\_5 & away\\_player\\_6 & away\\_player\\_7 & away\\_player\\_8 & away\\_player\\_9 & away\\_player\\_10 & away\\_player\\_11\\\\\n",
       "\\hline\n",
       "\t146 &  38327 & 67950  & 67958  & 67959  &  37112 & 36393  & 148286 &  67898 & 164352 & 38801  & ⋯      & 38293  & 148313 & 104411 & 148314 & 37202  &  43158 &   9307 &  42153 & 32690  &  38782\\\\\n",
       "\t154 &  36835 & 37047  & 37021  & 37051  & 104386 & 32863  &  37957 &  37909 &  38357 & 37065  & ⋯      & 21812  &  11736 &  37858 &  38366 & 37983  &  39578 &  38336 &  52280 & 27423  &  38440\\\\\n",
       "\t156 &  34480 & 38388  & 26458  & 13423  &  38389 & 30949  &  38393 &  38253 &  38383 & 38778  & ⋯      & 37886  &  37903 &  37889 &  94030 & 37893  &  37981 & 131531 & 130027 & 38231  & 131530\\\\\n",
       "\t163 &  38327 & 67950  & 67958  & 38801  &  67898 & 37112  &  67959 & 148286 & 164352 & 33657  & ⋯      & 38388  &  38389 &  31316 & 164694 & 30949  &  38378 &  38383 &  38393 & 38253  &  37069\\\\\n",
       "\t169 &  37900 & 37886  & 37100  & 37903  &  37889 & 37893  &  37981 & 131531 & 131530 & 38231  & ⋯      & 38247  &  16387 &  94288 &  94284 & 45832  &  26669 &  33671 & 163670 & 37945  &  33622\\\\\n",
       "\t174 & 104378 & 38248  & 36841  & 38255  & 104382 & 33662  &  37044 &  32760 &  38229 & 39875  & ⋯      & 37887  &  37886 &  37903 &  94030 & 37981  & 131531 & 131530 & 130027 & 38231  &  75500\\\\\n",
       "\\end{tabular}\n"
      ],
      "text/markdown": [
       "\n",
       "| <!--/--> | home_player_1 | home_player_2 | home_player_3 | home_player_4 | home_player_5 | home_player_6 | home_player_7 | home_player_8 | home_player_9 | home_player_10 | ⋯ | away_player_2 | away_player_3 | away_player_4 | away_player_5 | away_player_6 | away_player_7 | away_player_8 | away_player_9 | away_player_10 | away_player_11 | \n",
       "|---|---|---|---|---|---|\n",
       "| 146 |  38327 | 67950  | 67958  | 67959  |  37112 | 36393  | 148286 |  67898 | 164352 | 38801  | ⋯      | 38293  | 148313 | 104411 | 148314 | 37202  |  43158 |   9307 |  42153 | 32690  |  38782 | \n",
       "| 154 |  36835 | 37047  | 37021  | 37051  | 104386 | 32863  |  37957 |  37909 |  38357 | 37065  | ⋯      | 21812  |  11736 |  37858 |  38366 | 37983  |  39578 |  38336 |  52280 | 27423  |  38440 | \n",
       "| 156 |  34480 | 38388  | 26458  | 13423  |  38389 | 30949  |  38393 |  38253 |  38383 | 38778  | ⋯      | 37886  |  37903 |  37889 |  94030 | 37893  |  37981 | 131531 | 130027 | 38231  | 131530 | \n",
       "| 163 |  38327 | 67950  | 67958  | 38801  |  67898 | 37112  |  67959 | 148286 | 164352 | 33657  | ⋯      | 38388  |  38389 |  31316 | 164694 | 30949  |  38378 |  38383 |  38393 | 38253  |  37069 | \n",
       "| 169 |  37900 | 37886  | 37100  | 37903  |  37889 | 37893  |  37981 | 131531 | 131530 | 38231  | ⋯      | 38247  |  16387 |  94288 |  94284 | 45832  |  26669 |  33671 | 163670 | 37945  |  33622 | \n",
       "| 174 | 104378 | 38248  | 36841  | 38255  | 104382 | 33662  |  37044 |  32760 |  38229 | 39875  | ⋯      | 37887  |  37886 |  37903 |  94030 | 37981  | 131531 | 131530 | 130027 | 38231  |  75500 | \n",
       "\n",
       "\n"
      ],
      "text/plain": [
       "    home_player_1 home_player_2 home_player_3 home_player_4 home_player_5\n",
       "146  38327        67950         67958         67959          37112       \n",
       "154  36835        37047         37021         37051         104386       \n",
       "156  34480        38388         26458         13423          38389       \n",
       "163  38327        67950         67958         38801          67898       \n",
       "169  37900        37886         37100         37903          37889       \n",
       "174 104378        38248         36841         38255         104382       \n",
       "    home_player_6 home_player_7 home_player_8 home_player_9 home_player_10 ⋯\n",
       "146 36393         148286         67898        164352        38801          ⋯\n",
       "154 32863          37957         37909         38357        37065          ⋯\n",
       "156 30949          38393         38253         38383        38778          ⋯\n",
       "163 37112          67959        148286        164352        33657          ⋯\n",
       "169 37893          37981        131531        131530        38231          ⋯\n",
       "174 33662          37044         32760         38229        39875          ⋯\n",
       "    away_player_2 away_player_3 away_player_4 away_player_5 away_player_6\n",
       "146 38293         148313        104411        148314        37202        \n",
       "154 21812          11736         37858         38366        37983        \n",
       "156 37886          37903         37889         94030        37893        \n",
       "163 38388          38389         31316        164694        30949        \n",
       "169 38247          16387         94288         94284        45832        \n",
       "174 37887          37886         37903         94030        37981        \n",
       "    away_player_7 away_player_8 away_player_9 away_player_10 away_player_11\n",
       "146  43158          9307         42153        32690           38782        \n",
       "154  39578         38336         52280        27423           38440        \n",
       "156  37981        131531        130027        38231          131530        \n",
       "163  38378         38383         38393        38253           37069        \n",
       "169  26669         33671        163670        37945           33622        \n",
       "174 131531        131530        130027        38231           75500        "
      ]
     },
     "metadata": {},
     "output_type": "display_data"
    }
   ],
   "source": [
    "head(m.df)"
   ]
  },
  {
   "cell_type": "code",
   "execution_count": 26,
   "metadata": {
    "collapsed": false
   },
   "outputs": [],
   "source": [
    "sumcount<-as.data.frame(table(c(m.df$home_player_1,m.df$home_player_2,m.df$home_player_3,m.df$home_player_4,m.df$home_player_5,m.df$home_player_6,m.df$home_player_7,m.df$home_player_8,m.df$home_player_9,m.df$home_player_10,m.df$home_player_11,m.df$away_player_1,m.df$away_player_2,m.df$away_player_3,m.df$away_player_4,m.df$away_player_5,m.df$away_player_6,m.df$away_player_7,m.df$away_player_8,m.df$away_player_9,m.df$away_player_10,m.df$away_player_11)))"
   ]
  },
  {
   "cell_type": "code",
   "execution_count": 27,
   "metadata": {
    "collapsed": false
   },
   "outputs": [
    {
     "data": {
      "text/html": [
       "<table>\n",
       "<thead><tr><th scope=col>Var1</th><th scope=col>Freq</th></tr></thead>\n",
       "<tbody>\n",
       "\t<tr><td>2625</td><td> 4  </td></tr>\n",
       "\t<tr><td>2752</td><td>79  </td></tr>\n",
       "\t<tr><td>2768</td><td>69  </td></tr>\n",
       "\t<tr><td>2770</td><td>14  </td></tr>\n",
       "\t<tr><td>2790</td><td>40  </td></tr>\n",
       "\t<tr><td>2796</td><td> 1  </td></tr>\n",
       "</tbody>\n",
       "</table>\n"
      ],
      "text/latex": [
       "\\begin{tabular}{r|ll}\n",
       " Var1 & Freq\\\\\n",
       "\\hline\n",
       "\t 2625 &  4  \\\\\n",
       "\t 2752 & 79  \\\\\n",
       "\t 2768 & 69  \\\\\n",
       "\t 2770 & 14  \\\\\n",
       "\t 2790 & 40  \\\\\n",
       "\t 2796 &  1  \\\\\n",
       "\\end{tabular}\n"
      ],
      "text/markdown": [
       "\n",
       "Var1 | Freq | \n",
       "|---|---|---|---|---|---|\n",
       "| 2625 |  4   | \n",
       "| 2752 | 79   | \n",
       "| 2768 | 69   | \n",
       "| 2770 | 14   | \n",
       "| 2790 | 40   | \n",
       "| 2796 |  1   | \n",
       "\n",
       "\n"
      ],
      "text/plain": [
       "  Var1 Freq\n",
       "1 2625  4  \n",
       "2 2752 79  \n",
       "3 2768 69  \n",
       "4 2770 14  \n",
       "5 2790 40  \n",
       "6 2796  1  "
      ]
     },
     "metadata": {},
     "output_type": "display_data"
    }
   ],
   "source": [
    "head(sumcount)"
   ]
  },
  {
   "cell_type": "code",
   "execution_count": 28,
   "metadata": {
    "collapsed": true
   },
   "outputs": [],
   "source": [
    "playermerge<-merge(x=playermerge, y=sumcount, by.x=\"player_api_id\", by.y=\"Var1\")"
   ]
  },
  {
   "cell_type": "code",
   "execution_count": 29,
   "metadata": {
    "collapsed": false
   },
   "outputs": [
    {
     "data": {
      "text/html": [
       "<table>\n",
       "<thead><tr><th scope=col>player_api_id</th><th scope=col>date</th><th scope=col>overall_rating</th><th scope=col>gk_rating</th><th scope=col>player_name</th><th scope=col>Freq</th></tr></thead>\n",
       "<tbody>\n",
       "\t<tr><td>2625               </td><td>2007-02-22 00:00:00</td><td>63                 </td><td>111                </td><td>Patryk Rachwal,18  </td><td>4                  </td></tr>\n",
       "\t<tr><td>2625               </td><td>2007-08-30 00:00:00</td><td>63                 </td><td>153                </td><td>Patryk Rachwal,18  </td><td>4                  </td></tr>\n",
       "\t<tr><td>2625               </td><td>2008-08-30 00:00:00</td><td>60                 </td><td>153                </td><td>Patryk Rachwal,18  </td><td>4                  </td></tr>\n",
       "\t<tr><td>2625               </td><td>2012-02-22 00:00:00</td><td>58                 </td><td> 45                </td><td>Patryk Rachwal,18  </td><td>4                  </td></tr>\n",
       "\t<tr><td>2625               </td><td>2011-08-30 00:00:00</td><td>58                 </td><td> 45                </td><td>Patryk Rachwal,18  </td><td>4                  </td></tr>\n",
       "\t<tr><td>2625               </td><td>2014-09-18 00:00:00</td><td>61                 </td><td> 45                </td><td>Patryk Rachwal,18  </td><td>4                  </td></tr>\n",
       "</tbody>\n",
       "</table>\n"
      ],
      "text/latex": [
       "\\begin{tabular}{r|llllll}\n",
       " player\\_api\\_id & date & overall\\_rating & gk\\_rating & player\\_name & Freq\\\\\n",
       "\\hline\n",
       "\t 2625                & 2007-02-22 00:00:00 & 63                  & 111                 & Patryk Rachwal,18   & 4                  \\\\\n",
       "\t 2625                & 2007-08-30 00:00:00 & 63                  & 153                 & Patryk Rachwal,18   & 4                  \\\\\n",
       "\t 2625                & 2008-08-30 00:00:00 & 60                  & 153                 & Patryk Rachwal,18   & 4                  \\\\\n",
       "\t 2625                & 2012-02-22 00:00:00 & 58                  &  45                 & Patryk Rachwal,18   & 4                  \\\\\n",
       "\t 2625                & 2011-08-30 00:00:00 & 58                  &  45                 & Patryk Rachwal,18   & 4                  \\\\\n",
       "\t 2625                & 2014-09-18 00:00:00 & 61                  &  45                 & Patryk Rachwal,18   & 4                  \\\\\n",
       "\\end{tabular}\n"
      ],
      "text/markdown": [
       "\n",
       "player_api_id | date | overall_rating | gk_rating | player_name | Freq | \n",
       "|---|---|---|---|---|---|\n",
       "| 2625                | 2007-02-22 00:00:00 | 63                  | 111                 | Patryk Rachwal,18   | 4                   | \n",
       "| 2625                | 2007-08-30 00:00:00 | 63                  | 153                 | Patryk Rachwal,18   | 4                   | \n",
       "| 2625                | 2008-08-30 00:00:00 | 60                  | 153                 | Patryk Rachwal,18   | 4                   | \n",
       "| 2625                | 2012-02-22 00:00:00 | 58                  |  45                 | Patryk Rachwal,18   | 4                   | \n",
       "| 2625                | 2011-08-30 00:00:00 | 58                  |  45                 | Patryk Rachwal,18   | 4                   | \n",
       "| 2625                | 2014-09-18 00:00:00 | 61                  |  45                 | Patryk Rachwal,18   | 4                   | \n",
       "\n",
       "\n"
      ],
      "text/plain": [
       "  player_api_id date                overall_rating gk_rating player_name      \n",
       "1 2625          2007-02-22 00:00:00 63             111       Patryk Rachwal,18\n",
       "2 2625          2007-08-30 00:00:00 63             153       Patryk Rachwal,18\n",
       "3 2625          2008-08-30 00:00:00 60             153       Patryk Rachwal,18\n",
       "4 2625          2012-02-22 00:00:00 58              45       Patryk Rachwal,18\n",
       "5 2625          2011-08-30 00:00:00 58              45       Patryk Rachwal,18\n",
       "6 2625          2014-09-18 00:00:00 61              45       Patryk Rachwal,18\n",
       "  Freq\n",
       "1 4   \n",
       "2 4   \n",
       "3 4   \n",
       "4 4   \n",
       "5 4   \n",
       "6 4   "
      ]
     },
     "metadata": {},
     "output_type": "display_data"
    }
   ],
   "source": [
    "head(playermerge)"
   ]
  },
  {
   "cell_type": "code",
   "execution_count": 30,
   "metadata": {
    "collapsed": false
   },
   "outputs": [],
   "source": [
    "names(playermerge)[names(playermerge) == 'Freq'] <- 'NumofAppearances'"
   ]
  },
  {
   "cell_type": "code",
   "execution_count": 31,
   "metadata": {
    "collapsed": false
   },
   "outputs": [
    {
     "data": {
      "text/html": [
       "<table>\n",
       "<thead><tr><th scope=col>player_api_id</th><th scope=col>date</th><th scope=col>overall_rating</th><th scope=col>gk_rating</th><th scope=col>player_name</th><th scope=col>NumofAppearances</th></tr></thead>\n",
       "<tbody>\n",
       "\t<tr><td>2625               </td><td>2007-02-22 00:00:00</td><td>63                 </td><td>111                </td><td>Patryk Rachwal,18  </td><td>4                  </td></tr>\n",
       "\t<tr><td>2625               </td><td>2007-08-30 00:00:00</td><td>63                 </td><td>153                </td><td>Patryk Rachwal,18  </td><td>4                  </td></tr>\n",
       "\t<tr><td>2625               </td><td>2008-08-30 00:00:00</td><td>60                 </td><td>153                </td><td>Patryk Rachwal,18  </td><td>4                  </td></tr>\n",
       "\t<tr><td>2625               </td><td>2012-02-22 00:00:00</td><td>58                 </td><td> 45                </td><td>Patryk Rachwal,18  </td><td>4                  </td></tr>\n",
       "\t<tr><td>2625               </td><td>2011-08-30 00:00:00</td><td>58                 </td><td> 45                </td><td>Patryk Rachwal,18  </td><td>4                  </td></tr>\n",
       "\t<tr><td>2625               </td><td>2014-09-18 00:00:00</td><td>61                 </td><td> 45                </td><td>Patryk Rachwal,18  </td><td>4                  </td></tr>\n",
       "</tbody>\n",
       "</table>\n"
      ],
      "text/latex": [
       "\\begin{tabular}{r|llllll}\n",
       " player\\_api\\_id & date & overall\\_rating & gk\\_rating & player\\_name & NumofAppearances\\\\\n",
       "\\hline\n",
       "\t 2625                & 2007-02-22 00:00:00 & 63                  & 111                 & Patryk Rachwal,18   & 4                  \\\\\n",
       "\t 2625                & 2007-08-30 00:00:00 & 63                  & 153                 & Patryk Rachwal,18   & 4                  \\\\\n",
       "\t 2625                & 2008-08-30 00:00:00 & 60                  & 153                 & Patryk Rachwal,18   & 4                  \\\\\n",
       "\t 2625                & 2012-02-22 00:00:00 & 58                  &  45                 & Patryk Rachwal,18   & 4                  \\\\\n",
       "\t 2625                & 2011-08-30 00:00:00 & 58                  &  45                 & Patryk Rachwal,18   & 4                  \\\\\n",
       "\t 2625                & 2014-09-18 00:00:00 & 61                  &  45                 & Patryk Rachwal,18   & 4                  \\\\\n",
       "\\end{tabular}\n"
      ],
      "text/markdown": [
       "\n",
       "player_api_id | date | overall_rating | gk_rating | player_name | NumofAppearances | \n",
       "|---|---|---|---|---|---|\n",
       "| 2625                | 2007-02-22 00:00:00 | 63                  | 111                 | Patryk Rachwal,18   | 4                   | \n",
       "| 2625                | 2007-08-30 00:00:00 | 63                  | 153                 | Patryk Rachwal,18   | 4                   | \n",
       "| 2625                | 2008-08-30 00:00:00 | 60                  | 153                 | Patryk Rachwal,18   | 4                   | \n",
       "| 2625                | 2012-02-22 00:00:00 | 58                  |  45                 | Patryk Rachwal,18   | 4                   | \n",
       "| 2625                | 2011-08-30 00:00:00 | 58                  |  45                 | Patryk Rachwal,18   | 4                   | \n",
       "| 2625                | 2014-09-18 00:00:00 | 61                  |  45                 | Patryk Rachwal,18   | 4                   | \n",
       "\n",
       "\n"
      ],
      "text/plain": [
       "  player_api_id date                overall_rating gk_rating player_name      \n",
       "1 2625          2007-02-22 00:00:00 63             111       Patryk Rachwal,18\n",
       "2 2625          2007-08-30 00:00:00 63             153       Patryk Rachwal,18\n",
       "3 2625          2008-08-30 00:00:00 60             153       Patryk Rachwal,18\n",
       "4 2625          2012-02-22 00:00:00 58              45       Patryk Rachwal,18\n",
       "5 2625          2011-08-30 00:00:00 58              45       Patryk Rachwal,18\n",
       "6 2625          2014-09-18 00:00:00 61              45       Patryk Rachwal,18\n",
       "  NumofAppearances\n",
       "1 4               \n",
       "2 4               \n",
       "3 4               \n",
       "4 4               \n",
       "5 4               \n",
       "6 4               "
      ]
     },
     "metadata": {},
     "output_type": "display_data"
    }
   ],
   "source": [
    "head(playermerge)"
   ]
  },
  {
   "cell_type": "code",
   "execution_count": 32,
   "metadata": {
    "collapsed": true
   },
   "outputs": [],
   "source": [
    "joining<- dbGetQuery(dbcon, \"SELECT count(distinct((league_id))) as numberOfLeagues, player_api_id FROM (Player INNER JOIN Match) WHERE (player_api_id=home_player_1 OR player_api_id=home_player_2 OR player_api_id=home_player_3 OR player_api_id=home_player_4 OR player_api_id= home_player_5 OR player_api_id= home_player_6 OR player_api_id= home_player_7 OR player_api_id=home_player_8 OR player_api_id=home_player_9 OR player_api_id=home_player_10 OR player_api_id=home_player_11 OR player_api_id=away_player_1 OR player_api_id=away_player_2 OR player_api_id=away_player_3 OR player_api_id=away_player_4 OR player_api_id=away_player_5 OR player_api_id=away_player_6 OR player_api_id=away_player_7 OR player_api_id=away_player_8 OR player_api_id=away_player_9 OR player_api_id=away_player_10 OR player_api_id=away_player_11) GROUP BY player_api_id\")"
   ]
  },
  {
   "cell_type": "code",
   "execution_count": 33,
   "metadata": {
    "collapsed": true
   },
   "outputs": [],
   "source": [
    "playermerge<-merge(x=playermerge, y=joining, by.x=\"player_api_id\", by.y=\"player_api_id\")"
   ]
  },
  {
   "cell_type": "markdown",
   "metadata": {},
   "source": [
    "## Final desired Player table"
   ]
  },
  {
   "cell_type": "code",
   "execution_count": 34,
   "metadata": {
    "collapsed": false
   },
   "outputs": [
    {
     "data": {
      "text/html": [
       "<table>\n",
       "<thead><tr><th scope=col>player_api_id</th><th scope=col>date</th><th scope=col>overall_rating</th><th scope=col>gk_rating</th><th scope=col>player_name</th><th scope=col>NumofAppearances</th><th scope=col>numberOfLeagues</th></tr></thead>\n",
       "<tbody>\n",
       "\t<tr><td>2625               </td><td>2007-02-22 00:00:00</td><td>63                 </td><td>111                </td><td>Patryk Rachwal,18  </td><td>4                  </td><td>1                  </td></tr>\n",
       "\t<tr><td>2625               </td><td>2007-08-30 00:00:00</td><td>63                 </td><td>153                </td><td>Patryk Rachwal,18  </td><td>4                  </td><td>1                  </td></tr>\n",
       "\t<tr><td>2625               </td><td>2008-08-30 00:00:00</td><td>60                 </td><td>153                </td><td>Patryk Rachwal,18  </td><td>4                  </td><td>1                  </td></tr>\n",
       "\t<tr><td>2625               </td><td>2012-02-22 00:00:00</td><td>58                 </td><td> 45                </td><td>Patryk Rachwal,18  </td><td>4                  </td><td>1                  </td></tr>\n",
       "\t<tr><td>2625               </td><td>2011-08-30 00:00:00</td><td>58                 </td><td> 45                </td><td>Patryk Rachwal,18  </td><td>4                  </td><td>1                  </td></tr>\n",
       "\t<tr><td>2625               </td><td>2014-09-18 00:00:00</td><td>61                 </td><td> 45                </td><td>Patryk Rachwal,18  </td><td>4                  </td><td>1                  </td></tr>\n",
       "</tbody>\n",
       "</table>\n"
      ],
      "text/latex": [
       "\\begin{tabular}{r|lllllll}\n",
       " player\\_api\\_id & date & overall\\_rating & gk\\_rating & player\\_name & NumofAppearances & numberOfLeagues\\\\\n",
       "\\hline\n",
       "\t 2625                & 2007-02-22 00:00:00 & 63                  & 111                 & Patryk Rachwal,18   & 4                   & 1                  \\\\\n",
       "\t 2625                & 2007-08-30 00:00:00 & 63                  & 153                 & Patryk Rachwal,18   & 4                   & 1                  \\\\\n",
       "\t 2625                & 2008-08-30 00:00:00 & 60                  & 153                 & Patryk Rachwal,18   & 4                   & 1                  \\\\\n",
       "\t 2625                & 2012-02-22 00:00:00 & 58                  &  45                 & Patryk Rachwal,18   & 4                   & 1                  \\\\\n",
       "\t 2625                & 2011-08-30 00:00:00 & 58                  &  45                 & Patryk Rachwal,18   & 4                   & 1                  \\\\\n",
       "\t 2625                & 2014-09-18 00:00:00 & 61                  &  45                 & Patryk Rachwal,18   & 4                   & 1                  \\\\\n",
       "\\end{tabular}\n"
      ],
      "text/markdown": [
       "\n",
       "player_api_id | date | overall_rating | gk_rating | player_name | NumofAppearances | numberOfLeagues | \n",
       "|---|---|---|---|---|---|\n",
       "| 2625                | 2007-02-22 00:00:00 | 63                  | 111                 | Patryk Rachwal,18   | 4                   | 1                   | \n",
       "| 2625                | 2007-08-30 00:00:00 | 63                  | 153                 | Patryk Rachwal,18   | 4                   | 1                   | \n",
       "| 2625                | 2008-08-30 00:00:00 | 60                  | 153                 | Patryk Rachwal,18   | 4                   | 1                   | \n",
       "| 2625                | 2012-02-22 00:00:00 | 58                  |  45                 | Patryk Rachwal,18   | 4                   | 1                   | \n",
       "| 2625                | 2011-08-30 00:00:00 | 58                  |  45                 | Patryk Rachwal,18   | 4                   | 1                   | \n",
       "| 2625                | 2014-09-18 00:00:00 | 61                  |  45                 | Patryk Rachwal,18   | 4                   | 1                   | \n",
       "\n",
       "\n"
      ],
      "text/plain": [
       "  player_api_id date                overall_rating gk_rating player_name      \n",
       "1 2625          2007-02-22 00:00:00 63             111       Patryk Rachwal,18\n",
       "2 2625          2007-08-30 00:00:00 63             153       Patryk Rachwal,18\n",
       "3 2625          2008-08-30 00:00:00 60             153       Patryk Rachwal,18\n",
       "4 2625          2012-02-22 00:00:00 58              45       Patryk Rachwal,18\n",
       "5 2625          2011-08-30 00:00:00 58              45       Patryk Rachwal,18\n",
       "6 2625          2014-09-18 00:00:00 61              45       Patryk Rachwal,18\n",
       "  NumofAppearances numberOfLeagues\n",
       "1 4                1              \n",
       "2 4                1              \n",
       "3 4                1              \n",
       "4 4                1              \n",
       "5 4                1              \n",
       "6 4                1              "
      ]
     },
     "metadata": {},
     "output_type": "display_data"
    }
   ],
   "source": [
    "head(playermerge)"
   ]
  },
  {
   "cell_type": "markdown",
   "metadata": {},
   "source": [
    "### Perform data munging on team, team attribute and match table to obtain teams.csv"
   ]
  },
  {
   "cell_type": "code",
   "execution_count": 35,
   "metadata": {
    "collapsed": false
   },
   "outputs": [],
   "source": [
    "teammerge<-dbGetQuery(dbcon, \"SELECT team_api_id, team_long_name, date, (buildUpPlaySpeed+ buildUpPlayDribbling+ buildUpPlayPassing) AS build_up_play, (chanceCreationPassing+chanceCreationCrossing+chanceCreationShooting) AS chance_creation, ( defencePressure+defenceAggression+defenceTeamWidth ) AS defence FROM Team_Attributes INNER JOIN Team USING(team_api_id)\")\n"
   ]
  },
  {
   "cell_type": "code",
   "execution_count": 36,
   "metadata": {
    "collapsed": false
   },
   "outputs": [
    {
     "data": {
      "text/html": [
       "<table>\n",
       "<thead><tr><th scope=col>team_api_id</th><th scope=col>team_long_name</th><th scope=col>date</th><th scope=col>build_up_play</th><th scope=col>chance_creation</th><th scope=col>defence</th></tr></thead>\n",
       "<tbody>\n",
       "\t<tr><td>9930               </td><td>FC Aarau           </td><td>2010-02-22 00:00:00</td><td> NA                </td><td>180                </td><td>150                </td></tr>\n",
       "\t<tr><td>9930               </td><td>FC Aarau           </td><td>2014-09-19 00:00:00</td><td>156                </td><td>181                </td><td>145                </td></tr>\n",
       "\t<tr><td>9930               </td><td>FC Aarau           </td><td>2015-09-10 00:00:00</td><td>142                </td><td>181                </td><td>145                </td></tr>\n",
       "\t<tr><td>8485               </td><td>Aberdeen           </td><td>2010-02-22 00:00:00</td><td> NA                </td><td>210                </td><td>200                </td></tr>\n",
       "\t<tr><td>8485               </td><td>Aberdeen           </td><td>2011-02-22 00:00:00</td><td> NA                </td><td>153                </td><td>146                </td></tr>\n",
       "\t<tr><td>8485               </td><td>Aberdeen           </td><td>2012-02-22 00:00:00</td><td> NA                </td><td>170                </td><td>140                </td></tr>\n",
       "</tbody>\n",
       "</table>\n"
      ],
      "text/latex": [
       "\\begin{tabular}{r|llllll}\n",
       " team\\_api\\_id & team\\_long\\_name & date & build\\_up\\_play & chance\\_creation & defence\\\\\n",
       "\\hline\n",
       "\t 9930                & FC Aarau            & 2010-02-22 00:00:00 &  NA                 & 180                 & 150                \\\\\n",
       "\t 9930                & FC Aarau            & 2014-09-19 00:00:00 & 156                 & 181                 & 145                \\\\\n",
       "\t 9930                & FC Aarau            & 2015-09-10 00:00:00 & 142                 & 181                 & 145                \\\\\n",
       "\t 8485                & Aberdeen            & 2010-02-22 00:00:00 &  NA                 & 210                 & 200                \\\\\n",
       "\t 8485                & Aberdeen            & 2011-02-22 00:00:00 &  NA                 & 153                 & 146                \\\\\n",
       "\t 8485                & Aberdeen            & 2012-02-22 00:00:00 &  NA                 & 170                 & 140                \\\\\n",
       "\\end{tabular}\n"
      ],
      "text/markdown": [
       "\n",
       "team_api_id | team_long_name | date | build_up_play | chance_creation | defence | \n",
       "|---|---|---|---|---|---|\n",
       "| 9930                | FC Aarau            | 2010-02-22 00:00:00 |  NA                 | 180                 | 150                 | \n",
       "| 9930                | FC Aarau            | 2014-09-19 00:00:00 | 156                 | 181                 | 145                 | \n",
       "| 9930                | FC Aarau            | 2015-09-10 00:00:00 | 142                 | 181                 | 145                 | \n",
       "| 8485                | Aberdeen            | 2010-02-22 00:00:00 |  NA                 | 210                 | 200                 | \n",
       "| 8485                | Aberdeen            | 2011-02-22 00:00:00 |  NA                 | 153                 | 146                 | \n",
       "| 8485                | Aberdeen            | 2012-02-22 00:00:00 |  NA                 | 170                 | 140                 | \n",
       "\n",
       "\n"
      ],
      "text/plain": [
       "  team_api_id team_long_name date                build_up_play chance_creation\n",
       "1 9930        FC Aarau       2010-02-22 00:00:00  NA           180            \n",
       "2 9930        FC Aarau       2014-09-19 00:00:00 156           181            \n",
       "3 9930        FC Aarau       2015-09-10 00:00:00 142           181            \n",
       "4 8485        Aberdeen       2010-02-22 00:00:00  NA           210            \n",
       "5 8485        Aberdeen       2011-02-22 00:00:00  NA           153            \n",
       "6 8485        Aberdeen       2012-02-22 00:00:00  NA           170            \n",
       "  defence\n",
       "1 150    \n",
       "2 145    \n",
       "3 145    \n",
       "4 200    \n",
       "5 146    \n",
       "6 140    "
      ]
     },
     "metadata": {},
     "output_type": "display_data"
    }
   ],
   "source": [
    "head(teammerge)"
   ]
  },
  {
   "cell_type": "code",
   "execution_count": 37,
   "metadata": {
    "collapsed": true
   },
   "outputs": [],
   "source": [
    "teammerge[is.na(teammerge)]<-0"
   ]
  },
  {
   "cell_type": "code",
   "execution_count": 38,
   "metadata": {
    "collapsed": false
   },
   "outputs": [
    {
     "data": {
      "text/html": [
       "<table>\n",
       "<thead><tr><th scope=col>team_api_id</th><th scope=col>team_long_name</th><th scope=col>date</th><th scope=col>build_up_play</th><th scope=col>chance_creation</th><th scope=col>defence</th></tr></thead>\n",
       "<tbody>\n",
       "\t<tr><td>9930               </td><td>FC Aarau           </td><td>2010-02-22 00:00:00</td><td>  0                </td><td>180                </td><td>150                </td></tr>\n",
       "\t<tr><td>9930               </td><td>FC Aarau           </td><td>2014-09-19 00:00:00</td><td>156                </td><td>181                </td><td>145                </td></tr>\n",
       "\t<tr><td>9930               </td><td>FC Aarau           </td><td>2015-09-10 00:00:00</td><td>142                </td><td>181                </td><td>145                </td></tr>\n",
       "\t<tr><td>8485               </td><td>Aberdeen           </td><td>2010-02-22 00:00:00</td><td>  0                </td><td>210                </td><td>200                </td></tr>\n",
       "\t<tr><td>8485               </td><td>Aberdeen           </td><td>2011-02-22 00:00:00</td><td>  0                </td><td>153                </td><td>146                </td></tr>\n",
       "\t<tr><td>8485               </td><td>Aberdeen           </td><td>2012-02-22 00:00:00</td><td>  0                </td><td>170                </td><td>140                </td></tr>\n",
       "</tbody>\n",
       "</table>\n"
      ],
      "text/latex": [
       "\\begin{tabular}{r|llllll}\n",
       " team\\_api\\_id & team\\_long\\_name & date & build\\_up\\_play & chance\\_creation & defence\\\\\n",
       "\\hline\n",
       "\t 9930                & FC Aarau            & 2010-02-22 00:00:00 &   0                 & 180                 & 150                \\\\\n",
       "\t 9930                & FC Aarau            & 2014-09-19 00:00:00 & 156                 & 181                 & 145                \\\\\n",
       "\t 9930                & FC Aarau            & 2015-09-10 00:00:00 & 142                 & 181                 & 145                \\\\\n",
       "\t 8485                & Aberdeen            & 2010-02-22 00:00:00 &   0                 & 210                 & 200                \\\\\n",
       "\t 8485                & Aberdeen            & 2011-02-22 00:00:00 &   0                 & 153                 & 146                \\\\\n",
       "\t 8485                & Aberdeen            & 2012-02-22 00:00:00 &   0                 & 170                 & 140                \\\\\n",
       "\\end{tabular}\n"
      ],
      "text/markdown": [
       "\n",
       "team_api_id | team_long_name | date | build_up_play | chance_creation | defence | \n",
       "|---|---|---|---|---|---|\n",
       "| 9930                | FC Aarau            | 2010-02-22 00:00:00 |   0                 | 180                 | 150                 | \n",
       "| 9930                | FC Aarau            | 2014-09-19 00:00:00 | 156                 | 181                 | 145                 | \n",
       "| 9930                | FC Aarau            | 2015-09-10 00:00:00 | 142                 | 181                 | 145                 | \n",
       "| 8485                | Aberdeen            | 2010-02-22 00:00:00 |   0                 | 210                 | 200                 | \n",
       "| 8485                | Aberdeen            | 2011-02-22 00:00:00 |   0                 | 153                 | 146                 | \n",
       "| 8485                | Aberdeen            | 2012-02-22 00:00:00 |   0                 | 170                 | 140                 | \n",
       "\n",
       "\n"
      ],
      "text/plain": [
       "  team_api_id team_long_name date                build_up_play chance_creation\n",
       "1 9930        FC Aarau       2010-02-22 00:00:00   0           180            \n",
       "2 9930        FC Aarau       2014-09-19 00:00:00 156           181            \n",
       "3 9930        FC Aarau       2015-09-10 00:00:00 142           181            \n",
       "4 8485        Aberdeen       2010-02-22 00:00:00   0           210            \n",
       "5 8485        Aberdeen       2011-02-22 00:00:00   0           153            \n",
       "6 8485        Aberdeen       2012-02-22 00:00:00   0           170            \n",
       "  defence\n",
       "1 150    \n",
       "2 145    \n",
       "3 145    \n",
       "4 200    \n",
       "5 146    \n",
       "6 140    "
      ]
     },
     "metadata": {},
     "output_type": "display_data"
    }
   ],
   "source": [
    "head(teammerge)"
   ]
  },
  {
   "cell_type": "code",
   "execution_count": 39,
   "metadata": {
    "collapsed": true
   },
   "outputs": [],
   "source": [
    "goals<-dbGetQuery(dbcon, \"Select home_team_api_id, away_team_api_id,home_team_goal, away_team_goal from Match\")"
   ]
  },
  {
   "cell_type": "code",
   "execution_count": 40,
   "metadata": {
    "collapsed": false
   },
   "outputs": [
    {
     "data": {
      "text/html": [
       "<table>\n",
       "<thead><tr><th scope=col>home_team_api_id</th><th scope=col>away_team_api_id</th><th scope=col>home_team_goal</th><th scope=col>away_team_goal</th></tr></thead>\n",
       "<tbody>\n",
       "\t<tr><td> 9987</td><td>9993 </td><td>1    </td><td>1    </td></tr>\n",
       "\t<tr><td>10000</td><td>9994 </td><td>0    </td><td>0    </td></tr>\n",
       "\t<tr><td> 9984</td><td>8635 </td><td>0    </td><td>3    </td></tr>\n",
       "\t<tr><td> 9991</td><td>9998 </td><td>5    </td><td>0    </td></tr>\n",
       "\t<tr><td> 7947</td><td>9985 </td><td>1    </td><td>3    </td></tr>\n",
       "\t<tr><td> 8203</td><td>8342 </td><td>1    </td><td>1    </td></tr>\n",
       "</tbody>\n",
       "</table>\n"
      ],
      "text/latex": [
       "\\begin{tabular}{r|llll}\n",
       " home\\_team\\_api\\_id & away\\_team\\_api\\_id & home\\_team\\_goal & away\\_team\\_goal\\\\\n",
       "\\hline\n",
       "\t  9987 & 9993  & 1     & 1    \\\\\n",
       "\t 10000 & 9994  & 0     & 0    \\\\\n",
       "\t  9984 & 8635  & 0     & 3    \\\\\n",
       "\t  9991 & 9998  & 5     & 0    \\\\\n",
       "\t  7947 & 9985  & 1     & 3    \\\\\n",
       "\t  8203 & 8342  & 1     & 1    \\\\\n",
       "\\end{tabular}\n"
      ],
      "text/markdown": [
       "\n",
       "home_team_api_id | away_team_api_id | home_team_goal | away_team_goal | \n",
       "|---|---|---|---|---|---|\n",
       "|  9987 | 9993  | 1     | 1     | \n",
       "| 10000 | 9994  | 0     | 0     | \n",
       "|  9984 | 8635  | 0     | 3     | \n",
       "|  9991 | 9998  | 5     | 0     | \n",
       "|  7947 | 9985  | 1     | 3     | \n",
       "|  8203 | 8342  | 1     | 1     | \n",
       "\n",
       "\n"
      ],
      "text/plain": [
       "  home_team_api_id away_team_api_id home_team_goal away_team_goal\n",
       "1  9987            9993             1              1             \n",
       "2 10000            9994             0              0             \n",
       "3  9984            8635             0              3             \n",
       "4  9991            9998             5              0             \n",
       "5  7947            9985             1              3             \n",
       "6  8203            8342             1              1             "
      ]
     },
     "metadata": {},
     "output_type": "display_data"
    }
   ],
   "source": [
    "head(goals)"
   ]
  },
  {
   "cell_type": "code",
   "execution_count": 41,
   "metadata": {
    "collapsed": false
   },
   "outputs": [
    {
     "name": "stderr",
     "output_type": "stream",
     "text": [
      "Loading required package: tcltk\n",
      "Warning message:\n",
      "“Quoted identifiers should have class SQL, use DBI::SQL() if the caller performs the quoting.”"
     ]
    }
   ],
   "source": [
    "hometeamgoals<-sqldf(\"Select (sum(home_team_goal)) as homegoals, home_team_api_id from goals group by home_team_api_id\")"
   ]
  },
  {
   "cell_type": "code",
   "execution_count": 42,
   "metadata": {
    "collapsed": false
   },
   "outputs": [
    {
     "data": {
      "text/html": [
       "<table>\n",
       "<thead><tr><th scope=col>homegoals</th><th scope=col>home_team_api_id</th></tr></thead>\n",
       "<tbody>\n",
       "\t<tr><td>148 </td><td>1601</td></tr>\n",
       "\t<tr><td> 74 </td><td>1773</td></tr>\n",
       "\t<tr><td>176 </td><td>1957</td></tr>\n",
       "\t<tr><td> 70 </td><td>2033</td></tr>\n",
       "\t<tr><td>215 </td><td>2182</td></tr>\n",
       "\t<tr><td> 96 </td><td>2183</td></tr>\n",
       "</tbody>\n",
       "</table>\n"
      ],
      "text/latex": [
       "\\begin{tabular}{r|ll}\n",
       " homegoals & home\\_team\\_api\\_id\\\\\n",
       "\\hline\n",
       "\t 148  & 1601\\\\\n",
       "\t  74  & 1773\\\\\n",
       "\t 176  & 1957\\\\\n",
       "\t  70  & 2033\\\\\n",
       "\t 215  & 2182\\\\\n",
       "\t  96  & 2183\\\\\n",
       "\\end{tabular}\n"
      ],
      "text/markdown": [
       "\n",
       "homegoals | home_team_api_id | \n",
       "|---|---|---|---|---|---|\n",
       "| 148  | 1601 | \n",
       "|  74  | 1773 | \n",
       "| 176  | 1957 | \n",
       "|  70  | 2033 | \n",
       "| 215  | 2182 | \n",
       "|  96  | 2183 | \n",
       "\n",
       "\n"
      ],
      "text/plain": [
       "  homegoals home_team_api_id\n",
       "1 148       1601            \n",
       "2  74       1773            \n",
       "3 176       1957            \n",
       "4  70       2033            \n",
       "5 215       2182            \n",
       "6  96       2183            "
      ]
     },
     "metadata": {},
     "output_type": "display_data"
    }
   ],
   "source": [
    "head(hometeamgoals)"
   ]
  },
  {
   "cell_type": "code",
   "execution_count": 43,
   "metadata": {
    "collapsed": true
   },
   "outputs": [],
   "source": [
    "awayteamgoals<-sqldf(\"Select sum((away_team_goal)) as awaygoals, away_team_api_id from goals group by away_team_api_id\")"
   ]
  },
  {
   "cell_type": "code",
   "execution_count": 44,
   "metadata": {
    "collapsed": false
   },
   "outputs": [
    {
     "data": {
      "text/html": [
       "<table>\n",
       "<thead><tr><th scope=col>awaygoals</th><th scope=col>away_team_api_id</th></tr></thead>\n",
       "<tbody>\n",
       "\t<tr><td>132 </td><td>1601</td></tr>\n",
       "\t<tr><td> 52 </td><td>1773</td></tr>\n",
       "\t<tr><td>111 </td><td>1957</td></tr>\n",
       "\t<tr><td> 68 </td><td>2033</td></tr>\n",
       "\t<tr><td>157 </td><td>2182</td></tr>\n",
       "\t<tr><td> 88 </td><td>2183</td></tr>\n",
       "</tbody>\n",
       "</table>\n"
      ],
      "text/latex": [
       "\\begin{tabular}{r|ll}\n",
       " awaygoals & away\\_team\\_api\\_id\\\\\n",
       "\\hline\n",
       "\t 132  & 1601\\\\\n",
       "\t  52  & 1773\\\\\n",
       "\t 111  & 1957\\\\\n",
       "\t  68  & 2033\\\\\n",
       "\t 157  & 2182\\\\\n",
       "\t  88  & 2183\\\\\n",
       "\\end{tabular}\n"
      ],
      "text/markdown": [
       "\n",
       "awaygoals | away_team_api_id | \n",
       "|---|---|---|---|---|---|\n",
       "| 132  | 1601 | \n",
       "|  52  | 1773 | \n",
       "| 111  | 1957 | \n",
       "|  68  | 2033 | \n",
       "| 157  | 2182 | \n",
       "|  88  | 2183 | \n",
       "\n",
       "\n"
      ],
      "text/plain": [
       "  awaygoals away_team_api_id\n",
       "1 132       1601            \n",
       "2  52       1773            \n",
       "3 111       1957            \n",
       "4  68       2033            \n",
       "5 157       2182            \n",
       "6  88       2183            "
      ]
     },
     "metadata": {},
     "output_type": "display_data"
    }
   ],
   "source": [
    "head(awayteamgoals)"
   ]
  },
  {
   "cell_type": "code",
   "execution_count": 47,
   "metadata": {
    "collapsed": false
   },
   "outputs": [],
   "source": [
    "teamgoals<-sqldf(\"select (homegoals+awaygoals) as totalteamgoals,away_team_api_id as team_id from hometeamgoals inner join awayteamgoals where home_team_api_id=away_team_api_id\")"
   ]
  },
  {
   "cell_type": "code",
   "execution_count": 48,
   "metadata": {
    "collapsed": false
   },
   "outputs": [
    {
     "data": {
      "text/html": [
       "<table>\n",
       "<thead><tr><th scope=col>totalteamgoals</th><th scope=col>team_id</th></tr></thead>\n",
       "<tbody>\n",
       "\t<tr><td>280 </td><td>1601</td></tr>\n",
       "\t<tr><td>126 </td><td>1773</td></tr>\n",
       "\t<tr><td>287 </td><td>1957</td></tr>\n",
       "\t<tr><td>138 </td><td>2033</td></tr>\n",
       "\t<tr><td>372 </td><td>2182</td></tr>\n",
       "\t<tr><td>184 </td><td>2183</td></tr>\n",
       "</tbody>\n",
       "</table>\n"
      ],
      "text/latex": [
       "\\begin{tabular}{r|ll}\n",
       " totalteamgoals & team\\_id\\\\\n",
       "\\hline\n",
       "\t 280  & 1601\\\\\n",
       "\t 126  & 1773\\\\\n",
       "\t 287  & 1957\\\\\n",
       "\t 138  & 2033\\\\\n",
       "\t 372  & 2182\\\\\n",
       "\t 184  & 2183\\\\\n",
       "\\end{tabular}\n"
      ],
      "text/markdown": [
       "\n",
       "totalteamgoals | team_id | \n",
       "|---|---|---|---|---|---|\n",
       "| 280  | 1601 | \n",
       "| 126  | 1773 | \n",
       "| 287  | 1957 | \n",
       "| 138  | 2033 | \n",
       "| 372  | 2182 | \n",
       "| 184  | 2183 | \n",
       "\n",
       "\n"
      ],
      "text/plain": [
       "  totalteamgoals team_id\n",
       "1 280            1601   \n",
       "2 126            1773   \n",
       "3 287            1957   \n",
       "4 138            2033   \n",
       "5 372            2182   \n",
       "6 184            2183   "
      ]
     },
     "metadata": {},
     "output_type": "display_data"
    }
   ],
   "source": [
    "head(teamgoals)"
   ]
  },
  {
   "cell_type": "code",
   "execution_count": 49,
   "metadata": {
    "collapsed": true
   },
   "outputs": [],
   "source": [
    "teammerge<-merge(x=teammerge, y=teamgoals, by.x=\"team_api_id\", by.y=\"team_id\")"
   ]
  },
  {
   "cell_type": "code",
   "execution_count": 50,
   "metadata": {
    "collapsed": false
   },
   "outputs": [
    {
     "data": {
      "text/html": [
       "<table>\n",
       "<thead><tr><th scope=col>team_api_id</th><th scope=col>team_long_name</th><th scope=col>date</th><th scope=col>build_up_play</th><th scope=col>chance_creation</th><th scope=col>defence</th><th scope=col>totalteamgoals</th></tr></thead>\n",
       "<tbody>\n",
       "\t<tr><td>1601               </td><td>Ruch Chorzów       </td><td>2010-02-22 00:00:00</td><td>  0                </td><td>155                </td><td>175                </td><td>280                </td></tr>\n",
       "\t<tr><td>1601               </td><td>Ruch Chorzów       </td><td>2011-02-22 00:00:00</td><td>  0                </td><td>186                </td><td>144                </td><td>280                </td></tr>\n",
       "\t<tr><td>1601               </td><td>Ruch Chorzów       </td><td>2012-02-22 00:00:00</td><td>  0                </td><td>159                </td><td>136                </td><td>280                </td></tr>\n",
       "\t<tr><td>1601               </td><td>Ruch Chorzów       </td><td>2013-09-20 00:00:00</td><td>  0                </td><td>159                </td><td>136                </td><td>280                </td></tr>\n",
       "\t<tr><td>1601               </td><td>Ruch Chorzów       </td><td>2014-09-19 00:00:00</td><td>139                </td><td>181                </td><td>136                </td><td>280                </td></tr>\n",
       "\t<tr><td>1601               </td><td>Ruch Chorzów       </td><td>2015-09-10 00:00:00</td><td>133                </td><td>176                </td><td>136                </td><td>280                </td></tr>\n",
       "</tbody>\n",
       "</table>\n"
      ],
      "text/latex": [
       "\\begin{tabular}{r|lllllll}\n",
       " team\\_api\\_id & team\\_long\\_name & date & build\\_up\\_play & chance\\_creation & defence & totalteamgoals\\\\\n",
       "\\hline\n",
       "\t 1601                & Ruch Chorzów        & 2010-02-22 00:00:00 &   0                 & 155                 & 175                 & 280                \\\\\n",
       "\t 1601                & Ruch Chorzów        & 2011-02-22 00:00:00 &   0                 & 186                 & 144                 & 280                \\\\\n",
       "\t 1601                & Ruch Chorzów        & 2012-02-22 00:00:00 &   0                 & 159                 & 136                 & 280                \\\\\n",
       "\t 1601                & Ruch Chorzów        & 2013-09-20 00:00:00 &   0                 & 159                 & 136                 & 280                \\\\\n",
       "\t 1601                & Ruch Chorzów        & 2014-09-19 00:00:00 & 139                 & 181                 & 136                 & 280                \\\\\n",
       "\t 1601                & Ruch Chorzów        & 2015-09-10 00:00:00 & 133                 & 176                 & 136                 & 280                \\\\\n",
       "\\end{tabular}\n"
      ],
      "text/markdown": [
       "\n",
       "team_api_id | team_long_name | date | build_up_play | chance_creation | defence | totalteamgoals | \n",
       "|---|---|---|---|---|---|\n",
       "| 1601                | Ruch Chorzów        | 2010-02-22 00:00:00 |   0                 | 155                 | 175                 | 280                 | \n",
       "| 1601                | Ruch Chorzów        | 2011-02-22 00:00:00 |   0                 | 186                 | 144                 | 280                 | \n",
       "| 1601                | Ruch Chorzów        | 2012-02-22 00:00:00 |   0                 | 159                 | 136                 | 280                 | \n",
       "| 1601                | Ruch Chorzów        | 2013-09-20 00:00:00 |   0                 | 159                 | 136                 | 280                 | \n",
       "| 1601                | Ruch Chorzów        | 2014-09-19 00:00:00 | 139                 | 181                 | 136                 | 280                 | \n",
       "| 1601                | Ruch Chorzów        | 2015-09-10 00:00:00 | 133                 | 176                 | 136                 | 280                 | \n",
       "\n",
       "\n"
      ],
      "text/plain": [
       "  team_api_id team_long_name date                build_up_play chance_creation\n",
       "1 1601        Ruch Chorzów   2010-02-22 00:00:00   0           155            \n",
       "2 1601        Ruch Chorzów   2011-02-22 00:00:00   0           186            \n",
       "3 1601        Ruch Chorzów   2012-02-22 00:00:00   0           159            \n",
       "4 1601        Ruch Chorzów   2013-09-20 00:00:00   0           159            \n",
       "5 1601        Ruch Chorzów   2014-09-19 00:00:00 139           181            \n",
       "6 1601        Ruch Chorzów   2015-09-10 00:00:00 133           176            \n",
       "  defence totalteamgoals\n",
       "1 175     280           \n",
       "2 144     280           \n",
       "3 136     280           \n",
       "4 136     280           \n",
       "5 136     280           \n",
       "6 136     280           "
      ]
     },
     "metadata": {},
     "output_type": "display_data"
    }
   ],
   "source": [
    "head(teammerge)"
   ]
  },
  {
   "cell_type": "markdown",
   "metadata": {},
   "source": [
    "## Write the obtained dataframes to csv"
   ]
  },
  {
   "cell_type": "code",
   "execution_count": 51,
   "metadata": {
    "collapsed": true
   },
   "outputs": [],
   "source": [
    "write.csv(file=\"players.csv\",playermerge)\n",
    "write.csv(file=\"teams.csv\",teammerge)"
   ]
  },
  {
   "cell_type": "markdown",
   "metadata": {},
   "source": [
    "# References:\n",
    "#### https://stat.ethz.ch/R-manual/R-devel/library/base/html/merge.html\n",
    "#### https://cran.r-project.org/web/packages/dplyr/vignettes/introduction.html\n",
    "#### https://cran.r-project.org/web/packages/dplyr/vignettes/two-table.html\n",
    "#### https://cran.r-project.org/web/packages/RSQLite/RSQLite.pdf"
   ]
  }
 ],
 "metadata": {
  "kernelspec": {
   "display_name": "R",
   "language": "R",
   "name": "ir"
  },
  "language_info": {
   "codemirror_mode": "r",
   "file_extension": ".r",
   "mimetype": "text/x-r-source",
   "name": "R",
   "pygments_lexer": "r",
   "version": "3.3.2"
  }
 },
 "nbformat": 4,
 "nbformat_minor": 2
}
