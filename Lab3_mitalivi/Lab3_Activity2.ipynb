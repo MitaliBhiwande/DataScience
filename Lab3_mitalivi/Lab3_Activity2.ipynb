{
 "cells": [
  {
   "cell_type": "code",
   "execution_count": 98,
   "metadata": {
    "collapsed": false
   },
   "outputs": [
    {
     "name": "stderr",
     "output_type": "stream",
     "text": [
      "Updating HTML index of packages in '.Library'\n",
      "Making 'packages.html' ... done\n"
     ]
    }
   ],
   "source": [
    "install.packages(\"class\")"
   ]
  },
  {
   "cell_type": "code",
   "execution_count": 99,
   "metadata": {
    "collapsed": true
   },
   "outputs": [],
   "source": [
    "library(class)"
   ]
  },
  {
   "cell_type": "code",
   "execution_count": 100,
   "metadata": {
    "collapsed": false
   },
   "outputs": [
    {
     "data": {
      "text/html": [
       "<table>\n",
       "<thead><tr><th scope=col>X.</th><th scope=col>Age</th><th scope=col>Sex</th><th scope=col>Job</th><th scope=col>Housing</th><th scope=col>Saving.accounts</th><th scope=col>Checking.account</th><th scope=col>Credit.amount</th><th scope=col>Duration</th><th scope=col>Purpose</th><th scope=col>Credit.Risks</th></tr></thead>\n",
       "<tbody>\n",
       "\t<tr><td>0                  </td><td>67                 </td><td>male               </td><td>2                  </td><td>own                </td><td>NA                 </td><td>little             </td><td>1169               </td><td> 6                 </td><td>radio/TV           </td><td>1                  </td></tr>\n",
       "\t<tr><td>1                  </td><td>22                 </td><td>female             </td><td>2                  </td><td>own                </td><td>little             </td><td>moderate           </td><td>5951               </td><td>48                 </td><td>radio/TV           </td><td>2                  </td></tr>\n",
       "\t<tr><td>2                  </td><td>49                 </td><td>male               </td><td>1                  </td><td>own                </td><td>little             </td><td>NA                 </td><td>2096               </td><td>12                 </td><td>education          </td><td>1                  </td></tr>\n",
       "\t<tr><td>3                  </td><td>45                 </td><td>male               </td><td>2                  </td><td>free               </td><td>little             </td><td>little             </td><td>7882               </td><td>42                 </td><td>furniture/equipment</td><td>1                  </td></tr>\n",
       "\t<tr><td>4                  </td><td>53                 </td><td>male               </td><td>2                  </td><td>free               </td><td>little             </td><td>little             </td><td>4870               </td><td>24                 </td><td>car                </td><td>2                  </td></tr>\n",
       "\t<tr><td>5                  </td><td>35                 </td><td>male               </td><td>1                  </td><td>free               </td><td>NA                 </td><td>NA                 </td><td>9055               </td><td>36                 </td><td>education          </td><td>1                  </td></tr>\n",
       "</tbody>\n",
       "</table>\n"
      ],
      "text/latex": [
       "\\begin{tabular}{r|lllllllllll}\n",
       " X. & Age & Sex & Job & Housing & Saving.accounts & Checking.account & Credit.amount & Duration & Purpose & Credit.Risks\\\\\n",
       "\\hline\n",
       "\t 0                   & 67                  & male                & 2                   & own                 & NA                  & little              & 1169                &  6                  & radio/TV            & 1                  \\\\\n",
       "\t 1                   & 22                  & female              & 2                   & own                 & little              & moderate            & 5951                & 48                  & radio/TV            & 2                  \\\\\n",
       "\t 2                   & 49                  & male                & 1                   & own                 & little              & NA                  & 2096                & 12                  & education           & 1                  \\\\\n",
       "\t 3                   & 45                  & male                & 2                   & free                & little              & little              & 7882                & 42                  & furniture/equipment & 1                  \\\\\n",
       "\t 4                   & 53                  & male                & 2                   & free                & little              & little              & 4870                & 24                  & car                 & 2                  \\\\\n",
       "\t 5                   & 35                  & male                & 1                   & free                & NA                  & NA                  & 9055                & 36                  & education           & 1                  \\\\\n",
       "\\end{tabular}\n"
      ],
      "text/markdown": [
       "\n",
       "X. | Age | Sex | Job | Housing | Saving.accounts | Checking.account | Credit.amount | Duration | Purpose | Credit.Risks | \n",
       "|---|---|---|---|---|---|\n",
       "| 0                   | 67                  | male                | 2                   | own                 | NA                  | little              | 1169                |  6                  | radio/TV            | 1                   | \n",
       "| 1                   | 22                  | female              | 2                   | own                 | little              | moderate            | 5951                | 48                  | radio/TV            | 2                   | \n",
       "| 2                   | 49                  | male                | 1                   | own                 | little              | NA                  | 2096                | 12                  | education           | 1                   | \n",
       "| 3                   | 45                  | male                | 2                   | free                | little              | little              | 7882                | 42                  | furniture/equipment | 1                   | \n",
       "| 4                   | 53                  | male                | 2                   | free                | little              | little              | 4870                | 24                  | car                 | 2                   | \n",
       "| 5                   | 35                  | male                | 1                   | free                | NA                  | NA                  | 9055                | 36                  | education           | 1                   | \n",
       "\n",
       "\n"
      ],
      "text/plain": [
       "  X. Age Sex    Job Housing Saving.accounts Checking.account Credit.amount\n",
       "1 0  67  male   2   own     NA              little           1169         \n",
       "2 1  22  female 2   own     little          moderate         5951         \n",
       "3 2  49  male   1   own     little          NA               2096         \n",
       "4 3  45  male   2   free    little          little           7882         \n",
       "5 4  53  male   2   free    little          little           4870         \n",
       "6 5  35  male   1   free    NA              NA               9055         \n",
       "  Duration Purpose             Credit.Risks\n",
       "1  6       radio/TV            1           \n",
       "2 48       radio/TV            2           \n",
       "3 12       education           1           \n",
       "4 42       furniture/equipment 1           \n",
       "5 24       car                 2           \n",
       "6 36       education           1           "
      ]
     },
     "metadata": {},
     "output_type": "display_data"
    }
   ],
   "source": [
    "knndata<-read.csv(\"/Users/mitalibhiwande/Desktop/Lab3/german_credit_data1.csv\")\n",
    "head(knndata)"
   ]
  },
  {
   "cell_type": "code",
   "execution_count": 101,
   "metadata": {
    "collapsed": false
   },
   "outputs": [
    {
     "data": {
      "text/html": [
       "<table>\n",
       "<thead><tr><th></th><th scope=col>X.</th><th scope=col>Age</th><th scope=col>Sex</th><th scope=col>Job</th><th scope=col>Housing</th><th scope=col>Saving.accounts</th><th scope=col>Checking.account</th><th scope=col>Credit.amount</th><th scope=col>Duration</th><th scope=col>Purpose</th><th scope=col>Credit.Risks</th></tr></thead>\n",
       "<tbody>\n",
       "\t<tr><th scope=row>2</th><td> 1  </td><td>22  </td><td>1   </td><td>2   </td><td>2   </td><td>1   </td><td>2   </td><td>5951</td><td>48  </td><td>6   </td><td>2   </td></tr>\n",
       "\t<tr><th scope=row>4</th><td> 3  </td><td>45  </td><td>2   </td><td>2   </td><td>1   </td><td>1   </td><td>1   </td><td>7882</td><td>42  </td><td>5   </td><td>1   </td></tr>\n",
       "\t<tr><th scope=row>5</th><td> 4  </td><td>53  </td><td>2   </td><td>2   </td><td>1   </td><td>1   </td><td>1   </td><td>4870</td><td>24  </td><td>2   </td><td>2   </td></tr>\n",
       "\t<tr><th scope=row>8</th><td> 7  </td><td>35  </td><td>2   </td><td>3   </td><td>3   </td><td>1   </td><td>2   </td><td>6948</td><td>36  </td><td>2   </td><td>1   </td></tr>\n",
       "\t<tr><th scope=row>10</th><td> 9  </td><td>28  </td><td>2   </td><td>3   </td><td>2   </td><td>1   </td><td>2   </td><td>5234</td><td>30  </td><td>2   </td><td>2   </td></tr>\n",
       "\t<tr><th scope=row>11</th><td>10  </td><td>25  </td><td>1   </td><td>2   </td><td>3   </td><td>1   </td><td>2   </td><td>1295</td><td>12  </td><td>2   </td><td>2   </td></tr>\n",
       "</tbody>\n",
       "</table>\n"
      ],
      "text/latex": [
       "\\begin{tabular}{r|lllllllllll}\n",
       "  & X. & Age & Sex & Job & Housing & Saving.accounts & Checking.account & Credit.amount & Duration & Purpose & Credit.Risks\\\\\n",
       "\\hline\n",
       "\t2 &  1   & 22   & 1    & 2    & 2    & 1    & 2    & 5951 & 48   & 6    & 2   \\\\\n",
       "\t4 &  3   & 45   & 2    & 2    & 1    & 1    & 1    & 7882 & 42   & 5    & 1   \\\\\n",
       "\t5 &  4   & 53   & 2    & 2    & 1    & 1    & 1    & 4870 & 24   & 2    & 2   \\\\\n",
       "\t8 &  7   & 35   & 2    & 3    & 3    & 1    & 2    & 6948 & 36   & 2    & 1   \\\\\n",
       "\t10 &  9   & 28   & 2    & 3    & 2    & 1    & 2    & 5234 & 30   & 2    & 2   \\\\\n",
       "\t11 & 10   & 25   & 1    & 2    & 3    & 1    & 2    & 1295 & 12   & 2    & 2   \\\\\n",
       "\\end{tabular}\n"
      ],
      "text/markdown": [
       "\n",
       "| <!--/--> | X. | Age | Sex | Job | Housing | Saving.accounts | Checking.account | Credit.amount | Duration | Purpose | Credit.Risks | \n",
       "|---|---|---|---|---|---|\n",
       "| 2 |  1   | 22   | 1    | 2    | 2    | 1    | 2    | 5951 | 48   | 6    | 2    | \n",
       "| 4 |  3   | 45   | 2    | 2    | 1    | 1    | 1    | 7882 | 42   | 5    | 1    | \n",
       "| 5 |  4   | 53   | 2    | 2    | 1    | 1    | 1    | 4870 | 24   | 2    | 2    | \n",
       "| 8 |  7   | 35   | 2    | 3    | 3    | 1    | 2    | 6948 | 36   | 2    | 1    | \n",
       "| 10 |  9   | 28   | 2    | 3    | 2    | 1    | 2    | 5234 | 30   | 2    | 2    | \n",
       "| 11 | 10   | 25   | 1    | 2    | 3    | 1    | 2    | 1295 | 12   | 2    | 2    | \n",
       "\n",
       "\n"
      ],
      "text/plain": [
       "   X. Age Sex Job Housing Saving.accounts Checking.account Credit.amount\n",
       "2   1 22  1   2   2       1               2                5951         \n",
       "4   3 45  2   2   1       1               1                7882         \n",
       "5   4 53  2   2   1       1               1                4870         \n",
       "8   7 35  2   3   3       1               2                6948         \n",
       "10  9 28  2   3   2       1               2                5234         \n",
       "11 10 25  1   2   3       1               2                1295         \n",
       "   Duration Purpose Credit.Risks\n",
       "2  48       6       2           \n",
       "4  42       5       1           \n",
       "5  24       2       2           \n",
       "8  36       2       1           \n",
       "10 30       2       2           \n",
       "11 12       2       2           "
      ]
     },
     "metadata": {},
     "output_type": "display_data"
    }
   ],
   "source": [
    "#Data normalization\n",
    "knndata$Sex<-as.numeric(knndata$Sex)\n",
    "knndata$Housing<-as.numeric(knndata$Housing)\n",
    "knndata$Saving.accounts<-as.numeric(knndata$Saving.accounts)\n",
    "knndata$Checking.account<-as.numeric(knndata$Checking.account)\n",
    "knndata$Purpose<-as.numeric(knndata$Purpose)\n",
    "knndata<-na.omit(knndata)\n",
    "head(knndata)\n"
   ]
  },
  {
   "cell_type": "code",
   "execution_count": 102,
   "metadata": {
    "collapsed": false
   },
   "outputs": [
    {
     "data": {
      "text/html": [
       "522"
      ],
      "text/latex": [
       "522"
      ],
      "text/markdown": [
       "522"
      ],
      "text/plain": [
       "[1] 522"
      ]
     },
     "metadata": {},
     "output_type": "display_data"
    }
   ],
   "source": [
    "nrow(knndata)"
   ]
  },
  {
   "cell_type": "code",
   "execution_count": 103,
   "metadata": {
    "collapsed": false
   },
   "outputs": [],
   "source": [
    "#Divide training and testing data\n",
    "n <- 1:122\n",
    "train <- knndata[-n,]\n",
    "test <- knndata[n,]\n",
    "\n",
    "\n",
    "test.df <- knndata$Credit.Risks[n]\n",
    "train.df <- knndata$Credit.Risks[-n]\n",
    "\n",
    "knn.5 <-  knn(train, test, train.df, k=5)"
   ]
  },
  {
   "cell_type": "markdown",
   "metadata": {},
   "source": [
    "## Apply knn for different sampling rates."
   ]
  },
  {
   "cell_type": "code",
   "execution_count": 104,
   "metadata": {
    "collapsed": false
   },
   "outputs": [
    {
     "name": "stdout",
     "output_type": "stream",
     "text": [
      "    k misclassification.rate\n",
      "1   1              0.4980843\n",
      "2   2              0.4693487\n",
      "3   3              0.4932950\n",
      "4   4              0.5124521\n",
      "5   5              0.4980843\n",
      "6   6              0.4980843\n",
      "7   7              0.5028736\n",
      "8   8              0.4837165\n",
      "9   9              0.5220307\n",
      "10 10              0.4741379\n",
      "11 11              0.4932950\n",
      "12 12              0.5028736\n",
      "13 13              0.5076628\n",
      "14 14              0.4885057\n",
      "15 15              0.4885057\n",
      "16 16              0.4693487\n",
      "17 17              0.4932950\n",
      "18 18              0.5028736\n",
      "19 19              0.4980843\n",
      "20 20              0.4597701\n"
     ]
    }
   ],
   "source": [
    "n.points<-nrow(knndata)\n",
    "out=NULL\n",
    "sampling.rate <-0.6\n",
    "num.test.set.labels<- n.points* (1 - sampling.rate)\n",
    "training<-sample(1:n.points, sampling.rate*n.points, replace=FALSE)\n",
    "train<-subset(knndata[training,])\n",
    "\n",
    "testing<-setdiff(1:n.points,training)\n",
    "test<-subset(knndata[testing,])\n",
    "\n",
    "cl<- knndata$Credit.Risks[training]\n",
    "true.labels<-knndata$Credit.Risks[testing]\n",
    "\n",
    "a<-knn(train,test,cl,k=3)\n",
    "for(k in 1:20) {\n",
    "  #print(k)\n",
    "  predicted.labels <- knn(train,test,cl,k)\n",
    "  num.incorrect.labels<-sum(predicted.labels !=true.labels)\n",
    "  misclassification.rate<-num.incorrect.labels/num.test.set.labels\n",
    "  #print(misclassification.rate)\n",
    "  out=rbind(out,data.frame(k,misclassification.rate))\n",
    "}\n",
    "\n",
    "print(out)\n"
   ]
  },
  {
   "cell_type": "code",
   "execution_count": 105,
   "metadata": {
    "collapsed": false
   },
   "outputs": [
    {
     "name": "stdout",
     "output_type": "stream",
     "text": [
      "   misclassification.rate\n",
      "1               0.4661558\n",
      "2               0.4342273\n",
      "3               0.4725415\n",
      "4               0.4342273\n",
      "5               0.4661558\n",
      "6               0.4533844\n",
      "7               0.4725415\n",
      "8               0.4533844\n",
      "9               0.4725415\n",
      "10              0.4278416\n",
      "11              0.4661558\n",
      "12              0.4342273\n",
      "13              0.4469987\n",
      "14              0.4533844\n",
      "15              0.4469987\n",
      "16              0.4406130\n",
      "17              0.4725415\n",
      "18              0.4469987\n",
      "19              0.4597701\n",
      "20              0.4533844\n"
     ]
    }
   ],
   "source": [
    "n.points<-nrow(knndata)\n",
    "out1=NULL\n",
    "sampling.rate <-0.7\n",
    "num.test.set.labels<- n.points* (1 - sampling.rate)\n",
    "training<-sample(1:n.points, sampling.rate*n.points, replace=FALSE)\n",
    "train<-subset(knndata[training,])\n",
    "\n",
    "testing<-setdiff(1:n.points,training)\n",
    "test<-subset(knndata[testing,])\n",
    "\n",
    "cl<- knndata$Credit.Risks[training]\n",
    "true.labels<-knndata$Credit.Risks[testing]\n",
    "\n",
    "a<-knn(train,test,cl,k=3)\n",
    "for(k in 1:20) {\n",
    "  #print(k)\n",
    "  predicted.labels <- knn(train,test,cl,k)\n",
    "  num.incorrect.labels<-sum(predicted.labels !=true.labels)\n",
    "  misclassification.rate<-num.incorrect.labels/num.test.set.labels\n",
    "  #print(misclassification.rate)\n",
    "  out1=rbind(out1,data.frame(misclassification.rate))\n",
    "}\n",
    "\n",
    "print(out1)\n"
   ]
  },
  {
   "cell_type": "code",
   "execution_count": 106,
   "metadata": {
    "collapsed": false
   },
   "outputs": [
    {
     "name": "stdout",
     "output_type": "stream",
     "text": [
      "   misclassification.rate\n",
      "1               0.4885057\n",
      "2               0.4501916\n",
      "3               0.4597701\n",
      "4               0.4693487\n",
      "5               0.4597701\n",
      "6               0.4118774\n",
      "7               0.4597701\n",
      "8               0.4980843\n",
      "9               0.4501916\n",
      "10              0.4310345\n",
      "11              0.4885057\n",
      "12              0.4597701\n",
      "13              0.4310345\n",
      "14              0.4214559\n",
      "15              0.4406130\n",
      "16              0.4597701\n",
      "17              0.4693487\n",
      "18              0.4597701\n",
      "19              0.4693487\n",
      "20              0.4310345\n"
     ]
    }
   ],
   "source": [
    "n.points<-nrow(knndata)\n",
    "out2=NULL\n",
    "sampling.rate <-0.8\n",
    "num.test.set.labels<- n.points* (1 - sampling.rate)\n",
    "training<-sample(1:n.points, sampling.rate*n.points, replace=FALSE)\n",
    "train<-subset(knndata[training,])\n",
    "\n",
    "testing<-setdiff(1:n.points,training)\n",
    "test<-subset(knndata[testing,])\n",
    "\n",
    "cl<- knndata$Credit.Risks[training]\n",
    "true.labels<-knndata$Credit.Risks[testing]\n",
    "\n",
    "a<-knn(train,test,cl,k=3)\n",
    "for(k in 1:20) {\n",
    "  #print(k)\n",
    "  predicted.labels <- knn(train,test,cl,k)\n",
    "  num.incorrect.labels<-sum(predicted.labels !=true.labels)\n",
    "  misclassification.rate<-num.incorrect.labels/num.test.set.labels\n",
    "  #print(misclassification.rate)\n",
    "  out2=rbind(out2,data.frame(misclassification.rate))\n",
    "}\n",
    "\n",
    "print(out2)\n"
   ]
  },
  {
   "cell_type": "code",
   "execution_count": 107,
   "metadata": {
    "collapsed": false
   },
   "outputs": [
    {
     "name": "stdout",
     "output_type": "stream",
     "text": [
      "   misclassification.rate\n",
      "1               0.4214559\n",
      "2               0.4022989\n",
      "3               0.3639847\n",
      "4               0.4406130\n",
      "5               0.3639847\n",
      "6               0.3639847\n",
      "7               0.3256705\n",
      "8               0.4022989\n",
      "9               0.3831418\n",
      "10              0.3639847\n",
      "11              0.4214559\n",
      "12              0.4214559\n",
      "13              0.3831418\n",
      "14              0.3639847\n",
      "15              0.3448276\n",
      "16              0.4022989\n",
      "17              0.3639847\n",
      "18              0.3831418\n",
      "19              0.3639847\n",
      "20              0.3256705\n"
     ]
    }
   ],
   "source": [
    "n.points<-nrow(knndata)\n",
    "out3=NULL\n",
    "sampling.rate <-0.9\n",
    "num.test.set.labels<- n.points* (1 - sampling.rate)\n",
    "training<-sample(1:n.points, sampling.rate*n.points, replace=FALSE)\n",
    "train<-subset(knndata[training,])\n",
    "\n",
    "testing<-setdiff(1:n.points,training)\n",
    "test<-subset(knndata[testing,])\n",
    "\n",
    "cl<- knndata$Credit.Risks[training]\n",
    "true.labels<-knndata$Credit.Risks[testing]\n",
    "\n",
    "a<-knn(train,test,cl,k=3)\n",
    "for(k in 1:20) {\n",
    "  #print(k)\n",
    "  predicted.labels <- knn(train,test,cl,k)\n",
    "  num.incorrect.labels<-sum(predicted.labels !=true.labels)\n",
    "  misclassification.rate<-num.incorrect.labels/num.test.set.labels\n",
    "  #print(misclassification.rate)\n",
    "  out3=rbind(out3,data.frame(misclassification.rate))\n",
    "}\n",
    "print(out3)\n"
   ]
  },
  {
   "cell_type": "code",
   "execution_count": 108,
   "metadata": {
    "collapsed": false
   },
   "outputs": [
    {
     "name": "stdout",
     "output_type": "stream",
     "text": [
      "   misclassification.rate\n",
      "1               0.4865900\n",
      "2               0.4636015\n",
      "3               0.4827586\n",
      "4               0.4636015\n",
      "5               0.4406130\n",
      "6               0.4559387\n",
      "7               0.4444444\n",
      "8               0.4406130\n",
      "9               0.4406130\n",
      "10              0.4406130\n",
      "11              0.4521073\n",
      "12              0.5057471\n",
      "13              0.4712644\n",
      "14              0.4712644\n",
      "15              0.4827586\n",
      "16              0.4789272\n",
      "17              0.4827586\n",
      "18              0.4674330\n",
      "19              0.4597701\n",
      "20              0.4674330\n"
     ]
    }
   ],
   "source": [
    "n.points<-nrow(knndata)\n",
    "out4=NULL\n",
    "sampling.rate <-0.5\n",
    "num.test.set.labels<- n.points* (1 - sampling.rate)\n",
    "training<-sample(1:n.points, sampling.rate*n.points, replace=FALSE)\n",
    "train<-subset(knndata[training,])\n",
    "\n",
    "testing<-setdiff(1:n.points,training)\n",
    "test<-subset(knndata[testing,])\n",
    "\n",
    "cl<- knndata$Credit.Risks[training]\n",
    "true.labels<-knndata$Credit.Risks[testing]\n",
    "\n",
    "a<-knn(train,test,cl,k=3)\n",
    "for(k in 1:20) {\n",
    "  #print(k)\n",
    "  predicted.labels <- knn(train,test,cl,k)\n",
    "  num.incorrect.labels<-sum(predicted.labels !=true.labels)\n",
    "  misclassification.rate<-num.incorrect.labels/num.test.set.labels\n",
    "  #print(misclassification.rate)\n",
    "  out4=rbind(out4,data.frame(misclassification.rate))\n",
    "}\n",
    "\n",
    "print(out4)\n"
   ]
  },
  {
   "cell_type": "code",
   "execution_count": 109,
   "metadata": {
    "collapsed": false
   },
   "outputs": [],
   "source": [
    "output<-cbind.data.frame( out,out1,out2,out3,out4)\n",
    "colnames(output)<-c(\"k\",\"train=60\",\"train=70\",\"train=80\",\"train=90\",\"train=50\")"
   ]
  },
  {
   "cell_type": "markdown",
   "metadata": {},
   "source": [
    "## Output for k=1 to 20 where training rates vary from 50% to 90% of data"
   ]
  },
  {
   "cell_type": "code",
   "execution_count": 110,
   "metadata": {
    "collapsed": false
   },
   "outputs": [
    {
     "data": {
      "text/html": [
       "<table>\n",
       "<thead><tr><th scope=col>k</th><th scope=col>train=60</th><th scope=col>train=70</th><th scope=col>train=80</th><th scope=col>train=90</th><th scope=col>train=50</th></tr></thead>\n",
       "<tbody>\n",
       "\t<tr><td>1        </td><td>0.4980843</td><td>0.4661558</td><td>0.4885057</td><td>0.4214559</td><td>0.4865900</td></tr>\n",
       "\t<tr><td>2        </td><td>0.4693487</td><td>0.4342273</td><td>0.4501916</td><td>0.4022989</td><td>0.4636015</td></tr>\n",
       "\t<tr><td>3        </td><td>0.4932950</td><td>0.4725415</td><td>0.4597701</td><td>0.3639847</td><td>0.4827586</td></tr>\n",
       "\t<tr><td>4        </td><td>0.5124521</td><td>0.4342273</td><td>0.4693487</td><td>0.4406130</td><td>0.4636015</td></tr>\n",
       "\t<tr><td>5        </td><td>0.4980843</td><td>0.4661558</td><td>0.4597701</td><td>0.3639847</td><td>0.4406130</td></tr>\n",
       "\t<tr><td>6        </td><td>0.4980843</td><td>0.4533844</td><td>0.4118774</td><td>0.3639847</td><td>0.4559387</td></tr>\n",
       "</tbody>\n",
       "</table>\n"
      ],
      "text/latex": [
       "\\begin{tabular}{r|llllll}\n",
       " k & train=60 & train=70 & train=80 & train=90 & train=50\\\\\n",
       "\\hline\n",
       "\t 1         & 0.4980843 & 0.4661558 & 0.4885057 & 0.4214559 & 0.4865900\\\\\n",
       "\t 2         & 0.4693487 & 0.4342273 & 0.4501916 & 0.4022989 & 0.4636015\\\\\n",
       "\t 3         & 0.4932950 & 0.4725415 & 0.4597701 & 0.3639847 & 0.4827586\\\\\n",
       "\t 4         & 0.5124521 & 0.4342273 & 0.4693487 & 0.4406130 & 0.4636015\\\\\n",
       "\t 5         & 0.4980843 & 0.4661558 & 0.4597701 & 0.3639847 & 0.4406130\\\\\n",
       "\t 6         & 0.4980843 & 0.4533844 & 0.4118774 & 0.3639847 & 0.4559387\\\\\n",
       "\\end{tabular}\n"
      ],
      "text/markdown": [
       "\n",
       "k | train=60 | train=70 | train=80 | train=90 | train=50 | \n",
       "|---|---|---|---|---|---|\n",
       "| 1         | 0.4980843 | 0.4661558 | 0.4885057 | 0.4214559 | 0.4865900 | \n",
       "| 2         | 0.4693487 | 0.4342273 | 0.4501916 | 0.4022989 | 0.4636015 | \n",
       "| 3         | 0.4932950 | 0.4725415 | 0.4597701 | 0.3639847 | 0.4827586 | \n",
       "| 4         | 0.5124521 | 0.4342273 | 0.4693487 | 0.4406130 | 0.4636015 | \n",
       "| 5         | 0.4980843 | 0.4661558 | 0.4597701 | 0.3639847 | 0.4406130 | \n",
       "| 6         | 0.4980843 | 0.4533844 | 0.4118774 | 0.3639847 | 0.4559387 | \n",
       "\n",
       "\n"
      ],
      "text/plain": [
       "  k train=60  train=70  train=80  train=90  train=50 \n",
       "1 1 0.4980843 0.4661558 0.4885057 0.4214559 0.4865900\n",
       "2 2 0.4693487 0.4342273 0.4501916 0.4022989 0.4636015\n",
       "3 3 0.4932950 0.4725415 0.4597701 0.3639847 0.4827586\n",
       "4 4 0.5124521 0.4342273 0.4693487 0.4406130 0.4636015\n",
       "5 5 0.4980843 0.4661558 0.4597701 0.3639847 0.4406130\n",
       "6 6 0.4980843 0.4533844 0.4118774 0.3639847 0.4559387"
      ]
     },
     "metadata": {},
     "output_type": "display_data"
    }
   ],
   "source": [
    "head(output)"
   ]
  },
  {
   "cell_type": "code",
   "execution_count": null,
   "metadata": {
    "collapsed": true
   },
   "outputs": [],
   "source": []
  }
 ],
 "metadata": {
  "kernelspec": {
   "display_name": "R",
   "language": "R",
   "name": "ir"
  },
  "language_info": {
   "codemirror_mode": "r",
   "file_extension": ".r",
   "mimetype": "text/x-r-source",
   "name": "R",
   "pygments_lexer": "r",
   "version": "3.3.2"
  }
 },
 "nbformat": 4,
 "nbformat_minor": 2
}
